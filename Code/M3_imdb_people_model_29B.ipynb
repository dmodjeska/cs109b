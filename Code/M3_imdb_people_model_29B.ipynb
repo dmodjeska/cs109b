{
 "cells": [
  {
   "cell_type": "markdown",
   "metadata": {
    "deletable": true,
    "editable": true
   },
   "source": [
    "# CS 109B - Course Project - Team 14\n",
    "## Genre Prediction - IMDb - by Directors, Actors, Writers & Musicians"
   ]
  },
  {
   "cell_type": "code",
   "execution_count": 154,
   "metadata": {
    "collapsed": false,
    "deletable": true,
    "editable": true
   },
   "outputs": [],
   "source": [
    "import sqlite3 \n",
    "import re\n",
    "\n",
    "import numpy as np\n",
    "import os.path as op\n",
    "import pandas as pd\n",
    "import math \n",
    "\n",
    "from matplotlib import pyplot as plt\n",
    "from sklearn.cross_validation import KFold\n",
    "from sklearn.cross_validation import train_test_split as sk_split\n",
    "from sklearn.decomposition import TruncatedSVD as tSVD\n",
    "from sklearn.feature_extraction.text import CountVectorizer\n",
    "from sklearn.feature_extraction.text import TfidfVectorizer\n",
    "from scipy.io import mmwrite\n",
    "from sklearn.discriminant_analysis import LinearDiscriminantAnalysis as LDA\n",
    "from sklearn.discriminant_analysis import QuadraticDiscriminantAnalysis as QDA\n",
    "from sklearn.ensemble import AdaBoostClassifier as Boost\n",
    "from sklearn.ensemble import RandomForestClassifier as RFC\n",
    "from sklearn.linear_model import LinearRegression as Lin_Reg\n",
    "from sklearn.linear_model import LogisticRegression as Log_Reg\n",
    "from sklearn.neighbors import KNeighborsClassifier as KNN\n",
    "from sklearn.svm import SVC\n",
    "from sklearn.metrics import hamming_loss\n",
    "from sklearn.metrics import precision_score\n",
    "from sklearn.metrics import recall_score\n",
    "\n",
    "from IPython.display import display, HTML, Markdown\n",
    "%matplotlib inline\n",
    "plt.style.use('ggplot') \n",
    "def printmd(string):\n",
    "    display(Markdown(string))"
   ]
  },
  {
   "cell_type": "code",
   "execution_count": 155,
   "metadata": {
    "collapsed": false,
    "deletable": true,
    "editable": true
   },
   "outputs": [],
   "source": [
    "movie_fields = ['imdb_id',\n",
    "                'Action','Adventure','Animation','Comedy','Crime','Documentary','Drama',\n",
    "                'Family','Fantasy','History','Horror','Music','Mystery',\n",
    "                'Romance','Sci-Fi','Thriller','War','Western']\n",
    "\n",
    "genres = movie_fields[1:len(movie_fields)]\n",
    "\n",
    "num_genres = len(genres)\n",
    "num_non_genre_cols = 1\n",
    "\n",
    "train_percent = 80"
   ]
  },
  {
   "cell_type": "markdown",
   "metadata": {
    "deletable": true,
    "editable": true
   },
   "source": [
    "##import data"
   ]
  },
  {
   "cell_type": "code",
   "execution_count": 156,
   "metadata": {
    "collapsed": false,
    "deletable": true,
    "editable": true
   },
   "outputs": [],
   "source": [
    "#import clean IMDB data\n",
    "\n",
    "#ignore ,'Game-Show','News','Reality-TV', 'Biography','Adult','Film-Noir','Musical','Short','Sport','Talk-Show'\n",
    "df_im = pd.read_csv( './imdb_movies_trim.csv'\n",
    "                    , encoding='utf-8'\n",
    "                    , usecols = movie_fields)\n",
    "#reorder the columns\n",
    "df_im = df_im[movie_fields]\n",
    "#make genre names consistent with tmdb \n",
    "#df_im = df_im.rename(columns=['imdb_id'] + genres)\n",
    "\n",
    "#import people (ignore name)\n",
    "df_im_people = pd.read_csv('./imdb_people_trim.csv'\n",
    "                           ,encoding='utf-8'\n",
    "                           ,usecols = ['imdb_id','person_id','role_id'])\n",
    "df_im_people.drop_duplicates(inplace=True)"
   ]
  },
  {
   "cell_type": "code",
   "execution_count": 157,
   "metadata": {
    "collapsed": false,
    "deletable": true,
    "editable": true
   },
   "outputs": [
    {
     "name": "stdout",
     "output_type": "stream",
     "text": [
      "\n",
      "Data dimensions: (36007, 19)\n"
     ]
    },
    {
     "data": {
      "text/html": [
       "<div>\n",
       "<table border=\"1\" class=\"dataframe\">\n",
       "  <thead>\n",
       "    <tr style=\"text-align: right;\">\n",
       "      <th></th>\n",
       "      <th>imdb_id</th>\n",
       "      <th>Action</th>\n",
       "      <th>Adventure</th>\n",
       "      <th>Animation</th>\n",
       "      <th>Comedy</th>\n",
       "      <th>Crime</th>\n",
       "      <th>Documentary</th>\n",
       "      <th>Drama</th>\n",
       "      <th>Family</th>\n",
       "      <th>Fantasy</th>\n",
       "      <th>History</th>\n",
       "      <th>Horror</th>\n",
       "      <th>Music</th>\n",
       "      <th>Mystery</th>\n",
       "      <th>Romance</th>\n",
       "      <th>Sci-Fi</th>\n",
       "      <th>Thriller</th>\n",
       "      <th>War</th>\n",
       "      <th>Western</th>\n",
       "    </tr>\n",
       "  </thead>\n",
       "  <tbody>\n",
       "    <tr>\n",
       "      <th>0</th>\n",
       "      <td>114709</td>\n",
       "      <td>0</td>\n",
       "      <td>1</td>\n",
       "      <td>1</td>\n",
       "      <td>1</td>\n",
       "      <td>0</td>\n",
       "      <td>0</td>\n",
       "      <td>0</td>\n",
       "      <td>1</td>\n",
       "      <td>1</td>\n",
       "      <td>0</td>\n",
       "      <td>0</td>\n",
       "      <td>0</td>\n",
       "      <td>0</td>\n",
       "      <td>0</td>\n",
       "      <td>0</td>\n",
       "      <td>0</td>\n",
       "      <td>0</td>\n",
       "      <td>0</td>\n",
       "    </tr>\n",
       "    <tr>\n",
       "      <th>1</th>\n",
       "      <td>113497</td>\n",
       "      <td>1</td>\n",
       "      <td>1</td>\n",
       "      <td>0</td>\n",
       "      <td>0</td>\n",
       "      <td>0</td>\n",
       "      <td>0</td>\n",
       "      <td>0</td>\n",
       "      <td>1</td>\n",
       "      <td>1</td>\n",
       "      <td>0</td>\n",
       "      <td>0</td>\n",
       "      <td>0</td>\n",
       "      <td>0</td>\n",
       "      <td>0</td>\n",
       "      <td>0</td>\n",
       "      <td>1</td>\n",
       "      <td>0</td>\n",
       "      <td>0</td>\n",
       "    </tr>\n",
       "    <tr>\n",
       "      <th>2</th>\n",
       "      <td>113228</td>\n",
       "      <td>0</td>\n",
       "      <td>0</td>\n",
       "      <td>0</td>\n",
       "      <td>1</td>\n",
       "      <td>0</td>\n",
       "      <td>0</td>\n",
       "      <td>0</td>\n",
       "      <td>0</td>\n",
       "      <td>0</td>\n",
       "      <td>0</td>\n",
       "      <td>0</td>\n",
       "      <td>0</td>\n",
       "      <td>0</td>\n",
       "      <td>1</td>\n",
       "      <td>0</td>\n",
       "      <td>0</td>\n",
       "      <td>0</td>\n",
       "      <td>0</td>\n",
       "    </tr>\n",
       "    <tr>\n",
       "      <th>3</th>\n",
       "      <td>114885</td>\n",
       "      <td>0</td>\n",
       "      <td>0</td>\n",
       "      <td>0</td>\n",
       "      <td>1</td>\n",
       "      <td>0</td>\n",
       "      <td>0</td>\n",
       "      <td>1</td>\n",
       "      <td>0</td>\n",
       "      <td>0</td>\n",
       "      <td>0</td>\n",
       "      <td>0</td>\n",
       "      <td>0</td>\n",
       "      <td>0</td>\n",
       "      <td>1</td>\n",
       "      <td>0</td>\n",
       "      <td>0</td>\n",
       "      <td>0</td>\n",
       "      <td>0</td>\n",
       "    </tr>\n",
       "    <tr>\n",
       "      <th>4</th>\n",
       "      <td>113041</td>\n",
       "      <td>0</td>\n",
       "      <td>0</td>\n",
       "      <td>0</td>\n",
       "      <td>1</td>\n",
       "      <td>0</td>\n",
       "      <td>0</td>\n",
       "      <td>0</td>\n",
       "      <td>1</td>\n",
       "      <td>0</td>\n",
       "      <td>0</td>\n",
       "      <td>0</td>\n",
       "      <td>0</td>\n",
       "      <td>0</td>\n",
       "      <td>1</td>\n",
       "      <td>0</td>\n",
       "      <td>0</td>\n",
       "      <td>0</td>\n",
       "      <td>0</td>\n",
       "    </tr>\n",
       "  </tbody>\n",
       "</table>\n",
       "</div>"
      ],
      "text/plain": [
       "   imdb_id  Action  Adventure  Animation  Comedy  Crime  Documentary  Drama  \\\n",
       "0   114709       0          1          1       1      0            0      0   \n",
       "1   113497       1          1          0       0      0            0      0   \n",
       "2   113228       0          0          0       1      0            0      0   \n",
       "3   114885       0          0          0       1      0            0      1   \n",
       "4   113041       0          0          0       1      0            0      0   \n",
       "\n",
       "   Family  Fantasy  History  Horror  Music  Mystery  Romance  Sci-Fi  \\\n",
       "0       1        1        0       0      0        0        0       0   \n",
       "1       1        1        0       0      0        0        0       0   \n",
       "2       0        0        0       0      0        0        1       0   \n",
       "3       0        0        0       0      0        0        1       0   \n",
       "4       1        0        0       0      0        0        1       0   \n",
       "\n",
       "   Thriller  War  Western  \n",
       "0         0    0        0  \n",
       "1         1    0        0  \n",
       "2         0    0        0  \n",
       "3         0    0        0  \n",
       "4         0    0        0  "
      ]
     },
     "metadata": {},
     "output_type": "display_data"
    }
   ],
   "source": [
    "# get overview of data\n",
    "print\n",
    "print(\"Data dimensions: \" + str(df_im.shape))\n",
    "display(df_im.head())"
   ]
  },
  {
   "cell_type": "code",
   "execution_count": 158,
   "metadata": {
    "collapsed": false,
    "deletable": true,
    "editable": true
   },
   "outputs": [],
   "source": [
    "#function for plotting histograms\n",
    "def plot_hist(data, title, x_label, face, axes, log=False):\n",
    "    \n",
    "    axes.hist(   data, \n",
    "                 50, \n",
    "                 normed=0, \n",
    "                 facecolor=face, \n",
    "                 alpha=0.75,\n",
    "                 log = log\n",
    "             )\n",
    "    \n",
    "    axes.set_title(title)\n",
    "    axes.set_xlabel(x_label)\n",
    "    str_y_label = 'frequency'\n",
    "    if log:\n",
    "        str_y_label = str_y_label + ' (log)'\n",
    "    \n",
    "    axes.set_ylabel(str_y_label)\n",
    "    \n",
    "    return axes"
   ]
  },
  {
   "cell_type": "code",
   "execution_count": 159,
   "metadata": {
    "collapsed": false,
    "deletable": true,
    "editable": true
   },
   "outputs": [
    {
     "data": {
      "image/png": "[encoded data removed]",
      "text/plain": [
       "<matplotlib.figure.Figure at 0x7f942642d8d0>"
      ]
     },
     "metadata": {},
     "output_type": "display_data"
    }
   ],
   "source": [
    "#plot histograms for each marker and each demographics\n",
    "#in the following, instead of adding one subplot to a 4x2 grid at a time\n",
    "#I can get all the subplot axes for the grid in one line \n",
    "fig, ax1 = plt.subplots(1, 1, figsize=(10, 10))\n",
    "\n",
    "ax1 = plot_hist(df_im_people['role_id'].values,\n",
    "                'Role distribution', \n",
    "                'roles', \n",
    "                'green', \n",
    "                ax1, log = True)\n",
    "\n",
    "plt.tight_layout()\n",
    "plt.show()"
   ]
  },
  {
   "cell_type": "markdown",
   "metadata": {
    "deletable": true,
    "editable": true
   },
   "source": [
    "For 36,000 movies we have around 2 million people/movie/role combinations. We need to get that down. Ae will start by filtering out some roles. While Actors is the bigest role we will keep it as we suspect it may be highly correlated to genre.\n",
    "\n",
    "role_id\t/ role\n",
    "\n",
    "Use These Roles\n",
    "- 1\tdirector\n",
    "- 2\twriter\n",
    "- 3\tcast\n",
    "- 5\toriginal music\n",
    "\n",
    "Ignore these Roles\n",
    "- 4\tproduction-manager\n",
    "- 6\tcasting director\n",
    "- 7\tvisual effects\t"
   ]
  },
  {
   "cell_type": "code",
   "execution_count": 160,
   "metadata": {
    "collapsed": true,
    "deletable": true,
    "editable": true
   },
   "outputs": [],
   "source": [
    "#write movie_people_role data to in-memory SQLite db for preprocessing\n",
    "con = sqlite3.connect(\":memory:\")\n",
    "#con.isolation_level = None\n",
    "c = con.cursor()\n",
    "\n",
    "df_im_people.to_sql('movie_people_role', con, index=False)\n",
    "#df_im_people = None #Free up memory "
   ]
  },
  {
   "cell_type": "markdown",
   "metadata": {
    "deletable": true,
    "editable": true
   },
   "source": [
    "Get unique movie, person combinations\n",
    "\n",
    "a person may have more then one role in the movie.   \n",
    "Drop role and get distinct movie, person combination  \n",
    "Consider only director,writer,cast and original music roles  "
   ]
  },
  {
   "cell_type": "code",
   "execution_count": 161,
   "metadata": {
    "collapsed": false,
    "deletable": true,
    "editable": true
   },
   "outputs": [
    {
     "data": {
      "text/plain": [
       "<sqlite3.Cursor at 0x7f9425ee0ce0>"
      ]
     },
     "execution_count": 161,
     "metadata": {},
     "output_type": "execute_result"
    }
   ],
   "source": [
    "c.execute('Create table movie_people as                                ' + \\\n",
    "          'SELECT imdb_id, person_id                                   ' + \\\n",
    "          '   , count(*) as roles                                      ' + \\\n",
    "          '   , sum(CASE role_id WHEN 3 THEN 1 ELSE 0 END) as is_actor ' + \\\n",
    "          'FROM movie_people_role                                      ' + \\\n",
    "          'WHERE role_id in (1,2,3,5)'\n",
    "          'GROUP BY imdb_id, person_id')\n",
    "\n",
    "#index movie_people for better query optimisation\n",
    "c.execute(\"CREATE UNIQUE INDEX IF NOT EXISTS pk_movie_person on movie_people (imdb_id, person_id)\")\n",
    "c.execute(\"CREATE UNIQUE INDEX IF NOT EXISTS person_movie    on movie_people (person_id,imdb_id)\")\n",
    "\n",
    "#Free up memory \n",
    "c.execute(\"DROP TABLE movie_people_role\")"
   ]
  },
  {
   "cell_type": "markdown",
   "metadata": {
    "deletable": true,
    "editable": true
   },
   "source": [
    "Count how many movies a person has been involved in and the number of roles"
   ]
  },
  {
   "cell_type": "code",
   "execution_count": 162,
   "metadata": {
    "collapsed": false,
    "deletable": true,
    "editable": true
   },
   "outputs": [
    {
     "data": {
      "text/plain": [
       "<sqlite3.Cursor at 0x7f9425ee0ce0>"
      ]
     },
     "execution_count": 162,
     "metadata": {},
     "output_type": "execute_result"
    }
   ],
   "source": [
    "c.execute('Create table people as ' + \\\n",
    "          'SELECT DISTINCT person_id, count(imdb_id) as movies, sum(roles) as roles ' + \\\n",
    "          'FROM movie_people ' + \\\n",
    "          'GROUP BY person_id')\n",
    "\n",
    "#index people for better query optimisation\n",
    "c.execute(\"CREATE UNIQUE INDEX IF NOT EXISTS pk_person       on people (person_id)\")\n",
    "c.execute(\"CREATE INDEX IF NOT EXISTS person_movie_count     on people (movies, person_id)\")"
   ]
  },
  {
   "cell_type": "markdown",
   "metadata": {
    "deletable": true,
    "editable": true
   },
   "source": [
    "Look at the total number of movies a person is involved and the number of roles"
   ]
  },
  {
   "cell_type": "code",
   "execution_count": 163,
   "metadata": {
    "collapsed": false,
    "deletable": true,
    "editable": true
   },
   "outputs": [
    {
     "data": {
      "image/png": "[encoded data removed]",
      "text/plain": [
       "<matplotlib.figure.Figure at 0x7f942454e5d0>"
      ]
     },
     "metadata": {},
     "output_type": "display_data"
    },
    {
     "data": {
      "text/html": [
       "<div>\n",
       "<table border=\"1\" class=\"dataframe\">\n",
       "  <thead>\n",
       "    <tr style=\"text-align: right;\">\n",
       "      <th></th>\n",
       "      <th>movies</th>\n",
       "      <th>people</th>\n",
       "      <th>roles</th>\n",
       "    </tr>\n",
       "  </thead>\n",
       "  <tbody>\n",
       "    <tr>\n",
       "      <th>0</th>\n",
       "      <td>36003</td>\n",
       "      <td>1420793</td>\n",
       "      <td>1453194</td>\n",
       "    </tr>\n",
       "  </tbody>\n",
       "</table>\n",
       "</div>"
      ],
      "text/plain": [
       "   movies   people    roles\n",
       "0   36003  1420793  1453194"
      ]
     },
     "execution_count": 163,
     "metadata": {},
     "output_type": "execute_result"
    }
   ],
   "source": [
    "df_people = pd.read_sql('select * from people', con)\n",
    "\n",
    "strsql =  'select   count(distinct imdb_id)   as movies   ' + \\\n",
    "          '       , count(*) as people                    ' + \\\n",
    "          '       , Sum(roles) as roles                   ' + \\\n",
    "          'from movie_people                              ' \n",
    "df_movies_count = pd.read_sql(strsql, con)\n",
    "\n",
    "\n",
    "#plot histograms for each marker and each demographics\n",
    "#in the following, instead of adding one subplot to a 4x2 grid at a time\n",
    "#I can get all the subplot axes for the grid in one line \n",
    "fig, ((ax1, ax2)) = plt.subplots(1, 2, figsize=(10, 10))\n",
    "\n",
    "ax1 = plot_hist(df_people['movies'].values,\n",
    "                'Total movies per person', \n",
    "                'movies', \n",
    "                'green', \n",
    "                ax1,\n",
    "                log = True\n",
    "               )\n",
    "\n",
    "ax2 = plot_hist(df_people['roles'].values,\n",
    "                'Total roles per person', \n",
    "                'roles', \n",
    "                'red', \n",
    "                ax2,\n",
    "                log = True\n",
    "               )\n",
    "\n",
    "plt.yscale('log')                                   \n",
    "plt.tight_layout()\n",
    "plt.show()\n",
    "\n",
    "df_movies_count"
   ]
  },
  {
   "cell_type": "markdown",
   "metadata": {
    "deletable": true,
    "editable": true
   },
   "source": [
    "After filtering the roles, we still have 1.4 million people. The majority of people have been involved in only one or two movies. Selecting people who have been involved more than 10 movies reduced the number of people down to 419 thousand. The trade off is that it leaves ~2,00 movies with no people asigned to it."
   ]
  },
  {
   "cell_type": "code",
   "execution_count": 164,
   "metadata": {
    "collapsed": false,
    "deletable": true,
    "editable": true
   },
   "outputs": [
    {
     "data": {
      "image/png": "[encoded data removed]",
      "text/plain": [
       "<matplotlib.figure.Figure at 0x7f941fd02c50>"
      ]
     },
     "metadata": {},
     "output_type": "display_data"
    },
    {
     "data": {
      "text/html": [
       "<div>\n",
       "<table border=\"1\" class=\"dataframe\">\n",
       "  <thead>\n",
       "    <tr style=\"text-align: right;\">\n",
       "      <th></th>\n",
       "      <th>movies</th>\n",
       "      <th>people</th>\n",
       "      <th>roles</th>\n",
       "    </tr>\n",
       "  </thead>\n",
       "  <tbody>\n",
       "    <tr>\n",
       "      <th>0</th>\n",
       "      <td>32017</td>\n",
       "      <td>419060</td>\n",
       "      <td>429704</td>\n",
       "    </tr>\n",
       "  </tbody>\n",
       "</table>\n",
       "</div>"
      ],
      "text/plain": [
       "   movies  people   roles\n",
       "0   32017  419060  429704"
      ]
     },
     "execution_count": 164,
     "metadata": {},
     "output_type": "execute_result"
    }
   ],
   "source": [
    "df_people = pd.read_sql('select * from people where movies > 10', con)\n",
    "\n",
    "strsql =  'select count(distinct mp.imdb_id)   as movies ' + \\\n",
    "          '     , count(mp.person_id)          as people ' + \\\n",
    "          '     , sum(mp.roles)                as roles  ' + \\\n",
    "          'from people p                                 ' + \\\n",
    "          ' inner join movie_people mp                   ' + \\\n",
    "          '         on (p.person_id = mp.person_id)      ' + \\\n",
    "          'where p.movies > 10                           ' \n",
    "\n",
    "            \n",
    "df_movies_count = pd.read_sql(strsql, con)\n",
    "\n",
    "#plot histograms for each marker and each demographics\n",
    "#in the following, instead of adding one subplot to a 4x2 grid at a time\n",
    "#I can get all the subplot axes for the grid in one line \n",
    "fig, ((ax1, ax2)) = plt.subplots(1, 2, figsize=(10, 10))\n",
    "\n",
    "ax1 = plot_hist(df_people['movies'].values,\n",
    "                'Total movies per person', \n",
    "                'movies', \n",
    "                'green', \n",
    "                ax1, \n",
    "                True)\n",
    "\n",
    "ax2 = plot_hist(df_people['roles'].values,\n",
    "                'Total roles per person', \n",
    "                'roles', \n",
    "                'red', \n",
    "                ax2, \n",
    "                True)\n",
    "\n",
    "plt.tight_layout()\n",
    "plt.show()\n",
    "\n",
    "df_movies_count"
   ]
  },
  {
   "cell_type": "markdown",
   "metadata": {
    "deletable": true,
    "editable": true
   },
   "source": [
    "Merge movie responses and people matrix"
   ]
  },
  {
   "cell_type": "code",
   "execution_count": 165,
   "metadata": {
    "collapsed": true,
    "deletable": true,
    "editable": true
   },
   "outputs": [],
   "source": [
    "#extract the movie/people combinateions we are interested in\n",
    "strsql =  'select mp.imdb_id     as imdb_id              ' + \\\n",
    "          '     , mp.person_id   as person_id            ' + \\\n",
    "          'from people p                                 ' + \\\n",
    "          ' inner join movie_people mp                   ' + \\\n",
    "          '         on (p.person_id = mp.person_id)      ' + \\\n",
    "          'where p.movies > 10                           ' \n",
    "df_people = pd.read_sql(strsql, con)\n",
    "\n",
    "#pivot from stacked db list to 1 wide row per movie \n",
    "#columns now (imdb_id, person_1, person_2,...persion_n)\n",
    "df_people_xt = pd.crosstab(df_people.imdb_id, df_people.person_id, margins=False)\n",
    "\n",
    "#merge by movie_id to make sure the response and predictors align\n",
    "df_people_xt['imdb_id_p'] = df_people_xt.index\n",
    "data = pd.merge(left = df_im , right = df_people_xt, left_on='imdb_id', right_on='imdb_id_p')\n",
    "\n",
    "#drop duplicate IMDB_id column\n",
    "data = data.ix[:,:-2]"
   ]
  },
  {
   "cell_type": "markdown",
   "metadata": {
    "deletable": true,
    "editable": true
   },
   "source": [
    "split into (x and y) and (test and train) "
   ]
  },
  {
   "cell_type": "code",
   "execution_count": 166,
   "metadata": {
    "collapsed": false,
    "deletable": true,
    "editable": true
   },
   "outputs": [],
   "source": [
    "#split into x (people) and y (genres)\n",
    "y = data.ix[:,genres]  #1:len(df_im.columns)\n",
    "x = data.ix[:,len(df_im.columns):-1]\n",
    "\n",
    "#split into test & train\n",
    "n_samples = x.shape[0]\n",
    "train = np.random.uniform(size=n_samples) > float(train_percent) / 100.\n",
    "\n",
    "x_train = x[train]\n",
    "y_train = y[train]\n",
    "\n",
    "x_test = x[~train]\n",
    "y_test = y[~train]"
   ]
  },
  {
   "cell_type": "markdown",
   "metadata": {
    "deletable": true,
    "editable": true
   },
   "source": [
    "Apply TSVD to reduce predictors"
   ]
  },
  {
   "cell_type": "code",
   "execution_count": 167,
   "metadata": {
    "collapsed": false,
    "deletable": true,
    "editable": true
   },
   "outputs": [
    {
     "name": "stdout",
     "output_type": "stream",
     "text": [
      "\n",
      "Cumulative percentage of variance explained: 0.1165\n"
     ]
    }
   ],
   "source": [
    "# apply SVD to people matrix (train)\n",
    "tsvd = tSVD(n_components = 100)\n",
    "tsvd.fit(x_train)\n",
    "x_train_pca = tsvd.transform(x_train)\n",
    "print\n",
    "print(\"Cumulative percentage of variance explained: \" + \\\n",
    "      str(round(tsvd.explained_variance_ratio_.sum(), 4)))"
   ]
  },
  {
   "cell_type": "code",
   "execution_count": 168,
   "metadata": {
    "collapsed": false,
    "deletable": true,
    "editable": true
   },
   "outputs": [],
   "source": [
    "# apply SVD to people matrix (test)\n",
    "x_test_pca = tsvd.transform(x_test)"
   ]
  },
  {
   "cell_type": "markdown",
   "metadata": {
    "deletable": true,
    "editable": true
   },
   "source": [
    "### Utility Functions"
   ]
  },
  {
   "cell_type": "code",
   "execution_count": 169,
   "metadata": {
    "collapsed": true,
    "deletable": true,
    "editable": true
   },
   "outputs": [],
   "source": [
    "# define model codes\n",
    "log_reg = 2\n",
    "lda = 3\n",
    "qda = 4\n",
    "knn = 5\n",
    "rfc = 6\n",
    "boost = 7\n",
    "svm = 8"
   ]
  },
  {
   "cell_type": "code",
   "execution_count": 170,
   "metadata": {
    "collapsed": true,
    "deletable": true,
    "editable": true
   },
   "outputs": [],
   "source": [
    "# function to return name of model type\n",
    "def get_model_name(model_type):\n",
    "    if model_type == log_reg:\n",
    "        model_name = \"logistic regression\"\n",
    "    elif model_type == lda:\n",
    "        model_name = \"LDA\"\n",
    "    elif model_type == qda:\n",
    "        model_name = \"QDA\"\n",
    "    elif model_type == knn:\n",
    "        model_name = \"KNN\"\n",
    "    elif model_type == rfc:\n",
    "        model_name = \"random forests\"\n",
    "    elif model_type == boost:\n",
    "        model_name = \"boost\"\n",
    "    elif model_type == svm:\n",
    "        model_name = \"SVM\"\n",
    "    else:\n",
    "        model_name = \"\"\n",
    "        \n",
    "    return model_name"
   ]
  },
  {
   "cell_type": "code",
   "execution_count": 293,
   "metadata": {
    "collapsed": true,
    "deletable": true,
    "editable": true
   },
   "outputs": [],
   "source": [
    "# function to return unfitted model of given type\n",
    "def get_model_instance(model_type, y):\n",
    "    default_ratio = (y == 1).sum() / float(len(y))\n",
    "    priors = (default_ratio, 1.0 - default_ratio)\n",
    "    \n",
    "    if model_type == log_reg:\n",
    "         model_instance = Log_Reg(C = 1, class_weight = 'balanced', \n",
    "                                  n_jobs = 3)\n",
    "    elif model_type == lda:\n",
    "        model_instance = LDA(priors = priors)\n",
    "    elif model_type == qda:\n",
    "        model_instance = QDA(reg_param = .075)\n",
    "    elif model_type == knn:\n",
    "        model_instance = KNN(n_neighbors = 5)\n",
    "    elif model_type == rfc:\n",
    "        model_instance = RFC(n_estimators = 60, class_weight = 'balanced',\n",
    "                            max_features = 'auto', max_depth = None, \n",
    "                             n_jobs = 3)\n",
    "    elif model_type == boost:\n",
    "        model_instance = Boost()\n",
    "    elif model_type == svm:\n",
    "        model_instance = SVC(kernel = 'poly', degree = 2, \n",
    "                             class_weight = 'balanced')\n",
    "    else:\n",
    "        model_instance = None\n",
    "        \n",
    "    return model_instance"
   ]
  },
  {
   "cell_type": "code",
   "execution_count": 294,
   "metadata": {
    "collapsed": true,
    "deletable": true,
    "editable": true
   },
   "outputs": [],
   "source": [
    "# function to fit and score one model of given type\n",
    "def cross_validate_one_model(x, y, model_type):\n",
    "    np.random.seed(42)\n",
    "        \n",
    "    train_score_accum = 0\n",
    "    test_score_accum = 0\n",
    "\n",
    "    n_folds = 5\n",
    "    kf = KFold(x.shape[0], n_folds = n_folds)\n",
    "    for train_index, test_index in kf:\n",
    "        x_train, x_test = x[train_index], x[test_index]\n",
    "        y_train, y_test = y.values[train_index], y.values[test_index]\n",
    "  \n",
    "        model = get_model_instance(model_type, y_train)\n",
    "        model.fit(x_train, y_train)\n",
    "        y_predict = model.predict(x_test)\n",
    "        \n",
    "        train_score_accum += model.score(x_train, y_train)\n",
    "        test_score_accum += model.score(x_test, y_test)\n",
    "\n",
    "    # calculate accuracy\n",
    "    train_score = train_score_accum / float(n_folds)\n",
    "    test_score = test_score_accum / float(n_folds)\n",
    "    \n",
    "    return test_score"
   ]
  },
  {
   "cell_type": "code",
   "execution_count": 295,
   "metadata": {
    "collapsed": true,
    "deletable": true,
    "editable": true
   },
   "outputs": [],
   "source": [
    "# function to fit and score one model of given type\n",
    "def fit_and_score_one_model(x_train, y_train, x_test, y_test, model_type):\n",
    "    np.random.seed(42)\n",
    "\n",
    "    model = get_model_instance(model_type, y_train)\n",
    "    model.fit(x_train, y_train)\n",
    "    y_test_predict = model.predict(x_test)\n",
    "\n",
    "    train_accu = model.score(x_train, y_train)\n",
    "    test_accu = model.score(x_test, y_test)\n",
    "    \n",
    "    y_test_null_predict = np.zeros([y_test.shape[0]])\n",
    "    test_null_accu = (y_test.values == y_test_null_predict).sum() / float(y_test.shape[0])\n",
    "    \n",
    "    test_positives = y_test_predict.sum()\n",
    "    \n",
    "    test_precision = precision_score(y_test, y_test_predict, average = 'binary')\n",
    "    \n",
    "    test_recall = recall_score(y_test, y_test_predict, average = 'binary')\n",
    "    \n",
    "    test_hamming = hamming_loss(y_test, y_test_predict)\n",
    "    \n",
    "    return y_test_predict, test_accu, test_null_accu, test_precision, test_recall, \\\n",
    "        test_hamming, test_positives"
   ]
  },
  {
   "cell_type": "code",
   "execution_count": 296,
   "metadata": {
    "collapsed": true,
    "deletable": true,
    "editable": true
   },
   "outputs": [],
   "source": [
    "# function to display a variety of average metrics\n",
    "def display_metrics(test_accu_all, test_null_accu_all, test_precision_all, \n",
    "                test_recall_all, test_hamming_all):\n",
    "    \n",
    "    avg_metrics = pd.Series([round(test_accu_all.mean(), 4),\n",
    "                      round(test_null_accu_all.mean(), 4),\n",
    "                      round(test_precision_all.mean(), 4),\n",
    "                      round(test_recall_all.mean(), 4),\n",
    "                      round(test_hamming_all.mean(), 4)],\n",
    "                               name = 'Value')\n",
    "    \n",
    "    avg_metrics_labels = pd.Series(['Accuracy', \n",
    "                                    'Null Accuracy', \n",
    "                                    'Precision', \n",
    "                                    'Recall',\n",
    "                                    'Hamming Loss'],\n",
    "                                  name = 'Metric')\n",
    "    avg_metrics_df = pd.concat([avg_metrics_labels, avg_metrics], axis = 1)\n",
    "\n",
    "    print\n",
    "    display(avg_metrics_df)"
   ]
  },
  {
   "cell_type": "markdown",
   "metadata": {
    "deletable": true,
    "editable": true
   },
   "source": [
    "### Modeling  \n",
    "  \n",
    "Each model below is fit on training data and then scored on testing data.  \n",
    "  \n",
    "#### Different Model Types  "
   ]
  },
  {
   "cell_type": "code",
   "execution_count": 297,
   "metadata": {
    "collapsed": false,
    "deletable": true,
    "editable": true
   },
   "outputs": [],
   "source": [
    "model_types = [lda, log_reg, qda, rfc]\n",
    "model_names = ['Linear Discriminant Analysis', 'Logistic Regression', \\\n",
    "               'Quadratic Discriminant Analysis', 'Random Forest Classifier']\n",
    "num_model_types = len(model_types)\n",
    "test_accu_models = np.zeros(num_model_types)\n",
    "\n",
    "# fit and score model on each genre\n",
    "for i in range(num_model_types):\n",
    "    x_train = x_train_pca if model_types[i] != \\\n",
    "        qda else x_train_pca[:, 0].reshape(-1, 1)\n",
    "    test_accu_models[i] = \\\n",
    "        cross_validate_one_model(x_train, y_train.Action, model_types[i])     "
   ]
  },
  {
   "cell_type": "code",
   "execution_count": 298,
   "metadata": {
    "collapsed": false,
    "deletable": true,
    "editable": true
   },
   "outputs": [
    {
     "name": "stdout",
     "output_type": "stream",
     "text": [
      "\n"
     ]
    },
    {
     "data": {
      "text/markdown": [
       "Test Accuracy during Cross-Validation"
      ],
      "text/plain": [
       "<IPython.core.display.Markdown object>"
      ]
     },
     "metadata": {},
     "output_type": "display_data"
    },
    {
     "data": {
      "text/html": [
       "<div>\n",
       "<table border=\"1\" class=\"dataframe\">\n",
       "  <thead>\n",
       "    <tr style=\"text-align: right;\">\n",
       "      <th></th>\n",
       "      <th>Accuracy</th>\n",
       "    </tr>\n",
       "  </thead>\n",
       "  <tbody>\n",
       "    <tr>\n",
       "      <th>Linear Discriminant Analysis</th>\n",
       "      <td>0.17</td>\n",
       "    </tr>\n",
       "    <tr>\n",
       "      <th>Logistic Regression</th>\n",
       "      <td>0.76</td>\n",
       "    </tr>\n",
       "    <tr>\n",
       "      <th>Quadratic Discriminant Analysis</th>\n",
       "      <td>0.85</td>\n",
       "    </tr>\n",
       "    <tr>\n",
       "      <th>Random Forest Classifier</th>\n",
       "      <td>0.86</td>\n",
       "    </tr>\n",
       "  </tbody>\n",
       "</table>\n",
       "</div>"
      ],
      "text/plain": [
       "                                 Accuracy\n",
       "Linear Discriminant Analysis         0.17\n",
       "Logistic Regression                  0.76\n",
       "Quadratic Discriminant Analysis      0.85\n",
       "Random Forest Classifier             0.86"
      ]
     },
     "metadata": {},
     "output_type": "display_data"
    }
   ],
   "source": [
    "test_accu_models_df = pd.DataFrame(test_accu_models, columns = ['Accuracy'])\n",
    "test_accu_models_df.Accuracy = test_accu_models_df.Accuracy.round(2)\n",
    "test_accu_models_df.index = model_names\n",
    "\n",
    "print\n",
    "printmd(\"Test Accuracy during Cross-Validation\")\n",
    "display(test_accu_models_df)"
   ]
  },
  {
   "cell_type": "markdown",
   "metadata": {
    "deletable": true,
    "editable": true
   },
   "source": [
    "#### Different Genre Types - Random Forest"
   ]
  },
  {
   "cell_type": "code",
   "execution_count": 299,
   "metadata": {
    "collapsed": false,
    "deletable": true,
    "editable": true
   },
   "outputs": [],
   "source": [
    "# set up metrics accumulators\n",
    "y_predict_all_rf = np.zeros([x_test.shape[0], num_genres])\n",
    "test_accu_all_rf = np.zeros(num_genres)\n",
    "test_null_accu_all_rf = np.zeros(num_genres)\n",
    "test_precision_all_rf = np.zeros(num_genres)\n",
    "test_recall_all_rf = np.zeros(num_genres)\n",
    "test_hamming_all_rf = np.zeros(num_genres)\n",
    "test_positives_all_rf = np.zeros(num_genres)\n",
    "\n",
    "# fit and score model on each genre\n",
    "for i in range(num_genres):\n",
    "    \n",
    "    y_predict_all_rf[:, i], test_accu_all_rf[i], test_null_accu_all_rf[i], \\\n",
    "        test_precision_all_rf[i], test_recall_all_rf[i], test_hamming_all_rf[i], \\\n",
    "        test_positives_all_rf[i] = \\\n",
    "        fit_and_score_one_model(x_train_pca, y_train.iloc[:, i], x_test_pca, \n",
    "                                y_test.iloc[:, i], rfc)  \n",
    "        \n",
    "y_predict_all_rf = np.zeros([y_test.shape[0], num_genres])\n",
    "test_scores_all_rf = np.zeros(num_genres)       "
   ]
  },
  {
   "cell_type": "code",
   "execution_count": 300,
   "metadata": {
    "collapsed": false,
    "deletable": true,
    "editable": true
   },
   "outputs": [
    {
     "name": "stdout",
     "output_type": "stream",
     "text": [
      "\n"
     ]
    },
    {
     "data": {
      "text/markdown": [
       "#### Prediction Accuracy on Testing Data (with Random Forest)"
      ],
      "text/plain": [
       "<IPython.core.display.Markdown object>"
      ]
     },
     "metadata": {},
     "output_type": "display_data"
    },
    {
     "data": {
      "text/html": [
       "<div>\n",
       "<table border=\"1\" class=\"dataframe\">\n",
       "  <thead>\n",
       "    <tr style=\"text-align: right;\">\n",
       "      <th></th>\n",
       "      <th>Accuracy</th>\n",
       "    </tr>\n",
       "  </thead>\n",
       "  <tbody>\n",
       "    <tr>\n",
       "      <th>Action</th>\n",
       "      <td>0.86</td>\n",
       "    </tr>\n",
       "    <tr>\n",
       "      <th>Adventure</th>\n",
       "      <td>0.90</td>\n",
       "    </tr>\n",
       "    <tr>\n",
       "      <th>Animation</th>\n",
       "      <td>0.97</td>\n",
       "    </tr>\n",
       "    <tr>\n",
       "      <th>Comedy</th>\n",
       "      <td>0.71</td>\n",
       "    </tr>\n",
       "    <tr>\n",
       "      <th>Crime</th>\n",
       "      <td>0.85</td>\n",
       "    </tr>\n",
       "    <tr>\n",
       "      <th>Documentary</th>\n",
       "      <td>0.94</td>\n",
       "    </tr>\n",
       "    <tr>\n",
       "      <th>Drama</th>\n",
       "      <td>0.63</td>\n",
       "    </tr>\n",
       "    <tr>\n",
       "      <th>Family</th>\n",
       "      <td>0.94</td>\n",
       "    </tr>\n",
       "    <tr>\n",
       "      <th>Fantasy</th>\n",
       "      <td>0.93</td>\n",
       "    </tr>\n",
       "    <tr>\n",
       "      <th>History</th>\n",
       "      <td>0.96</td>\n",
       "    </tr>\n",
       "    <tr>\n",
       "      <th>Horror</th>\n",
       "      <td>0.89</td>\n",
       "    </tr>\n",
       "    <tr>\n",
       "      <th>Music</th>\n",
       "      <td>0.96</td>\n",
       "    </tr>\n",
       "    <tr>\n",
       "      <th>Mystery</th>\n",
       "      <td>0.92</td>\n",
       "    </tr>\n",
       "    <tr>\n",
       "      <th>Romance</th>\n",
       "      <td>0.79</td>\n",
       "    </tr>\n",
       "    <tr>\n",
       "      <th>Sci-Fi</th>\n",
       "      <td>0.92</td>\n",
       "    </tr>\n",
       "    <tr>\n",
       "      <th>Thriller</th>\n",
       "      <td>0.79</td>\n",
       "    </tr>\n",
       "    <tr>\n",
       "      <th>War</th>\n",
       "      <td>0.95</td>\n",
       "    </tr>\n",
       "    <tr>\n",
       "      <th>Western</th>\n",
       "      <td>0.97</td>\n",
       "    </tr>\n",
       "  </tbody>\n",
       "</table>\n",
       "</div>"
      ],
      "text/plain": [
       "             Accuracy\n",
       "Action           0.86\n",
       "Adventure        0.90\n",
       "Animation        0.97\n",
       "Comedy           0.71\n",
       "Crime            0.85\n",
       "Documentary      0.94\n",
       "Drama            0.63\n",
       "Family           0.94\n",
       "Fantasy          0.93\n",
       "History          0.96\n",
       "Horror           0.89\n",
       "Music            0.96\n",
       "Mystery          0.92\n",
       "Romance          0.79\n",
       "Sci-Fi           0.92\n",
       "Thriller         0.79\n",
       "War              0.95\n",
       "Western          0.97"
      ]
     },
     "metadata": {},
     "output_type": "display_data"
    }
   ],
   "source": [
    "test_accu_all_rf_df = pd.DataFrame(test_accu_all_rf, columns = ['Accuracy'])\n",
    "test_accu_all_rf_df.Accuracy = test_accu_all_rf_df.Accuracy.round(2)\n",
    "test_accu_all_rf_df.index = genres\n",
    "\n",
    "print\n",
    "printmd(\"#### Prediction Accuracy on Testing Data (with Random Forest)\")\n",
    "display(test_accu_all_rf_df)"
   ]
  },
  {
   "cell_type": "code",
   "execution_count": 301,
   "metadata": {
    "collapsed": false,
    "deletable": true,
    "editable": true
   },
   "outputs": [
    {
     "name": "stdout",
     "output_type": "stream",
     "text": [
      "\n"
     ]
    },
    {
     "data": {
      "text/markdown": [
       "#### Number of positive predictions on Testing Data (with Random Forest)"
      ],
      "text/plain": [
       "<IPython.core.display.Markdown object>"
      ]
     },
     "metadata": {},
     "output_type": "display_data"
    },
    {
     "data": {
      "text/html": [
       "<div>\n",
       "<table border=\"1\" class=\"dataframe\">\n",
       "  <thead>\n",
       "    <tr style=\"text-align: right;\">\n",
       "      <th></th>\n",
       "      <th>Count</th>\n",
       "    </tr>\n",
       "  </thead>\n",
       "  <tbody>\n",
       "    <tr>\n",
       "      <th>Action</th>\n",
       "      <td>598</td>\n",
       "    </tr>\n",
       "    <tr>\n",
       "      <th>Adventure</th>\n",
       "      <td>291</td>\n",
       "    </tr>\n",
       "    <tr>\n",
       "      <th>Animation</th>\n",
       "      <td>558</td>\n",
       "    </tr>\n",
       "    <tr>\n",
       "      <th>Comedy</th>\n",
       "      <td>3204</td>\n",
       "    </tr>\n",
       "    <tr>\n",
       "      <th>Crime</th>\n",
       "      <td>184</td>\n",
       "    </tr>\n",
       "    <tr>\n",
       "      <th>Documentary</th>\n",
       "      <td>684</td>\n",
       "    </tr>\n",
       "    <tr>\n",
       "      <th>Drama</th>\n",
       "      <td>13643</td>\n",
       "    </tr>\n",
       "    <tr>\n",
       "      <th>Family</th>\n",
       "      <td>345</td>\n",
       "    </tr>\n",
       "    <tr>\n",
       "      <th>Fantasy</th>\n",
       "      <td>98</td>\n",
       "    </tr>\n",
       "    <tr>\n",
       "      <th>History</th>\n",
       "      <td>41</td>\n",
       "    </tr>\n",
       "    <tr>\n",
       "      <th>Horror</th>\n",
       "      <td>132</td>\n",
       "    </tr>\n",
       "    <tr>\n",
       "      <th>Music</th>\n",
       "      <td>218</td>\n",
       "    </tr>\n",
       "    <tr>\n",
       "      <th>Mystery</th>\n",
       "      <td>41</td>\n",
       "    </tr>\n",
       "    <tr>\n",
       "      <th>Romance</th>\n",
       "      <td>542</td>\n",
       "    </tr>\n",
       "    <tr>\n",
       "      <th>Sci-Fi</th>\n",
       "      <td>155</td>\n",
       "    </tr>\n",
       "    <tr>\n",
       "      <th>Thriller</th>\n",
       "      <td>706</td>\n",
       "    </tr>\n",
       "    <tr>\n",
       "      <th>War</th>\n",
       "      <td>45</td>\n",
       "    </tr>\n",
       "    <tr>\n",
       "      <th>Western</th>\n",
       "      <td>130</td>\n",
       "    </tr>\n",
       "  </tbody>\n",
       "</table>\n",
       "</div>"
      ],
      "text/plain": [
       "             Count\n",
       "Action         598\n",
       "Adventure      291\n",
       "Animation      558\n",
       "Comedy        3204\n",
       "Crime          184\n",
       "Documentary    684\n",
       "Drama        13643\n",
       "Family         345\n",
       "Fantasy         98\n",
       "History         41\n",
       "Horror         132\n",
       "Music          218\n",
       "Mystery         41\n",
       "Romance        542\n",
       "Sci-Fi         155\n",
       "Thriller       706\n",
       "War             45\n",
       "Western        130"
      ]
     },
     "metadata": {},
     "output_type": "display_data"
    }
   ],
   "source": [
    "test_positives_all_rf_df = pd.DataFrame(test_positives_all_rf, columns = ['Count'])\n",
    "test_positives_all_rf_df.index = genres\n",
    "\n",
    "print\n",
    "printmd(\"#### Number of positive predictions on Testing Data (with Random Forest)\")\n",
    "display(test_positives_all_rf_df)"
   ]
  },
  {
   "cell_type": "markdown",
   "metadata": {
    "deletable": true,
    "editable": true
   },
   "source": [
    "#### Average Test Metrics with Random Forest"
   ]
  },
  {
   "cell_type": "code",
   "execution_count": 302,
   "metadata": {
    "collapsed": false,
    "deletable": true,
    "editable": true
   },
   "outputs": [
    {
     "name": "stdout",
     "output_type": "stream",
     "text": [
      "\n"
     ]
    },
    {
     "data": {
      "text/html": [
       "<div>\n",
       "<table border=\"1\" class=\"dataframe\">\n",
       "  <thead>\n",
       "    <tr style=\"text-align: right;\">\n",
       "      <th></th>\n",
       "      <th>Metric</th>\n",
       "      <th>Value</th>\n",
       "    </tr>\n",
       "  </thead>\n",
       "  <tbody>\n",
       "    <tr>\n",
       "      <th>0</th>\n",
       "      <td>Accuracy</td>\n",
       "      <td>0.8822</td>\n",
       "    </tr>\n",
       "    <tr>\n",
       "      <th>1</th>\n",
       "      <td>Null Accuracy</td>\n",
       "      <td>0.8692</td>\n",
       "    </tr>\n",
       "    <tr>\n",
       "      <th>2</th>\n",
       "      <td>Precision</td>\n",
       "      <td>0.5071</td>\n",
       "    </tr>\n",
       "    <tr>\n",
       "      <th>3</th>\n",
       "      <td>Recall</td>\n",
       "      <td>0.1308</td>\n",
       "    </tr>\n",
       "    <tr>\n",
       "      <th>4</th>\n",
       "      <td>Hamming Loss</td>\n",
       "      <td>0.1185</td>\n",
       "    </tr>\n",
       "  </tbody>\n",
       "</table>\n",
       "</div>"
      ],
      "text/plain": [
       "          Metric   Value\n",
       "0       Accuracy  0.8822\n",
       "1  Null Accuracy  0.8692\n",
       "2      Precision  0.5071\n",
       "3         Recall  0.1308\n",
       "4   Hamming Loss  0.1185"
      ]
     },
     "metadata": {},
     "output_type": "display_data"
    }
   ],
   "source": [
    "display_metrics(test_accu_all_rf, test_null_accu_all_rf, test_precision_all_rf, \n",
    "                test_recall_all_rf, test_hamming_all_rf)"
   ]
  },
  {
   "cell_type": "markdown",
   "metadata": {
    "deletable": true,
    "editable": true
   },
   "source": [
    "#### Different Genre Types - QDA"
   ]
  },
  {
   "cell_type": "code",
   "execution_count": 303,
   "metadata": {
    "collapsed": false,
    "deletable": true,
    "editable": true
   },
   "outputs": [],
   "source": [
    "# set up metrics accumulators\n",
    "y_predict_all_qda = np.zeros([x_test.shape[0], num_genres])\n",
    "test_accu_all_qda = np.zeros(num_genres)\n",
    "test_null_accu_all_qda = np.zeros(num_genres)\n",
    "test_precision_all_qda = np.zeros(num_genres)\n",
    "test_recall_all_qda = np.zeros(num_genres)\n",
    "test_hamming_all_qda = np.zeros(num_genres)\n",
    "test_positives_all_qda = np.zeros(num_genres)\n",
    "\n",
    "# fit and score model on each genre\n",
    "for i in range(num_genres):\n",
    "    \n",
    "    y_predict_all_qda[:, i], test_accu_all_qda[i], test_null_accu_all_qda[i], \\\n",
    "        test_precision_all_qda[i], test_recall_all_qda[i], test_hamming_all_qda[i], \\\n",
    "        test_positives_all_qda[i] = \\\n",
    "        fit_and_score_one_model(x_train_pca[:, :3], y_train.iloc[:, i], x_test_pca[:, :3],\n",
    "                                y_test.iloc[:, i], qda)"
   ]
  },
  {
   "cell_type": "code",
   "execution_count": 304,
   "metadata": {
    "collapsed": false,
    "deletable": true,
    "editable": true
   },
   "outputs": [
    {
     "name": "stdout",
     "output_type": "stream",
     "text": [
      "\n"
     ]
    },
    {
     "data": {
      "text/markdown": [
       "#### Prediction Accuracy on Testing Data (with QDA)"
      ],
      "text/plain": [
       "<IPython.core.display.Markdown object>"
      ]
     },
     "metadata": {},
     "output_type": "display_data"
    },
    {
     "data": {
      "text/html": [
       "<div>\n",
       "<table border=\"1\" class=\"dataframe\">\n",
       "  <thead>\n",
       "    <tr style=\"text-align: right;\">\n",
       "      <th></th>\n",
       "      <th>Accuracy</th>\n",
       "    </tr>\n",
       "  </thead>\n",
       "  <tbody>\n",
       "    <tr>\n",
       "      <th>Action</th>\n",
       "      <td>0.85</td>\n",
       "    </tr>\n",
       "    <tr>\n",
       "      <th>Adventure</th>\n",
       "      <td>0.89</td>\n",
       "    </tr>\n",
       "    <tr>\n",
       "      <th>Animation</th>\n",
       "      <td>0.96</td>\n",
       "    </tr>\n",
       "    <tr>\n",
       "      <th>Comedy</th>\n",
       "      <td>0.66</td>\n",
       "    </tr>\n",
       "    <tr>\n",
       "      <th>Crime</th>\n",
       "      <td>0.85</td>\n",
       "    </tr>\n",
       "    <tr>\n",
       "      <th>Documentary</th>\n",
       "      <td>0.94</td>\n",
       "    </tr>\n",
       "    <tr>\n",
       "      <th>Drama</th>\n",
       "      <td>0.49</td>\n",
       "    </tr>\n",
       "    <tr>\n",
       "      <th>Family</th>\n",
       "      <td>0.93</td>\n",
       "    </tr>\n",
       "    <tr>\n",
       "      <th>Fantasy</th>\n",
       "      <td>0.93</td>\n",
       "    </tr>\n",
       "    <tr>\n",
       "      <th>History</th>\n",
       "      <td>0.95</td>\n",
       "    </tr>\n",
       "    <tr>\n",
       "      <th>Horror</th>\n",
       "      <td>0.89</td>\n",
       "    </tr>\n",
       "    <tr>\n",
       "      <th>Music</th>\n",
       "      <td>0.96</td>\n",
       "    </tr>\n",
       "    <tr>\n",
       "      <th>Mystery</th>\n",
       "      <td>0.92</td>\n",
       "    </tr>\n",
       "    <tr>\n",
       "      <th>Romance</th>\n",
       "      <td>0.79</td>\n",
       "    </tr>\n",
       "    <tr>\n",
       "      <th>Sci-Fi</th>\n",
       "      <td>0.92</td>\n",
       "    </tr>\n",
       "    <tr>\n",
       "      <th>Thriller</th>\n",
       "      <td>0.79</td>\n",
       "    </tr>\n",
       "    <tr>\n",
       "      <th>War</th>\n",
       "      <td>0.95</td>\n",
       "    </tr>\n",
       "    <tr>\n",
       "      <th>Western</th>\n",
       "      <td>0.96</td>\n",
       "    </tr>\n",
       "  </tbody>\n",
       "</table>\n",
       "</div>"
      ],
      "text/plain": [
       "             Accuracy\n",
       "Action           0.85\n",
       "Adventure        0.89\n",
       "Animation        0.96\n",
       "Comedy           0.66\n",
       "Crime            0.85\n",
       "Documentary      0.94\n",
       "Drama            0.49\n",
       "Family           0.93\n",
       "Fantasy          0.93\n",
       "History          0.95\n",
       "Horror           0.89\n",
       "Music            0.96\n",
       "Mystery          0.92\n",
       "Romance          0.79\n",
       "Sci-Fi           0.92\n",
       "Thriller         0.79\n",
       "War              0.95\n",
       "Western          0.96"
      ]
     },
     "metadata": {},
     "output_type": "display_data"
    }
   ],
   "source": [
    "test_accu_all_qda_df = pd.DataFrame(test_accu_all_qda, columns = ['Accuracy'])\n",
    "test_accu_all_qda_df.Accuracy = test_accu_all_qda_df.Accuracy.round(2)\n",
    "test_accu_all_qda_df.index = genres\n",
    "\n",
    "print\n",
    "printmd(\"#### Prediction Accuracy on Testing Data (with QDA)\")\n",
    "display(test_accu_all_qda_df)"
   ]
  },
  {
   "cell_type": "code",
   "execution_count": 305,
   "metadata": {
    "collapsed": false,
    "deletable": true,
    "editable": true
   },
   "outputs": [
    {
     "name": "stdout",
     "output_type": "stream",
     "text": [
      "\n"
     ]
    },
    {
     "data": {
      "text/markdown": [
       "#### Number of positive predictions on Testing Data (with QDA)"
      ],
      "text/plain": [
       "<IPython.core.display.Markdown object>"
      ]
     },
     "metadata": {},
     "output_type": "display_data"
    },
    {
     "data": {
      "text/html": [
       "<div>\n",
       "<table border=\"1\" class=\"dataframe\">\n",
       "  <thead>\n",
       "    <tr style=\"text-align: right;\">\n",
       "      <th></th>\n",
       "      <th>Count</th>\n",
       "    </tr>\n",
       "  </thead>\n",
       "  <tbody>\n",
       "    <tr>\n",
       "      <th>Action</th>\n",
       "      <td>0</td>\n",
       "    </tr>\n",
       "    <tr>\n",
       "      <th>Adventure</th>\n",
       "      <td>88</td>\n",
       "    </tr>\n",
       "    <tr>\n",
       "      <th>Animation</th>\n",
       "      <td>0</td>\n",
       "    </tr>\n",
       "    <tr>\n",
       "      <th>Comedy</th>\n",
       "      <td>282</td>\n",
       "    </tr>\n",
       "    <tr>\n",
       "      <th>Crime</th>\n",
       "      <td>84</td>\n",
       "    </tr>\n",
       "    <tr>\n",
       "      <th>Documentary</th>\n",
       "      <td>0</td>\n",
       "    </tr>\n",
       "    <tr>\n",
       "      <th>Drama</th>\n",
       "      <td>1443</td>\n",
       "    </tr>\n",
       "    <tr>\n",
       "      <th>Family</th>\n",
       "      <td>0</td>\n",
       "    </tr>\n",
       "    <tr>\n",
       "      <th>Fantasy</th>\n",
       "      <td>0</td>\n",
       "    </tr>\n",
       "    <tr>\n",
       "      <th>History</th>\n",
       "      <td>281</td>\n",
       "    </tr>\n",
       "    <tr>\n",
       "      <th>Horror</th>\n",
       "      <td>0</td>\n",
       "    </tr>\n",
       "    <tr>\n",
       "      <th>Music</th>\n",
       "      <td>1</td>\n",
       "    </tr>\n",
       "    <tr>\n",
       "      <th>Mystery</th>\n",
       "      <td>1</td>\n",
       "    </tr>\n",
       "    <tr>\n",
       "      <th>Romance</th>\n",
       "      <td>685</td>\n",
       "    </tr>\n",
       "    <tr>\n",
       "      <th>Sci-Fi</th>\n",
       "      <td>0</td>\n",
       "    </tr>\n",
       "    <tr>\n",
       "      <th>Thriller</th>\n",
       "      <td>0</td>\n",
       "    </tr>\n",
       "    <tr>\n",
       "      <th>War</th>\n",
       "      <td>217</td>\n",
       "    </tr>\n",
       "    <tr>\n",
       "      <th>Western</th>\n",
       "      <td>256</td>\n",
       "    </tr>\n",
       "  </tbody>\n",
       "</table>\n",
       "</div>"
      ],
      "text/plain": [
       "             Count\n",
       "Action           0\n",
       "Adventure       88\n",
       "Animation        0\n",
       "Comedy         282\n",
       "Crime           84\n",
       "Documentary      0\n",
       "Drama         1443\n",
       "Family           0\n",
       "Fantasy          0\n",
       "History        281\n",
       "Horror           0\n",
       "Music            1\n",
       "Mystery          1\n",
       "Romance        685\n",
       "Sci-Fi           0\n",
       "Thriller         0\n",
       "War            217\n",
       "Western        256"
      ]
     },
     "metadata": {},
     "output_type": "display_data"
    }
   ],
   "source": [
    "test_positives_all_qda_df = pd.DataFrame(test_positives_all_qda, columns = ['Count'])\n",
    "test_positives_all_qda_df.index = genres\n",
    "\n",
    "print\n",
    "printmd(\"#### Number of positive predictions on Testing Data (with QDA)\")\n",
    "display(test_positives_all_qda_df)"
   ]
  },
  {
   "cell_type": "markdown",
   "metadata": {
    "deletable": true,
    "editable": true
   },
   "source": [
    "#### Average Test Metrics with QDA"
   ]
  },
  {
   "cell_type": "code",
   "execution_count": 306,
   "metadata": {
    "collapsed": false,
    "deletable": true,
    "editable": true
   },
   "outputs": [
    {
     "name": "stdout",
     "output_type": "stream",
     "text": [
      "\n"
     ]
    },
    {
     "data": {
      "text/html": [
       "<div>\n",
       "<table border=\"1\" class=\"dataframe\">\n",
       "  <thead>\n",
       "    <tr style=\"text-align: right;\">\n",
       "      <th></th>\n",
       "      <th>Metric</th>\n",
       "      <th>Value</th>\n",
       "    </tr>\n",
       "  </thead>\n",
       "  <tbody>\n",
       "    <tr>\n",
       "      <th>0</th>\n",
       "      <td>Accuracy</td>\n",
       "      <td>0.8683</td>\n",
       "    </tr>\n",
       "    <tr>\n",
       "      <th>1</th>\n",
       "      <td>Null Accuracy</td>\n",
       "      <td>0.8692</td>\n",
       "    </tr>\n",
       "    <tr>\n",
       "      <th>2</th>\n",
       "      <td>Precision</td>\n",
       "      <td>0.1213</td>\n",
       "    </tr>\n",
       "    <tr>\n",
       "      <th>3</th>\n",
       "      <td>Recall</td>\n",
       "      <td>0.0135</td>\n",
       "    </tr>\n",
       "    <tr>\n",
       "      <th>4</th>\n",
       "      <td>Hamming Loss</td>\n",
       "      <td>0.1323</td>\n",
       "    </tr>\n",
       "  </tbody>\n",
       "</table>\n",
       "</div>"
      ],
      "text/plain": [
       "          Metric   Value\n",
       "0       Accuracy  0.8683\n",
       "1  Null Accuracy  0.8692\n",
       "2      Precision  0.1213\n",
       "3         Recall  0.0135\n",
       "4   Hamming Loss  0.1323"
      ]
     },
     "metadata": {},
     "output_type": "display_data"
    }
   ],
   "source": [
    "display_metrics(test_accu_all_qda, test_null_accu_all_qda, test_precision_all_qda, \n",
    "                test_recall_all_qda, test_hamming_all_qda)"
   ]
  },
  {
   "cell_type": "markdown",
   "metadata": {
    "deletable": true,
    "editable": true
   },
   "source": [
    "#### Comparing Accuracy with Random Forest and QDA"
   ]
  },
  {
   "cell_type": "code",
   "execution_count": 307,
   "metadata": {
    "collapsed": false,
    "deletable": true,
    "editable": true
   },
   "outputs": [
    {
     "name": "stdout",
     "output_type": "stream",
     "text": [
      "\n"
     ]
    },
    {
     "data": {
      "image/png": "[encoded data removed]",
      "text/plain": [
       "<matplotlib.figure.Figure at 0x7f94236206d0>"
      ]
     },
     "metadata": {},
     "output_type": "display_data"
    }
   ],
   "source": [
    "### plot genre accuracy for RF vs. QDA\n",
    "test_accu_all_rf_df = test_accu_all_rf_df.sort_values(by = 'Accuracy', \n",
    "                                                          ascending = False)\n",
    "test_accu_all_qda_df = test_accu_all_qda_df.sort_values(by = 'Accuracy', \n",
    "                                                            ascending = False)\n",
    "\n",
    "width = 0.3\n",
    "\n",
    "print\n",
    "fig = plt.figure(figsize = (10, 5))\n",
    "ax = fig.add_subplot(1, 1, 1)\n",
    "rects_1 = ax.bar(range(num_genres), \n",
    "       test_accu_all_rf_df.Accuracy, width = width, color = 'darkblue', \n",
    "       edgecolor = 'white')\n",
    "rects_2 = ax.bar(np.repeat(0.35, num_genres) + range(num_genres), \n",
    "       test_accu_all_qda_df.Accuracy, width = width, color = 'darkred', \n",
    "       edgecolor = 'white')\n",
    "ax.set_xticks(range(num_genres))\n",
    "ax.set_xticklabels(test_accu_all_rf_df.index.values, rotation = 90)\n",
    "ax.set_xlabel(\"Genre\")\n",
    "ax.set_ylabel(\"Accuracy\")\n",
    "ax.set_title(\"Language Model: Test Accuracy by Genre with RF and QDA Models\")\n",
    "ax.legend((rects_1[0], rects_2[0]), ('RF', 'QDA'))\n",
    "plt.show()"
   ]
  }
 ],
 "metadata": {
  "anaconda-cloud": {},
  "kernelspec": {
   "display_name": "Python 2",
   "language": "python",
   "name": "python2"
  },
  "language_info": {
   "codemirror_mode": {
    "name": "ipython",
    "version": 2
   },
   "file_extension": ".py",
   "mimetype": "text/x-python",
   "name": "python",
   "nbconvert_exporter": "python",
   "pygments_lexer": "ipython2",
   "version": "2.7.12"
  }
 },
 "nbformat": 4,
 "nbformat_minor": 0
}

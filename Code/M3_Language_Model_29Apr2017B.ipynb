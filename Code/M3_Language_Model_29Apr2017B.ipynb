{
 "cells": [
  {
   "cell_type": "markdown",
   "metadata": {},
   "source": [
    "# CS 109B - Course Project - Team 14\n",
    "## Text Mining - The Movie Database - Movie Plots"
   ]
  },
  {
   "cell_type": "code",
   "execution_count": 38,
   "metadata": {},
   "outputs": [],
   "source": [
    "import numpy as np\n",
    "import os.path as op\n",
    "import pandas as pd\n",
    "import re\n",
    "\n",
    "from matplotlib import pyplot as plt\n",
    "from sklearn.cross_validation import KFold\n",
    "from sklearn.model_selection import train_test_split as sk_split\n",
    "from sklearn.decomposition import TruncatedSVD as tSVD\n",
    "from sklearn.feature_extraction.text import CountVectorizer\n",
    "from sklearn.feature_extraction.text import TfidfVectorizer\n",
    "from scipy.io import mmwrite\n",
    "from sklearn.discriminant_analysis import LinearDiscriminantAnalysis as LDA\n",
    "from sklearn.discriminant_analysis import QuadraticDiscriminantAnalysis as QDA\n",
    "from sklearn.ensemble import GradientBoostingClassifier as GBC\n",
    "from sklearn.ensemble import RandomForestClassifier as RFC\n",
    "from sklearn.linear_model import LinearRegression as Lin_Reg\n",
    "from sklearn.linear_model import LogisticRegression as Log_Reg\n",
    "from sklearn.tree import DecisionTreeClassifier as DTC\n",
    "from sklearn.metrics import hamming_loss\n",
    "from sklearn.metrics import precision_score\n",
    "from sklearn.metrics import recall_score\n",
    "from sklearn.naive_bayes import GaussianNB as NB\n",
    "from sklearn.neighbors import KNeighborsClassifier as KNN\n",
    "from sklearn.svm import SVC\n",
    "\n",
    "from IPython.display import display, HTML, Markdown\n",
    "%matplotlib inline\n",
    "plt.style.use('ggplot') \n",
    "def printmd(string):\n",
    "    display(Markdown(string))"
   ]
  },
  {
   "cell_type": "code",
   "execution_count": 39,
   "metadata": {
    "collapsed": true
   },
   "outputs": [],
   "source": [
    "genres = [\"Action\", \"Adventure\", \"Animation\", \"Comedy\", \"Crime\", \"Documentary\", \"Drama\", \\\n",
    "            \"Family\", \"Fantasy\", \"History\", \"Horror\", \"Music\", \"Musical\", \"Mystery\", \\\n",
    "          \"Romance\", \"Sci-Fi\", \"Thriller\", \"War\", \"Western\"]\n",
    "\n",
    "num_genres = len(genres)\n",
    "\n",
    "train_percent = 80"
   ]
  },
  {
   "cell_type": "markdown",
   "metadata": {},
   "source": [
    "## Step 1: Load and Clean Data"
   ]
  },
  {
   "cell_type": "code",
   "execution_count": 40,
   "metadata": {
    "collapsed": true
   },
   "outputs": [],
   "source": [
    "# helper function to select the columns of interest from the data set\n",
    "def Select_Data(data):\n",
    "    \n",
    "    features_to_select = [\"plot\", 'imdb_id'] + genres\n",
    "    data_select = data[features_to_select]\n",
    "    data_select.columns = [\"Plot\", \"Imdb_Id\"] + genres\n",
    "    \n",
    "    return data_select"
   ]
  },
  {
   "cell_type": "code",
   "execution_count": 41,
   "metadata": {
    "collapsed": true
   },
   "outputs": [],
   "source": [
    "# helper function to filter the data set down to rows of interest\n",
    "def Filter_Data(data):\n",
    "    \n",
    "    # set flags for filtering\n",
    "    status_flags =  ~data.Plot.isnull() & \\\n",
    "                    ~data.Plot.str.match('NA', na = False)          \n",
    "                \n",
    "    # filter rows per flags above\n",
    "    data_filter = data.ix[status_flags, :].reset_index(drop = True)\n",
    "    \n",
    "    return data_filter"
   ]
  },
  {
   "cell_type": "code",
   "execution_count": 42,
   "metadata": {
    "collapsed": true
   },
   "outputs": [],
   "source": [
    "# helper function to clean data\n",
    "def Clean_Data(data):\n",
    "    data_clean = data.copy()\n",
    "    data_clean.Plot = data_clean.Plot.str.replace(\"\\n|\\r\", ' ')\n",
    "        \n",
    "    return data_clean"
   ]
  },
  {
   "cell_type": "code",
   "execution_count": 43,
   "metadata": {
    "collapsed": true
   },
   "outputs": [],
   "source": [
    "def Preprocess_Dataset():\n",
    "    clean_data_filename = \"clean_data_with_Y.csv\"\n",
    "\n",
    "    # preprocess data set and save result as new file\n",
    "    if not op.isfile(clean_data_filename):\n",
    "        data_raw = pd.read_csv(\"imdb_movies_trim.csv\")\n",
    "        data_select = Select_Data(data_raw)\n",
    "        data_filter = Filter_Data(data_select)\n",
    "        data_clean = Clean_Data(data_filter)\n",
    "        data_clean.to_csv(clean_data_filename, index = False)\n",
    "\n",
    "    # read pre-processed sample data file\n",
    "    data_clean2 = pd.read_csv(clean_data_filename)\n",
    "        \n",
    "    return data_clean2"
   ]
  },
  {
   "cell_type": "code",
   "execution_count": 44,
   "metadata": {
    "collapsed": true
   },
   "outputs": [],
   "source": [
    "# pre-process or load data for analysis\n",
    "data = Preprocess_Dataset()   \n",
    "\n",
    "# set boolean and string column data types\n",
    "data.Plot = data.Plot.astype('str')\n",
    "\n",
    "# split data into train vs. test sets\n",
    "data_train, data_test = sk_split(data, train_size = train_percent / 100.0)\n",
    "x_train = data_train.Plot\n",
    "x_test = data_test.Plot\n",
    "y_train = data_train.loc[:, genres]\n",
    "y_test = data_test.loc[:, genres]"
   ]
  },
  {
   "cell_type": "code",
   "execution_count": 45,
   "metadata": {
    "scrolled": false
   },
   "outputs": [
    {
     "name": "stdout",
     "output_type": "stream",
     "text": [
      "\n",
      "Data dimensions: (28098, 21)\n"
     ]
    },
    {
     "data": {
      "text/html": [
       "<div>\n",
       "<table border=\"1\" class=\"dataframe\">\n",
       "  <thead>\n",
       "    <tr style=\"text-align: right;\">\n",
       "      <th></th>\n",
       "      <th>Plot</th>\n",
       "      <th>Imdb_Id</th>\n",
       "      <th>Action</th>\n",
       "      <th>Adventure</th>\n",
       "      <th>Animation</th>\n",
       "      <th>Comedy</th>\n",
       "      <th>Crime</th>\n",
       "      <th>Documentary</th>\n",
       "      <th>Drama</th>\n",
       "      <th>Family</th>\n",
       "      <th>...</th>\n",
       "      <th>History</th>\n",
       "      <th>Horror</th>\n",
       "      <th>Music</th>\n",
       "      <th>Musical</th>\n",
       "      <th>Mystery</th>\n",
       "      <th>Romance</th>\n",
       "      <th>Sci-Fi</th>\n",
       "      <th>Thriller</th>\n",
       "      <th>War</th>\n",
       "      <th>Western</th>\n",
       "    </tr>\n",
       "  </thead>\n",
       "  <tbody>\n",
       "    <tr>\n",
       "      <th>23151</th>\n",
       "      <td>On a ski trip, rich, idle Peter Kirk pursues a...</td>\n",
       "      <td>34407</td>\n",
       "      <td>0.0</td>\n",
       "      <td>0.0</td>\n",
       "      <td>0.0</td>\n",
       "      <td>1.0</td>\n",
       "      <td>0.0</td>\n",
       "      <td>0.0</td>\n",
       "      <td>0.0</td>\n",
       "      <td>0.0</td>\n",
       "      <td>...</td>\n",
       "      <td>0.0</td>\n",
       "      <td>0.0</td>\n",
       "      <td>0.0</td>\n",
       "      <td>0.0</td>\n",
       "      <td>0.0</td>\n",
       "      <td>1.0</td>\n",
       "      <td>0.0</td>\n",
       "      <td>0.0</td>\n",
       "      <td>0.0</td>\n",
       "      <td>0.0</td>\n",
       "    </tr>\n",
       "    <tr>\n",
       "      <th>29699</th>\n",
       "      <td>Inspired by a magician named Shiny Chariot, th...</td>\n",
       "      <td>2704454</td>\n",
       "      <td>0.0</td>\n",
       "      <td>0.0</td>\n",
       "      <td>1.0</td>\n",
       "      <td>0.0</td>\n",
       "      <td>0.0</td>\n",
       "      <td>0.0</td>\n",
       "      <td>0.0</td>\n",
       "      <td>0.0</td>\n",
       "      <td>...</td>\n",
       "      <td>0.0</td>\n",
       "      <td>0.0</td>\n",
       "      <td>0.0</td>\n",
       "      <td>0.0</td>\n",
       "      <td>0.0</td>\n",
       "      <td>0.0</td>\n",
       "      <td>0.0</td>\n",
       "      <td>0.0</td>\n",
       "      <td>0.0</td>\n",
       "      <td>0.0</td>\n",
       "    </tr>\n",
       "    <tr>\n",
       "      <th>7149</th>\n",
       "      <td>Jenny Nix, wife of eminent child psychologist ...</td>\n",
       "      <td>105217</td>\n",
       "      <td>0.0</td>\n",
       "      <td>0.0</td>\n",
       "      <td>0.0</td>\n",
       "      <td>0.0</td>\n",
       "      <td>1.0</td>\n",
       "      <td>0.0</td>\n",
       "      <td>1.0</td>\n",
       "      <td>0.0</td>\n",
       "      <td>...</td>\n",
       "      <td>0.0</td>\n",
       "      <td>1.0</td>\n",
       "      <td>0.0</td>\n",
       "      <td>0.0</td>\n",
       "      <td>0.0</td>\n",
       "      <td>0.0</td>\n",
       "      <td>0.0</td>\n",
       "      <td>1.0</td>\n",
       "      <td>0.0</td>\n",
       "      <td>0.0</td>\n",
       "    </tr>\n",
       "    <tr>\n",
       "      <th>24740</th>\n",
       "      <td>Nora is a stewardess for ATI Airlines. She lan...</td>\n",
       "      <td>71344</td>\n",
       "      <td>1.0</td>\n",
       "      <td>0.0</td>\n",
       "      <td>0.0</td>\n",
       "      <td>0.0</td>\n",
       "      <td>0.0</td>\n",
       "      <td>0.0</td>\n",
       "      <td>0.0</td>\n",
       "      <td>0.0</td>\n",
       "      <td>...</td>\n",
       "      <td>0.0</td>\n",
       "      <td>0.0</td>\n",
       "      <td>0.0</td>\n",
       "      <td>0.0</td>\n",
       "      <td>0.0</td>\n",
       "      <td>0.0</td>\n",
       "      <td>0.0</td>\n",
       "      <td>0.0</td>\n",
       "      <td>0.0</td>\n",
       "      <td>0.0</td>\n",
       "    </tr>\n",
       "    <tr>\n",
       "      <th>25965</th>\n",
       "      <td>7-year-old Bertil's parents are at work and Be...</td>\n",
       "      <td>100264</td>\n",
       "      <td>0.0</td>\n",
       "      <td>0.0</td>\n",
       "      <td>0.0</td>\n",
       "      <td>0.0</td>\n",
       "      <td>0.0</td>\n",
       "      <td>0.0</td>\n",
       "      <td>0.0</td>\n",
       "      <td>1.0</td>\n",
       "      <td>...</td>\n",
       "      <td>0.0</td>\n",
       "      <td>0.0</td>\n",
       "      <td>0.0</td>\n",
       "      <td>0.0</td>\n",
       "      <td>0.0</td>\n",
       "      <td>0.0</td>\n",
       "      <td>0.0</td>\n",
       "      <td>0.0</td>\n",
       "      <td>0.0</td>\n",
       "      <td>0.0</td>\n",
       "    </tr>\n",
       "  </tbody>\n",
       "</table>\n",
       "<p>5 rows × 21 columns</p>\n",
       "</div>"
      ],
      "text/plain": [
       "                                                    Plot  Imdb_Id  Action  \\\n",
       "23151  On a ski trip, rich, idle Peter Kirk pursues a...    34407     0.0   \n",
       "29699  Inspired by a magician named Shiny Chariot, th...  2704454     0.0   \n",
       "7149   Jenny Nix, wife of eminent child psychologist ...   105217     0.0   \n",
       "24740  Nora is a stewardess for ATI Airlines. She lan...    71344     1.0   \n",
       "25965  7-year-old Bertil's parents are at work and Be...   100264     0.0   \n",
       "\n",
       "       Adventure  Animation  Comedy  Crime  Documentary  Drama  Family  \\\n",
       "23151        0.0        0.0     1.0    0.0          0.0    0.0     0.0   \n",
       "29699        0.0        1.0     0.0    0.0          0.0    0.0     0.0   \n",
       "7149         0.0        0.0     0.0    1.0          0.0    1.0     0.0   \n",
       "24740        0.0        0.0     0.0    0.0          0.0    0.0     0.0   \n",
       "25965        0.0        0.0     0.0    0.0          0.0    0.0     1.0   \n",
       "\n",
       "        ...     History  Horror  Music  Musical  Mystery  Romance  Sci-Fi  \\\n",
       "23151   ...         0.0     0.0    0.0      0.0      0.0      1.0     0.0   \n",
       "29699   ...         0.0     0.0    0.0      0.0      0.0      0.0     0.0   \n",
       "7149    ...         0.0     1.0    0.0      0.0      0.0      0.0     0.0   \n",
       "24740   ...         0.0     0.0    0.0      0.0      0.0      0.0     0.0   \n",
       "25965   ...         0.0     0.0    0.0      0.0      0.0      0.0     0.0   \n",
       "\n",
       "       Thriller  War  Western  \n",
       "23151       0.0  0.0      0.0  \n",
       "29699       0.0  0.0      0.0  \n",
       "7149        1.0  0.0      0.0  \n",
       "24740       0.0  0.0      0.0  \n",
       "25965       0.0  0.0      0.0  \n",
       "\n",
       "[5 rows x 21 columns]"
      ]
     },
     "metadata": {},
     "output_type": "display_data"
    }
   ],
   "source": [
    "# get overview of data\n",
    "print\n",
    "print(\"Data dimensions: \" + str(data_train.shape))\n",
    "display(data_train.head())"
   ]
  },
  {
   "cell_type": "code",
   "execution_count": 46,
   "metadata": {
    "scrolled": true
   },
   "outputs": [
    {
     "data": {
      "text/html": [
       "<div>\n",
       "<table border=\"1\" class=\"dataframe\">\n",
       "  <thead>\n",
       "    <tr style=\"text-align: right;\">\n",
       "      <th></th>\n",
       "      <th>Imdb_Id</th>\n",
       "      <th>Action</th>\n",
       "      <th>Adventure</th>\n",
       "      <th>Animation</th>\n",
       "      <th>Comedy</th>\n",
       "      <th>Crime</th>\n",
       "      <th>Documentary</th>\n",
       "      <th>Drama</th>\n",
       "      <th>Family</th>\n",
       "      <th>Fantasy</th>\n",
       "      <th>History</th>\n",
       "      <th>Horror</th>\n",
       "      <th>Music</th>\n",
       "      <th>Musical</th>\n",
       "      <th>Mystery</th>\n",
       "      <th>Romance</th>\n",
       "      <th>Sci-Fi</th>\n",
       "      <th>Thriller</th>\n",
       "      <th>War</th>\n",
       "      <th>Western</th>\n",
       "    </tr>\n",
       "  </thead>\n",
       "  <tbody>\n",
       "    <tr>\n",
       "      <th>count</th>\n",
       "      <td>2.809800e+04</td>\n",
       "      <td>28098.000000</td>\n",
       "      <td>28098.000000</td>\n",
       "      <td>28098.000000</td>\n",
       "      <td>28098.000000</td>\n",
       "      <td>28098.000000</td>\n",
       "      <td>28098.000000</td>\n",
       "      <td>28098.000000</td>\n",
       "      <td>28098.000000</td>\n",
       "      <td>28098.000000</td>\n",
       "      <td>28098.000000</td>\n",
       "      <td>28098.000000</td>\n",
       "      <td>28098.000000</td>\n",
       "      <td>28098.000000</td>\n",
       "      <td>28098.000000</td>\n",
       "      <td>28098.000000</td>\n",
       "      <td>28098.000000</td>\n",
       "      <td>28098.000000</td>\n",
       "      <td>28098.000000</td>\n",
       "      <td>28098.000000</td>\n",
       "    </tr>\n",
       "    <tr>\n",
       "      <th>mean</th>\n",
       "      <td>8.335975e+05</td>\n",
       "      <td>0.141896</td>\n",
       "      <td>0.102000</td>\n",
       "      <td>0.043775</td>\n",
       "      <td>0.322229</td>\n",
       "      <td>0.141006</td>\n",
       "      <td>0.087551</td>\n",
       "      <td>0.516015</td>\n",
       "      <td>0.069827</td>\n",
       "      <td>0.071571</td>\n",
       "      <td>0.042103</td>\n",
       "      <td>0.113745</td>\n",
       "      <td>0.036551</td>\n",
       "      <td>0.030750</td>\n",
       "      <td>0.076803</td>\n",
       "      <td>0.197772</td>\n",
       "      <td>0.076945</td>\n",
       "      <td>0.203609</td>\n",
       "      <td>0.045092</td>\n",
       "      <td>0.028472</td>\n",
       "    </tr>\n",
       "    <tr>\n",
       "      <th>std</th>\n",
       "      <td>1.124578e+06</td>\n",
       "      <td>0.348950</td>\n",
       "      <td>0.302654</td>\n",
       "      <td>0.204599</td>\n",
       "      <td>0.467339</td>\n",
       "      <td>0.348034</td>\n",
       "      <td>0.282645</td>\n",
       "      <td>0.499752</td>\n",
       "      <td>0.254860</td>\n",
       "      <td>0.257781</td>\n",
       "      <td>0.200827</td>\n",
       "      <td>0.317507</td>\n",
       "      <td>0.187659</td>\n",
       "      <td>0.172641</td>\n",
       "      <td>0.266283</td>\n",
       "      <td>0.398326</td>\n",
       "      <td>0.266509</td>\n",
       "      <td>0.402688</td>\n",
       "      <td>0.207510</td>\n",
       "      <td>0.166319</td>\n",
       "    </tr>\n",
       "    <tr>\n",
       "      <th>min</th>\n",
       "      <td>3.000000e+00</td>\n",
       "      <td>0.000000</td>\n",
       "      <td>0.000000</td>\n",
       "      <td>0.000000</td>\n",
       "      <td>0.000000</td>\n",
       "      <td>0.000000</td>\n",
       "      <td>0.000000</td>\n",
       "      <td>0.000000</td>\n",
       "      <td>0.000000</td>\n",
       "      <td>0.000000</td>\n",
       "      <td>0.000000</td>\n",
       "      <td>0.000000</td>\n",
       "      <td>0.000000</td>\n",
       "      <td>0.000000</td>\n",
       "      <td>0.000000</td>\n",
       "      <td>0.000000</td>\n",
       "      <td>0.000000</td>\n",
       "      <td>0.000000</td>\n",
       "      <td>0.000000</td>\n",
       "      <td>0.000000</td>\n",
       "    </tr>\n",
       "    <tr>\n",
       "      <th>25%</th>\n",
       "      <td>8.039150e+04</td>\n",
       "      <td>0.000000</td>\n",
       "      <td>0.000000</td>\n",
       "      <td>0.000000</td>\n",
       "      <td>0.000000</td>\n",
       "      <td>0.000000</td>\n",
       "      <td>0.000000</td>\n",
       "      <td>0.000000</td>\n",
       "      <td>0.000000</td>\n",
       "      <td>0.000000</td>\n",
       "      <td>0.000000</td>\n",
       "      <td>0.000000</td>\n",
       "      <td>0.000000</td>\n",
       "      <td>0.000000</td>\n",
       "      <td>0.000000</td>\n",
       "      <td>0.000000</td>\n",
       "      <td>0.000000</td>\n",
       "      <td>0.000000</td>\n",
       "      <td>0.000000</td>\n",
       "      <td>0.000000</td>\n",
       "    </tr>\n",
       "    <tr>\n",
       "      <th>50%</th>\n",
       "      <td>2.502410e+05</td>\n",
       "      <td>0.000000</td>\n",
       "      <td>0.000000</td>\n",
       "      <td>0.000000</td>\n",
       "      <td>0.000000</td>\n",
       "      <td>0.000000</td>\n",
       "      <td>0.000000</td>\n",
       "      <td>1.000000</td>\n",
       "      <td>0.000000</td>\n",
       "      <td>0.000000</td>\n",
       "      <td>0.000000</td>\n",
       "      <td>0.000000</td>\n",
       "      <td>0.000000</td>\n",
       "      <td>0.000000</td>\n",
       "      <td>0.000000</td>\n",
       "      <td>0.000000</td>\n",
       "      <td>0.000000</td>\n",
       "      <td>0.000000</td>\n",
       "      <td>0.000000</td>\n",
       "      <td>0.000000</td>\n",
       "    </tr>\n",
       "    <tr>\n",
       "      <th>75%</th>\n",
       "      <td>1.333477e+06</td>\n",
       "      <td>0.000000</td>\n",
       "      <td>0.000000</td>\n",
       "      <td>0.000000</td>\n",
       "      <td>1.000000</td>\n",
       "      <td>0.000000</td>\n",
       "      <td>0.000000</td>\n",
       "      <td>1.000000</td>\n",
       "      <td>0.000000</td>\n",
       "      <td>0.000000</td>\n",
       "      <td>0.000000</td>\n",
       "      <td>0.000000</td>\n",
       "      <td>0.000000</td>\n",
       "      <td>0.000000</td>\n",
       "      <td>0.000000</td>\n",
       "      <td>0.000000</td>\n",
       "      <td>0.000000</td>\n",
       "      <td>0.000000</td>\n",
       "      <td>0.000000</td>\n",
       "      <td>0.000000</td>\n",
       "    </tr>\n",
       "    <tr>\n",
       "      <th>max</th>\n",
       "      <td>6.098922e+06</td>\n",
       "      <td>1.000000</td>\n",
       "      <td>1.000000</td>\n",
       "      <td>1.000000</td>\n",
       "      <td>1.000000</td>\n",
       "      <td>1.000000</td>\n",
       "      <td>1.000000</td>\n",
       "      <td>1.000000</td>\n",
       "      <td>1.000000</td>\n",
       "      <td>1.000000</td>\n",
       "      <td>1.000000</td>\n",
       "      <td>1.000000</td>\n",
       "      <td>1.000000</td>\n",
       "      <td>1.000000</td>\n",
       "      <td>1.000000</td>\n",
       "      <td>1.000000</td>\n",
       "      <td>1.000000</td>\n",
       "      <td>1.000000</td>\n",
       "      <td>1.000000</td>\n",
       "      <td>1.000000</td>\n",
       "    </tr>\n",
       "  </tbody>\n",
       "</table>\n",
       "</div>"
      ],
      "text/plain": [
       "            Imdb_Id        Action     Adventure     Animation        Comedy  \\\n",
       "count  2.809800e+04  28098.000000  28098.000000  28098.000000  28098.000000   \n",
       "mean   8.335975e+05      0.141896      0.102000      0.043775      0.322229   \n",
       "std    1.124578e+06      0.348950      0.302654      0.204599      0.467339   \n",
       "min    3.000000e+00      0.000000      0.000000      0.000000      0.000000   \n",
       "25%    8.039150e+04      0.000000      0.000000      0.000000      0.000000   \n",
       "50%    2.502410e+05      0.000000      0.000000      0.000000      0.000000   \n",
       "75%    1.333477e+06      0.000000      0.000000      0.000000      1.000000   \n",
       "max    6.098922e+06      1.000000      1.000000      1.000000      1.000000   \n",
       "\n",
       "              Crime   Documentary         Drama        Family       Fantasy  \\\n",
       "count  28098.000000  28098.000000  28098.000000  28098.000000  28098.000000   \n",
       "mean       0.141006      0.087551      0.516015      0.069827      0.071571   \n",
       "std        0.348034      0.282645      0.499752      0.254860      0.257781   \n",
       "min        0.000000      0.000000      0.000000      0.000000      0.000000   \n",
       "25%        0.000000      0.000000      0.000000      0.000000      0.000000   \n",
       "50%        0.000000      0.000000      1.000000      0.000000      0.000000   \n",
       "75%        0.000000      0.000000      1.000000      0.000000      0.000000   \n",
       "max        1.000000      1.000000      1.000000      1.000000      1.000000   \n",
       "\n",
       "            History        Horror         Music       Musical       Mystery  \\\n",
       "count  28098.000000  28098.000000  28098.000000  28098.000000  28098.000000   \n",
       "mean       0.042103      0.113745      0.036551      0.030750      0.076803   \n",
       "std        0.200827      0.317507      0.187659      0.172641      0.266283   \n",
       "min        0.000000      0.000000      0.000000      0.000000      0.000000   \n",
       "25%        0.000000      0.000000      0.000000      0.000000      0.000000   \n",
       "50%        0.000000      0.000000      0.000000      0.000000      0.000000   \n",
       "75%        0.000000      0.000000      0.000000      0.000000      0.000000   \n",
       "max        1.000000      1.000000      1.000000      1.000000      1.000000   \n",
       "\n",
       "            Romance        Sci-Fi      Thriller           War       Western  \n",
       "count  28098.000000  28098.000000  28098.000000  28098.000000  28098.000000  \n",
       "mean       0.197772      0.076945      0.203609      0.045092      0.028472  \n",
       "std        0.398326      0.266509      0.402688      0.207510      0.166319  \n",
       "min        0.000000      0.000000      0.000000      0.000000      0.000000  \n",
       "25%        0.000000      0.000000      0.000000      0.000000      0.000000  \n",
       "50%        0.000000      0.000000      0.000000      0.000000      0.000000  \n",
       "75%        0.000000      0.000000      0.000000      0.000000      0.000000  \n",
       "max        1.000000      1.000000      1.000000      1.000000      1.000000  "
      ]
     },
     "execution_count": 46,
     "metadata": {},
     "output_type": "execute_result"
    }
   ],
   "source": [
    "# summarize data\n",
    "data_train.describe()"
   ]
  },
  {
   "cell_type": "markdown",
   "metadata": {},
   "source": [
    "## Step 2: Create NLP Features"
   ]
  },
  {
   "cell_type": "markdown",
   "metadata": {},
   "source": [
    "### Process Text"
   ]
  },
  {
   "cell_type": "markdown",
   "metadata": {},
   "source": [
    "For the training data, we proceed with the following steps:\n",
    "    \n",
    "1. Stem words to reduce noise in the data\n",
    "2. Fit a TF-IDF vectorizer and build a document-term matrix\n",
    "3. Fit principal components and reduce the data"
   ]
  },
  {
   "cell_type": "code",
   "execution_count": 47,
   "metadata": {
    "collapsed": true
   },
   "outputs": [],
   "source": [
    "### set up word stemming\n",
    "\n",
    "from nltk.stem import SnowballStemmer\n",
    "\n",
    "stemmer = SnowballStemmer(language = 'english', ignore_stopwords = True)\n",
    "analyzer = TfidfVectorizer().build_analyzer()\n",
    "\n",
    "def stemmed_words(doc):\n",
    "    return (stemmer.stem(w) for w in analyzer(doc))\n",
    "\n",
    "def take(n, seq):\n",
    "    seq = iter(seq)\n",
    "    result = []\n",
    "    try:\n",
    "        for i in range(n):\n",
    "            result.append(seq.next())\n",
    "    except StopIteration:\n",
    "        pass\n",
    "    \n",
    "    return result"
   ]
  },
  {
   "cell_type": "markdown",
   "metadata": {},
   "source": [
    "#### Training Data"
   ]
  },
  {
   "cell_type": "code",
   "execution_count": 48,
   "metadata": {
    "collapsed": true
   },
   "outputs": [],
   "source": [
    "# stem words in Plot field (train)\n",
    "for index in range(x_train.shape[0]):\n",
    "    x_train.values[index] = \\\n",
    "        \" \".join(take(1000, stemmed_words(x_train.values[index])))"
   ]
  },
  {
   "cell_type": "code",
   "execution_count": 49,
   "metadata": {},
   "outputs": [
    {
     "name": "stdout",
     "output_type": "stream",
     "text": [
      "(28098, 59820)\n"
     ]
    }
   ],
   "source": [
    "# create n-grams from plot (train)\n",
    "vectorizer = TfidfVectorizer(stop_words = 'english', ngram_range = (1, 1))\n",
    "vectorizer.fit(x_train.values)\n",
    "plot_matrix_train = vectorizer.transform(x_train.values)\n",
    "n, p = plot_matrix_train.shape\n",
    "print plot_matrix_train.shape\n",
    "\n",
    "# term_freqs_file = \"term_freqs.mtx\"\n",
    "#if not op.isfile(term_freqs_file):\n",
    "#    mmwrite(term_freqs_file, plot_matrix_train)"
   ]
  },
  {
   "cell_type": "code",
   "execution_count": 50,
   "metadata": {},
   "outputs": [
    {
     "name": "stdout",
     "output_type": "stream",
     "text": [
      "\n",
      "Cumulative percentage of variance explained: 0.0892\n"
     ]
    }
   ],
   "source": [
    "# apply SVD to document-term matrix (train)\n",
    "num_pc = 100\n",
    "num_pc_qda = 10\n",
    "tsvd = tSVD(n_components = num_pc)\n",
    "tsvd.fit(plot_matrix_train)\n",
    "x_train_pca = tsvd.transform(plot_matrix_train)\n",
    "print\n",
    "print(\"Cumulative percentage of variance explained: \" + \\\n",
    "      str(round(tsvd.explained_variance_ratio_.sum(), 4)))"
   ]
  },
  {
   "cell_type": "code",
   "execution_count": 51,
   "metadata": {
    "collapsed": true
   },
   "outputs": [],
   "source": [
    "pc1 = tsvd.components_[0]\n",
    "pc1_top_loadings = np.where(pc1 > 10**-1.5)"
   ]
  },
  {
   "cell_type": "markdown",
   "metadata": {},
   "source": [
    "#### Testing Data\n",
    "\n",
    "Vectorizer and principal-components transformations of the testing data are performed using fits from the training data."
   ]
  },
  {
   "cell_type": "code",
   "execution_count": 52,
   "metadata": {
    "collapsed": true
   },
   "outputs": [],
   "source": [
    "# stem words in Plot field (test)\n",
    "for index in range(data_test.shape[0]):\n",
    "    x_test.values[index] = \\\n",
    "        \" \".join(take(1000, stemmed_words(x_test.values[index])))\n",
    "\n",
    "# create n-grams from plot (test)\n",
    "plot_matrix_test = vectorizer.transform(x_test.values)\n",
    "\n",
    "# apply SVD to document-term matrix (test)\n",
    "x_test_pca = tsvd.transform(plot_matrix_test)"
   ]
  },
  {
   "cell_type": "markdown",
   "metadata": {},
   "source": [
    "### Explore Terms"
   ]
  },
  {
   "cell_type": "code",
   "execution_count": 53,
   "metadata": {},
   "outputs": [
    {
     "name": "stdout",
     "output_type": "stream",
     "text": [
      "Total number of plots and terms: 28098 plots and 59820 terms\n",
      "\n"
     ]
    },
    {
     "data": {
      "text/html": [
       "<div>\n",
       "<table border=\"1\" class=\"dataframe\">\n",
       "  <thead>\n",
       "    <tr style=\"text-align: right;\">\n",
       "      <th></th>\n",
       "      <th>Sample_Stemmed_Terms</th>\n",
       "    </tr>\n",
       "  </thead>\n",
       "  <tbody>\n",
       "    <tr>\n",
       "      <th>0</th>\n",
       "      <td>7ft</td>\n",
       "    </tr>\n",
       "    <tr>\n",
       "      <th>1</th>\n",
       "      <td>7pm</td>\n",
       "    </tr>\n",
       "    <tr>\n",
       "      <th>2</th>\n",
       "      <td>7th</td>\n",
       "    </tr>\n",
       "    <tr>\n",
       "      <th>3</th>\n",
       "      <td>7½</td>\n",
       "    </tr>\n",
       "    <tr>\n",
       "      <th>4</th>\n",
       "      <td>7ème</td>\n",
       "    </tr>\n",
       "    <tr>\n",
       "      <th>5</th>\n",
       "      <td>80</td>\n",
       "    </tr>\n",
       "    <tr>\n",
       "      <th>6</th>\n",
       "      <td>800</td>\n",
       "    </tr>\n",
       "    <tr>\n",
       "      <th>7</th>\n",
       "      <td>8000</td>\n",
       "    </tr>\n",
       "    <tr>\n",
       "      <th>8</th>\n",
       "      <td>800km</td>\n",
       "    </tr>\n",
       "    <tr>\n",
       "      <th>9</th>\n",
       "      <td>80s</td>\n",
       "    </tr>\n",
       "  </tbody>\n",
       "</table>\n",
       "</div>"
      ],
      "text/plain": [
       "  Sample_Stemmed_Terms\n",
       "0                  7ft\n",
       "1                  7pm\n",
       "2                  7th\n",
       "3                   7½\n",
       "4                 7ème\n",
       "5                   80\n",
       "6                  800\n",
       "7                 8000\n",
       "8                800km\n",
       "9                  80s"
      ]
     },
     "metadata": {},
     "output_type": "display_data"
    }
   ],
   "source": [
    "# print sample terms from plot\n",
    "feature_names = np.array(vectorizer.get_feature_names()).reshape(-1, 1)\n",
    "print \"Total number of plots and terms: \" + str(n) + \" plots and \" \\\n",
    "    + str(p) + \" terms\"\n",
    "print\n",
    "terms_df = pd.DataFrame(feature_names[1000:1010, 0], \n",
    "                        columns = ['Sample_Stemmed_Terms'])\n",
    "display(terms_df)"
   ]
  },
  {
   "cell_type": "code",
   "execution_count": 54,
   "metadata": {
    "collapsed": true
   },
   "outputs": [],
   "source": [
    "# count words and vocabulary per plot\n",
    "data_train.Word_Count = plot_matrix_train.sum(axis = 1)\n",
    "data_train.Vocab_Count = (plot_matrix_train > 0).sum(axis = 1)"
   ]
  },
  {
   "cell_type": "code",
   "execution_count": 55,
   "metadata": {
    "collapsed": true
   },
   "outputs": [],
   "source": [
    "# create term dictionary\n",
    "all_term_dict = zip(vectorizer.get_feature_names(),\n",
    "                    np.asarray(plot_matrix_train.sum(axis = 0)).ravel())\n",
    "all_term_dict_df = pd.DataFrame(all_term_dict).sort_values(by = [1], \n",
    "                                                           ascending = False)"
   ]
  },
  {
   "cell_type": "code",
   "execution_count": 56,
   "metadata": {},
   "outputs": [
    {
     "name": "stdout",
     "output_type": "stream",
     "text": [
      "\n",
      "Most frequent stemmed terms in plots\n"
     ]
    },
    {
     "data": {
      "text/html": [
       "<div>\n",
       "<table border=\"1\" class=\"dataframe\">\n",
       "  <thead>\n",
       "    <tr style=\"text-align: right;\">\n",
       "      <th></th>\n",
       "      <th>Stemmed_Term</th>\n",
       "      <th>Count</th>\n",
       "    </tr>\n",
       "  </thead>\n",
       "  <tbody>\n",
       "    <tr>\n",
       "      <th>0</th>\n",
       "      <td>life</td>\n",
       "      <td>430.507238</td>\n",
       "    </tr>\n",
       "    <tr>\n",
       "      <th>1</th>\n",
       "      <td>young</td>\n",
       "      <td>377.803986</td>\n",
       "    </tr>\n",
       "    <tr>\n",
       "      <th>2</th>\n",
       "      <td>love</td>\n",
       "      <td>371.314819</td>\n",
       "    </tr>\n",
       "    <tr>\n",
       "      <th>3</th>\n",
       "      <td>man</td>\n",
       "      <td>370.469078</td>\n",
       "    </tr>\n",
       "    <tr>\n",
       "      <th>4</th>\n",
       "      <td>year</td>\n",
       "      <td>350.169381</td>\n",
       "    </tr>\n",
       "    <tr>\n",
       "      <th>5</th>\n",
       "      <td>famili</td>\n",
       "      <td>346.738621</td>\n",
       "    </tr>\n",
       "    <tr>\n",
       "      <th>6</th>\n",
       "      <td>live</td>\n",
       "      <td>344.472342</td>\n",
       "    </tr>\n",
       "    <tr>\n",
       "      <th>7</th>\n",
       "      <td>friend</td>\n",
       "      <td>342.256436</td>\n",
       "    </tr>\n",
       "    <tr>\n",
       "      <th>8</th>\n",
       "      <td>new</td>\n",
       "      <td>339.080729</td>\n",
       "    </tr>\n",
       "    <tr>\n",
       "      <th>9</th>\n",
       "      <td>stori</td>\n",
       "      <td>303.590756</td>\n",
       "    </tr>\n",
       "    <tr>\n",
       "      <th>10</th>\n",
       "      <td>world</td>\n",
       "      <td>290.520087</td>\n",
       "    </tr>\n",
       "    <tr>\n",
       "      <th>11</th>\n",
       "      <td>film</td>\n",
       "      <td>282.362772</td>\n",
       "    </tr>\n",
       "    <tr>\n",
       "      <th>12</th>\n",
       "      <td>becom</td>\n",
       "      <td>279.056197</td>\n",
       "    </tr>\n",
       "    <tr>\n",
       "      <th>13</th>\n",
       "      <td>woman</td>\n",
       "      <td>275.572920</td>\n",
       "    </tr>\n",
       "    <tr>\n",
       "      <th>14</th>\n",
       "      <td>father</td>\n",
       "      <td>275.414118</td>\n",
       "    </tr>\n",
       "    <tr>\n",
       "      <th>15</th>\n",
       "      <td>girl</td>\n",
       "      <td>274.129737</td>\n",
       "    </tr>\n",
       "    <tr>\n",
       "      <th>16</th>\n",
       "      <td>tri</td>\n",
       "      <td>271.062560</td>\n",
       "    </tr>\n",
       "    <tr>\n",
       "      <th>17</th>\n",
       "      <td>old</td>\n",
       "      <td>260.770978</td>\n",
       "    </tr>\n",
       "    <tr>\n",
       "      <th>18</th>\n",
       "      <td>time</td>\n",
       "      <td>257.998188</td>\n",
       "    </tr>\n",
       "    <tr>\n",
       "      <th>19</th>\n",
       "      <td>work</td>\n",
       "      <td>255.467216</td>\n",
       "    </tr>\n",
       "  </tbody>\n",
       "</table>\n",
       "</div>"
      ],
      "text/plain": [
       "   Stemmed_Term       Count\n",
       "0          life  430.507238\n",
       "1         young  377.803986\n",
       "2          love  371.314819\n",
       "3           man  370.469078\n",
       "4          year  350.169381\n",
       "5        famili  346.738621\n",
       "6          live  344.472342\n",
       "7        friend  342.256436\n",
       "8           new  339.080729\n",
       "9         stori  303.590756\n",
       "10        world  290.520087\n",
       "11         film  282.362772\n",
       "12        becom  279.056197\n",
       "13        woman  275.572920\n",
       "14       father  275.414118\n",
       "15         girl  274.129737\n",
       "16          tri  271.062560\n",
       "17          old  260.770978\n",
       "18         time  257.998188\n",
       "19         work  255.467216"
      ]
     },
     "execution_count": 56,
     "metadata": {},
     "output_type": "execute_result"
    }
   ],
   "source": [
    "# list top terms in dictionary\n",
    "print\n",
    "print \"Most frequent stemmed terms in plots\"\n",
    "all_term_dict_df.columns = ['Stemmed_Term', 'Count']\n",
    "all_term_dict_df.reset_index(drop = True).head(20)"
   ]
  },
  {
   "cell_type": "code",
   "execution_count": 57,
   "metadata": {},
   "outputs": [
    {
     "data": {
      "text/markdown": [
       "#### Top loadings (terms) of principal component 1:"
      ],
      "text/plain": [
       "<IPython.core.display.Markdown object>"
      ]
     },
     "metadata": {},
     "output_type": "display_data"
    },
    {
     "data": {
      "text/markdown": [
       "age, agent, american, anoth, apart, arriv, attempt, away, base, beauti, becom, begin, believ, best, big, boy, break, bring, brother, busi, car, chang, child, children, citi, colleg, come, countri, coupl, crime, daughter, day, dead, deal, death, decid, die, differ, discov, does, doesn, dream, drug, end, escap, event, ex, experi, face, fall, famili, father, feel, fight, film, final, follow, forc, friend, gang, girl, girlfriend, goe, good, group, happen, having, head, help, high, home, hope, hous, howev, human, husband, includ, investig, involv, island, jack, job, john, journey, just, kid, kill, killer, know, later, lead, learn, leav, left, life, like, littl, live, local, long, look, love, make, man, mani, marri, marriag, meet, men, money, mother, movi, murder, music, mysteri, need, new, night, offic, old, order, parent, parti, past, peopl, person, place, plan, play, polic, power, prison, problem, real, realiz, relationship, return, run, save, school, search, secret, set, sister, small, someth, son, soon, star, start, stop, stori, struggl, student, success, surviv, team, teenag, tell, thing, time, togeth, town, train, travel, tri, troubl, true, turn, use, villag, want, war, way, wife, woman, women, work, world, year, york, young"
      ],
      "text/plain": [
       "<IPython.core.display.Markdown object>"
      ]
     },
     "metadata": {},
     "output_type": "display_data"
    }
   ],
   "source": [
    "terms_df = pd.DataFrame(feature_names[pc1_top_loadings], columns = ['Term'])\n",
    "printmd(\"#### Top loadings (terms) of principal component 1:\")\n",
    "printmd(terms_df.Term.str.cat(sep = ', '))"
   ]
  },
  {
   "cell_type": "markdown",
   "metadata": {},
   "source": [
    "These top loadings show a variety of terms used to distinguish one genre from another."
   ]
  },
  {
   "cell_type": "code",
   "execution_count": 58,
   "metadata": {},
   "outputs": [
    {
     "name": "stdout",
     "output_type": "stream",
     "text": [
      "\n"
     ]
    },
    {
     "data": {
      "image/png": "[encoded data removed]",
      "text/plain": [
       "<matplotlib.figure.Figure at 0x1367dedd0>"
      ]
     },
     "metadata": {},
     "output_type": "display_data"
    }
   ],
   "source": [
    "# plot histogram of word counts per plot\n",
    "print\n",
    "fig = plt.figure(figsize = (8, 4))\n",
    "ax = fig.add_subplot(1, 1, 1)\n",
    "ax.hist(data_train.Word_Count, bins = 30, color = 'darkblue', \n",
    "        edgecolor = 'white')\n",
    "ax.set_title(\"Frequency of plot word counts\")\n",
    "ax.set_xlabel(\"Plot word count\")\n",
    "ax.set_ylabel(\"Frequency\")\n",
    "plt.show()"
   ]
  },
  {
   "cell_type": "code",
   "execution_count": 59,
   "metadata": {},
   "outputs": [
    {
     "name": "stdout",
     "output_type": "stream",
     "text": [
      "\n"
     ]
    },
    {
     "data": {
      "image/png": "[encoded data removed]",
      "text/plain": [
       "<matplotlib.figure.Figure at 0x12fa14690>"
      ]
     },
     "metadata": {},
     "output_type": "display_data"
    }
   ],
   "source": [
    "# plot histogram of vocabulary counts per plot\n",
    "print\n",
    "fig = plt.figure(figsize = (8, 4))\n",
    "ax = fig.add_subplot(1, 1, 1)\n",
    "ax.hist(data_train.Vocab_Count, bins = 30, color = 'darkblue', \n",
    "        edgecolor = 'white')\n",
    "ax.set_title(\"Frequency of plot ngram counts\")\n",
    "ax.set_xlabel(\"Plot ngram count\")\n",
    "ax.set_ylabel(\"Frequency\")\n",
    "plt.show()"
   ]
  },
  {
   "cell_type": "markdown",
   "metadata": {
    "collapsed": true
   },
   "source": [
    "## Step 3: Modeling"
   ]
  },
  {
   "cell_type": "markdown",
   "metadata": {},
   "source": [
    "Let's explore a variety of methods, choosing the most effective one(s)."
   ]
  },
  {
   "cell_type": "markdown",
   "metadata": {},
   "source": [
    "### Utility Functions"
   ]
  },
  {
   "cell_type": "code",
   "execution_count": 60,
   "metadata": {
    "collapsed": true
   },
   "outputs": [],
   "source": [
    "# define model codes\n",
    "log_reg = 2\n",
    "lda = 3\n",
    "qda = 4\n",
    "knn = 5\n",
    "rfc = 6\n",
    "gbc = 7\n",
    "svm = 8\n",
    "dtc = 9\n",
    "nb = 10"
   ]
  },
  {
   "cell_type": "code",
   "execution_count": 61,
   "metadata": {
    "collapsed": true
   },
   "outputs": [],
   "source": [
    "# function to return name of model type\n",
    "def get_model_name(model_type):\n",
    "    if model_type == log_reg:\n",
    "        model_name = \"Logistic Regression\"\n",
    "    elif model_type == lda:\n",
    "        model_name = \"LDA\"\n",
    "    elif model_type == qda:\n",
    "        model_name = \"QDA\"\n",
    "    elif model_type == knn:\n",
    "        model_name = \"KNN\"\n",
    "    elif model_type == rfc:\n",
    "        model_name = \"Random Forests\"\n",
    "    elif model_type == gbc:\n",
    "        model_name = \"Boosting\"\n",
    "    elif model_type == svm:\n",
    "        model_name = \"SVM\"\n",
    "    elif model_type == dtc:\n",
    "        model_name = \"Decision Tree\"  \n",
    "    elif model_type == nb:\n",
    "        model_name = \"Naive Bayes\"          \n",
    "    else:\n",
    "        model_name = \"\"\n",
    "        \n",
    "    return model_name"
   ]
  },
  {
   "cell_type": "code",
   "execution_count": 62,
   "metadata": {
    "collapsed": true
   },
   "outputs": [],
   "source": [
    "# function to return unfitted model of given type\n",
    "def get_model_instance(model_type, y):\n",
    "    default_ratio = (y == 1).sum() / float(len(y))\n",
    "    priors = (default_ratio, 1.0 - default_ratio)\n",
    "    \n",
    "    if model_type == log_reg:\n",
    "         model_instance = Log_Reg(C = 1, class_weight = 'balanced', \n",
    "                                  n_jobs = 3)\n",
    "    elif model_type == lda:\n",
    "        model_instance = LDA(priors = priors)\n",
    "    elif model_type == qda:\n",
    "        model_instance = QDA(reg_param = 0)\n",
    "    elif model_type == knn:\n",
    "        model_instance = KNN(n_neighbors = 5)\n",
    "    elif model_type == rfc:\n",
    "        model_instance = RFC(n_estimators = 40, class_weight = 'balanced',\n",
    "                            max_features = 'auto', max_depth = None, \n",
    "                            n_jobs = 3)\n",
    "    elif model_type == gbc:\n",
    "        model_instance = GBC(n_estimators = 100, max_depth = 3)\n",
    "    elif model_type == svm:\n",
    "        model_instance = SVC(kernel = 'rbf', class_weight = 'balanced')\n",
    "    elif model_type == dtc:\n",
    "        model_instance = DTC(class_weight = 'balanced') \n",
    "    elif model_type == nb:\n",
    "        model_instance = NB()         \n",
    "    else:\n",
    "        model_instance = None\n",
    "        \n",
    "    return model_instance"
   ]
  },
  {
   "cell_type": "code",
   "execution_count": 63,
   "metadata": {
    "collapsed": true
   },
   "outputs": [],
   "source": [
    "# function to fit and score one model of given type\n",
    "def cross_validate_one_model(x, y, model_type):\n",
    "    np.random.seed(42)\n",
    "        \n",
    "    train_score_accum = 0\n",
    "    test_score_accum = 0\n",
    "\n",
    "    n_folds = 5\n",
    "    kf = KFold(x.shape[0], n_folds = n_folds)\n",
    "    for train_index, test_index in kf:\n",
    "        x_train, x_test = x[train_index], x[test_index]\n",
    "        y_train, y_test = y.values[train_index], y.values[test_index]\n",
    "  \n",
    "        model = get_model_instance(model_type, y_train)\n",
    "        model.fit(x_train, y_train)\n",
    "        y_predict = model.predict(x_test)\n",
    "        \n",
    "        train_score_accum += model.score(x_train, y_train)\n",
    "        test_score_accum += model.score(x_test, y_test)\n",
    "\n",
    "    # calculate accuracy\n",
    "    train_score = train_score_accum / float(n_folds)\n",
    "    test_score = test_score_accum / float(n_folds)\n",
    "    \n",
    "    return test_score"
   ]
  },
  {
   "cell_type": "code",
   "execution_count": 64,
   "metadata": {
    "collapsed": true
   },
   "outputs": [],
   "source": [
    "# function to fit and score one model of given type\n",
    "def fit_and_score_one_model(x_train, y_train, x_test, y_test, model_type):\n",
    "    np.random.seed(42)\n",
    "\n",
    "    model = get_model_instance(model_type, y_train)\n",
    "    model.fit(x_train, y_train)\n",
    "    y_test_predict = model.predict(x_test)\n",
    "\n",
    "    train_accu = model.score(x_train, y_train)\n",
    "    test_accu = model.score(x_test, y_test)\n",
    "    \n",
    "    y_test_null_predict = np.zeros([y_test.shape[0]])\n",
    "    test_null_accu = (y_test.values == y_test_null_predict).sum() / float(y_test.shape[0])\n",
    "    \n",
    "    test_positives = y_test_predict.sum()\n",
    "    \n",
    "    test_precision = precision_score(y_test, y_test_predict, average = 'binary')\n",
    "    \n",
    "    test_recall = recall_score(y_test, y_test_predict, average = 'binary')\n",
    "    \n",
    "    test_hamming = hamming_loss(y_test, y_test_predict)\n",
    "    \n",
    "    return y_test_predict, test_accu, test_null_accu, test_precision, test_recall, \\\n",
    "        test_hamming, test_positives, model"
   ]
  },
  {
   "cell_type": "code",
   "execution_count": 65,
   "metadata": {
    "collapsed": true
   },
   "outputs": [],
   "source": [
    "# function to display a variety of average metrics\n",
    "def display_metrics(test_accu_all, test_null_accu_all, test_precision_all, \n",
    "                test_recall_all, test_hamming_all):\n",
    "    \n",
    "    avg_metrics = pd.Series([round(test_accu_all.mean(), 4),\n",
    "                      round(test_null_accu_all.mean(), 4),\n",
    "                      round(test_precision_all.mean(), 4),\n",
    "                      round(test_recall_all.mean(), 4),\n",
    "                      round(test_hamming_all.mean(), 4)],\n",
    "                               name = 'Value')\n",
    "    \n",
    "    avg_metrics_labels = pd.Series(['Accuracy', \n",
    "                                    'Null Accuracy', \n",
    "                                    'Precision', \n",
    "                                    'Recall',\n",
    "                                    'Hamming Loss'],\n",
    "                                  name = 'Metric')\n",
    "    avg_metrics_df = pd.concat([avg_metrics_labels, avg_metrics], axis = 1)\n",
    "\n",
    "    display(avg_metrics_df)\n",
    "    \n",
    "    return avg_metrics_df"
   ]
  },
  {
   "cell_type": "code",
   "execution_count": 66,
   "metadata": {},
   "outputs": [],
   "source": [
    "def process_one_model(model_type, num_pc):\n",
    "    \n",
    "    # set up metrics accumulators\n",
    "    y_predict_all = np.zeros([x_test.shape[0], num_genres])\n",
    "    y_predict_proba_all = np.zeros([x_test.shape[0], num_genres])    \n",
    "    test_accu_all = np.zeros(num_genres)\n",
    "    test_null_accu_all = np.zeros(num_genres)\n",
    "    test_precision_all = np.zeros(num_genres)\n",
    "    test_recall_all = np.zeros(num_genres)\n",
    "    test_hamming_all = np.zeros(num_genres)\n",
    "    test_positives_all = np.zeros(num_genres)\n",
    "    models = []\n",
    "\n",
    "    # fit and score model on each genre\n",
    "    for i in range(num_genres):\n",
    "        y_predict_all[:, i], test_accu_all[i], test_null_accu_all[i], \\\n",
    "            test_precision_all[i], test_recall_all[i], test_hamming_all[i], \\\n",
    "            test_positives_all[i], model = \\\n",
    "            fit_and_score_one_model(x_train_pca[:, :num_pc], y_train.iloc[:, i], \n",
    "                                    x_test_pca[:, :num_pc], y_test.iloc[:, i], \n",
    "                                    model_type)\n",
    "        y_predict_proba_all[:, i] = model.predict_proba(x_test_pca[:, :num_pc])[:, 1]\n",
    "        models.append(model)\n",
    "        \n",
    "    # force a positive prediction for any movie lacking one\n",
    "    for i in range(y_test.shape[0]):\n",
    "        if not np.any(y_predict_all[i, :]):\n",
    "            y_predict_all[i, np.argmax(y_predict_proba_all[i, :])] = 1\n",
    "    \n",
    "    # metrics\n",
    "    this_x_test = x_test_pca[:, :num_pc]\n",
    "    for i in range(num_genres):\n",
    "        this_y_test = y_test.iloc[:, i]\n",
    "        this_y_test_predict = y_predict_all[:, i]\n",
    "        \n",
    "        test_accu_all[i] = (this_y_test == this_y_test_predict).sum() / \\\n",
    "            float(this_y_test.shape[0])\n",
    "        test_positives_all[i] = this_y_test_predict.sum()\n",
    "        test_precision_all[i] = precision_score(this_y_test, this_y_test_predict, \n",
    "                                                average = 'binary')\n",
    "        test_recall_all[i] = recall_score(this_y_test, this_y_test_predict, \n",
    "                                          average = 'binary')\n",
    "        test_hamming_all[i] = hamming_loss(this_y_test, this_y_test_predict)            \n",
    "       \n",
    "    # tabulate accuracy per genre\n",
    "    test_accu_all_df = pd.DataFrame(test_accu_all, columns = ['Accuracy'])\n",
    "    test_accu_all_df.Accuracy = test_accu_all_df.Accuracy.round(2)\n",
    "    test_accu_all_df.index = genres\n",
    "    printmd(\"#### Test Accuracy by Genre with \" + get_model_name(model_type))\n",
    "    display(test_accu_all_df) \n",
    "    print\n",
    "    \n",
    "    # tabulate number of positive predictions per genre\n",
    "    test_positives_all_df = pd.DataFrame(test_positives_all, columns = ['Count'])\n",
    "    test_positives_all_df.index = genres\n",
    "    share_movies_with_pos_predict = (y_predict_all.sum(axis = 1) > 0).sum() / \\\n",
    "        float(y_predict_all.shape[0])\n",
    "    printmd(\"Percentage of movies having at least one positive prediction = \" + \n",
    "            str(round(100*share_movies_with_pos_predict, 2)) + '%')\n",
    "    printmd(\"#### Number of positive predictions on Testing Data with \" + \\\n",
    "            get_model_name(model_type))\n",
    "    display(test_positives_all_df)    \n",
    "        \n",
    "    # process average metrics\n",
    "    printmd(\"#### Average Test Metrics with \" + get_model_name(model_type))    \n",
    "    metrics = display_metrics(test_accu_all, test_null_accu_all, \n",
    "                             test_precision_all, test_recall_all, \n",
    "                             test_hamming_all)\n",
    "    name = pd.DataFrame(np.repeat(get_model_name(model_type), metrics.shape[0]), \n",
    "                           columns = ['Method'])\n",
    "    metrics = pd.concat([name, metrics], axis = 1)\n",
    "    \n",
    "    return test_accu_all_df, y_predict_all, models, metrics"
   ]
  },
  {
   "cell_type": "markdown",
   "metadata": {},
   "source": [
    "### Modeling"
   ]
  },
  {
   "cell_type": "markdown",
   "metadata": {},
   "source": [
    "Each model below is fit on training data and then scored on testing data."
   ]
  },
  {
   "cell_type": "markdown",
   "metadata": {},
   "source": [
    "#### Different Model Types"
   ]
  },
  {
   "cell_type": "code",
   "execution_count": 67,
   "metadata": {
    "collapsed": true
   },
   "outputs": [],
   "source": [
    "model_types = [lda, log_reg, qda, rfc, gbc, dtc, nb]\n",
    "model_names = ['Linear Discriminant Analysis', 'Logistic Regression', \\\n",
    "               'Quadratic Discriminant Analysis', 'Random Forest Classifier',\n",
    "              'Gradient Boosting Classifier', 'Decision Tree Classifier',\n",
    "              'Naive Bayes']\n",
    "num_model_types = len(model_types)\n",
    "test_accu_models = np.zeros(num_model_types)\n",
    "\n",
    "# fit and score model on each genre\n",
    "for i in range(num_model_types):\n",
    "    x_train = x_train_pca if model_types[i] != \\\n",
    "        qda else x_train_pca[:, 0].reshape(-1, 1)\n",
    "    test_accu_models[i] = \\\n",
    "        cross_validate_one_model(x_train, y_train.Action, model_types[i])"
   ]
  },
  {
   "cell_type": "code",
   "execution_count": 68,
   "metadata": {},
   "outputs": [
    {
     "name": "stdout",
     "output_type": "stream",
     "text": [
      "\n"
     ]
    },
    {
     "data": {
      "text/markdown": [
       "Cross-Validation Accuracy"
      ],
      "text/plain": [
       "<IPython.core.display.Markdown object>"
      ]
     },
     "metadata": {},
     "output_type": "display_data"
    },
    {
     "data": {
      "text/html": [
       "<div>\n",
       "<table border=\"1\" class=\"dataframe\">\n",
       "  <thead>\n",
       "    <tr style=\"text-align: right;\">\n",
       "      <th></th>\n",
       "      <th>Accuracy</th>\n",
       "    </tr>\n",
       "  </thead>\n",
       "  <tbody>\n",
       "    <tr>\n",
       "      <th>Linear Discriminant Analysis</th>\n",
       "      <td>0.58</td>\n",
       "    </tr>\n",
       "    <tr>\n",
       "      <th>Logistic Regression</th>\n",
       "      <td>0.81</td>\n",
       "    </tr>\n",
       "    <tr>\n",
       "      <th>Decision Tree Classifier</th>\n",
       "      <td>0.82</td>\n",
       "    </tr>\n",
       "    <tr>\n",
       "      <th>Naive Bayes</th>\n",
       "      <td>0.83</td>\n",
       "    </tr>\n",
       "    <tr>\n",
       "      <th>Quadratic Discriminant Analysis</th>\n",
       "      <td>0.86</td>\n",
       "    </tr>\n",
       "    <tr>\n",
       "      <th>Random Forest Classifier</th>\n",
       "      <td>0.87</td>\n",
       "    </tr>\n",
       "    <tr>\n",
       "      <th>Gradient Boosting Classifier</th>\n",
       "      <td>0.88</td>\n",
       "    </tr>\n",
       "  </tbody>\n",
       "</table>\n",
       "</div>"
      ],
      "text/plain": [
       "                                 Accuracy\n",
       "Linear Discriminant Analysis         0.58\n",
       "Logistic Regression                  0.81\n",
       "Decision Tree Classifier             0.82\n",
       "Naive Bayes                          0.83\n",
       "Quadratic Discriminant Analysis      0.86\n",
       "Random Forest Classifier             0.87\n",
       "Gradient Boosting Classifier         0.88"
      ]
     },
     "metadata": {},
     "output_type": "display_data"
    }
   ],
   "source": [
    "test_accu_models_df = pd.DataFrame(test_accu_models, columns = ['Accuracy'])\n",
    "test_accu_models_df.Accuracy = test_accu_models_df.Accuracy.round(2)\n",
    "test_accu_models_df.index = model_names\n",
    "test_accu_models_df = test_accu_models_df.sort_values(by = 'Accuracy')\n",
    "\n",
    "print\n",
    "printmd(\"Cross-Validation Accuracy\")\n",
    "display(test_accu_models_df)"
   ]
  },
  {
   "cell_type": "markdown",
   "metadata": {},
   "source": [
    "### Random Forest"
   ]
  },
  {
   "cell_type": "code",
   "execution_count": 69,
   "metadata": {},
   "outputs": [
    {
     "data": {
      "text/markdown": [
       "#### Test Accuracy by Genre with Random Forests"
      ],
      "text/plain": [
       "<IPython.core.display.Markdown object>"
      ]
     },
     "metadata": {},
     "output_type": "display_data"
    },
    {
     "data": {
      "text/html": [
       "<div>\n",
       "<table border=\"1\" class=\"dataframe\">\n",
       "  <thead>\n",
       "    <tr style=\"text-align: right;\">\n",
       "      <th></th>\n",
       "      <th>Accuracy</th>\n",
       "    </tr>\n",
       "  </thead>\n",
       "  <tbody>\n",
       "    <tr>\n",
       "      <th>Action</th>\n",
       "      <td>0.87</td>\n",
       "    </tr>\n",
       "    <tr>\n",
       "      <th>Adventure</th>\n",
       "      <td>0.91</td>\n",
       "    </tr>\n",
       "    <tr>\n",
       "      <th>Animation</th>\n",
       "      <td>0.96</td>\n",
       "    </tr>\n",
       "    <tr>\n",
       "      <th>Comedy</th>\n",
       "      <td>0.73</td>\n",
       "    </tr>\n",
       "    <tr>\n",
       "      <th>Crime</th>\n",
       "      <td>0.88</td>\n",
       "    </tr>\n",
       "    <tr>\n",
       "      <th>Documentary</th>\n",
       "      <td>0.95</td>\n",
       "    </tr>\n",
       "    <tr>\n",
       "      <th>Drama</th>\n",
       "      <td>0.66</td>\n",
       "    </tr>\n",
       "    <tr>\n",
       "      <th>Family</th>\n",
       "      <td>0.94</td>\n",
       "    </tr>\n",
       "    <tr>\n",
       "      <th>Fantasy</th>\n",
       "      <td>0.93</td>\n",
       "    </tr>\n",
       "    <tr>\n",
       "      <th>History</th>\n",
       "      <td>0.96</td>\n",
       "    </tr>\n",
       "    <tr>\n",
       "      <th>Horror</th>\n",
       "      <td>0.91</td>\n",
       "    </tr>\n",
       "    <tr>\n",
       "      <th>Music</th>\n",
       "      <td>0.97</td>\n",
       "    </tr>\n",
       "    <tr>\n",
       "      <th>Musical</th>\n",
       "      <td>0.97</td>\n",
       "    </tr>\n",
       "    <tr>\n",
       "      <th>Mystery</th>\n",
       "      <td>0.92</td>\n",
       "    </tr>\n",
       "    <tr>\n",
       "      <th>Romance</th>\n",
       "      <td>0.82</td>\n",
       "    </tr>\n",
       "    <tr>\n",
       "      <th>Sci-Fi</th>\n",
       "      <td>0.94</td>\n",
       "    </tr>\n",
       "    <tr>\n",
       "      <th>Thriller</th>\n",
       "      <td>0.82</td>\n",
       "    </tr>\n",
       "    <tr>\n",
       "      <th>War</th>\n",
       "      <td>0.96</td>\n",
       "    </tr>\n",
       "    <tr>\n",
       "      <th>Western</th>\n",
       "      <td>0.98</td>\n",
       "    </tr>\n",
       "  </tbody>\n",
       "</table>\n",
       "</div>"
      ],
      "text/plain": [
       "             Accuracy\n",
       "Action           0.87\n",
       "Adventure        0.91\n",
       "Animation        0.96\n",
       "Comedy           0.73\n",
       "Crime            0.88\n",
       "Documentary      0.95\n",
       "Drama            0.66\n",
       "Family           0.94\n",
       "Fantasy          0.93\n",
       "History          0.96\n",
       "Horror           0.91\n",
       "Music            0.97\n",
       "Musical          0.97\n",
       "Mystery          0.92\n",
       "Romance          0.82\n",
       "Sci-Fi           0.94\n",
       "Thriller         0.82\n",
       "War              0.96\n",
       "Western          0.98"
      ]
     },
     "metadata": {},
     "output_type": "display_data"
    },
    {
     "name": "stdout",
     "output_type": "stream",
     "text": [
      "\n"
     ]
    },
    {
     "data": {
      "text/markdown": [
       "Percentage of movies having at least one positive prediction = 100.0%"
      ],
      "text/plain": [
       "<IPython.core.display.Markdown object>"
      ]
     },
     "metadata": {},
     "output_type": "display_data"
    },
    {
     "data": {
      "text/markdown": [
       "#### Number of positive predictions on Testing Data with Random Forests"
      ],
      "text/plain": [
       "<IPython.core.display.Markdown object>"
      ]
     },
     "metadata": {},
     "output_type": "display_data"
    },
    {
     "data": {
      "text/html": [
       "<div>\n",
       "<table border=\"1\" class=\"dataframe\">\n",
       "  <thead>\n",
       "    <tr style=\"text-align: right;\">\n",
       "      <th></th>\n",
       "      <th>Count</th>\n",
       "    </tr>\n",
       "  </thead>\n",
       "  <tbody>\n",
       "    <tr>\n",
       "      <th>Action</th>\n",
       "      <td>285.0</td>\n",
       "    </tr>\n",
       "    <tr>\n",
       "      <th>Adventure</th>\n",
       "      <td>156.0</td>\n",
       "    </tr>\n",
       "    <tr>\n",
       "      <th>Animation</th>\n",
       "      <td>32.0</td>\n",
       "    </tr>\n",
       "    <tr>\n",
       "      <th>Comedy</th>\n",
       "      <td>1138.0</td>\n",
       "    </tr>\n",
       "    <tr>\n",
       "      <th>Crime</th>\n",
       "      <td>343.0</td>\n",
       "    </tr>\n",
       "    <tr>\n",
       "      <th>Documentary</th>\n",
       "      <td>354.0</td>\n",
       "    </tr>\n",
       "    <tr>\n",
       "      <th>Drama</th>\n",
       "      <td>4747.0</td>\n",
       "    </tr>\n",
       "    <tr>\n",
       "      <th>Family</th>\n",
       "      <td>61.0</td>\n",
       "    </tr>\n",
       "    <tr>\n",
       "      <th>Fantasy</th>\n",
       "      <td>62.0</td>\n",
       "    </tr>\n",
       "    <tr>\n",
       "      <th>History</th>\n",
       "      <td>18.0</td>\n",
       "    </tr>\n",
       "    <tr>\n",
       "      <th>Horror</th>\n",
       "      <td>241.0</td>\n",
       "    </tr>\n",
       "    <tr>\n",
       "      <th>Music</th>\n",
       "      <td>84.0</td>\n",
       "    </tr>\n",
       "    <tr>\n",
       "      <th>Musical</th>\n",
       "      <td>6.0</td>\n",
       "    </tr>\n",
       "    <tr>\n",
       "      <th>Mystery</th>\n",
       "      <td>66.0</td>\n",
       "    </tr>\n",
       "    <tr>\n",
       "      <th>Romance</th>\n",
       "      <td>401.0</td>\n",
       "    </tr>\n",
       "    <tr>\n",
       "      <th>Sci-Fi</th>\n",
       "      <td>194.0</td>\n",
       "    </tr>\n",
       "    <tr>\n",
       "      <th>Thriller</th>\n",
       "      <td>498.0</td>\n",
       "    </tr>\n",
       "    <tr>\n",
       "      <th>War</th>\n",
       "      <td>139.0</td>\n",
       "    </tr>\n",
       "    <tr>\n",
       "      <th>Western</th>\n",
       "      <td>42.0</td>\n",
       "    </tr>\n",
       "  </tbody>\n",
       "</table>\n",
       "</div>"
      ],
      "text/plain": [
       "              Count\n",
       "Action        285.0\n",
       "Adventure     156.0\n",
       "Animation      32.0\n",
       "Comedy       1138.0\n",
       "Crime         343.0\n",
       "Documentary   354.0\n",
       "Drama        4747.0\n",
       "Family         61.0\n",
       "Fantasy        62.0\n",
       "History        18.0\n",
       "Horror        241.0\n",
       "Music          84.0\n",
       "Musical         6.0\n",
       "Mystery        66.0\n",
       "Romance       401.0\n",
       "Sci-Fi        194.0\n",
       "Thriller      498.0\n",
       "War           139.0\n",
       "Western        42.0"
      ]
     },
     "metadata": {},
     "output_type": "display_data"
    },
    {
     "data": {
      "text/markdown": [
       "#### Average Test Metrics with Random Forests"
      ],
      "text/plain": [
       "<IPython.core.display.Markdown object>"
      ]
     },
     "metadata": {},
     "output_type": "display_data"
    },
    {
     "data": {
      "text/html": [
       "<div>\n",
       "<table border=\"1\" class=\"dataframe\">\n",
       "  <thead>\n",
       "    <tr style=\"text-align: right;\">\n",
       "      <th></th>\n",
       "      <th>Metric</th>\n",
       "      <th>Value</th>\n",
       "    </tr>\n",
       "  </thead>\n",
       "  <tbody>\n",
       "    <tr>\n",
       "      <th>0</th>\n",
       "      <td>Accuracy</td>\n",
       "      <td>0.8989</td>\n",
       "    </tr>\n",
       "    <tr>\n",
       "      <th>1</th>\n",
       "      <td>Null Accuracy</td>\n",
       "      <td>0.8761</td>\n",
       "    </tr>\n",
       "    <tr>\n",
       "      <th>2</th>\n",
       "      <td>Precision</td>\n",
       "      <td>0.7365</td>\n",
       "    </tr>\n",
       "    <tr>\n",
       "      <th>3</th>\n",
       "      <td>Recall</td>\n",
       "      <td>0.2303</td>\n",
       "    </tr>\n",
       "    <tr>\n",
       "      <th>4</th>\n",
       "      <td>Hamming Loss</td>\n",
       "      <td>0.1020</td>\n",
       "    </tr>\n",
       "  </tbody>\n",
       "</table>\n",
       "</div>"
      ],
      "text/plain": [
       "          Metric   Value\n",
       "0       Accuracy  0.8989\n",
       "1  Null Accuracy  0.8761\n",
       "2      Precision  0.7365\n",
       "3         Recall  0.2303\n",
       "4   Hamming Loss  0.1020"
      ]
     },
     "metadata": {},
     "output_type": "display_data"
    }
   ],
   "source": [
    "test_accu_all_rf_df, y_predict_all_rf, models_rf, rf_metrics = \\\n",
    "    process_one_model(rfc, num_pc)"
   ]
  },
  {
   "cell_type": "markdown",
   "metadata": {},
   "source": [
    "### QDA"
   ]
  },
  {
   "cell_type": "code",
   "execution_count": 70,
   "metadata": {},
   "outputs": [
    {
     "data": {
      "text/markdown": [
       "#### Test Accuracy by Genre with QDA"
      ],
      "text/plain": [
       "<IPython.core.display.Markdown object>"
      ]
     },
     "metadata": {},
     "output_type": "display_data"
    },
    {
     "data": {
      "text/html": [
       "<div>\n",
       "<table border=\"1\" class=\"dataframe\">\n",
       "  <thead>\n",
       "    <tr style=\"text-align: right;\">\n",
       "      <th></th>\n",
       "      <th>Accuracy</th>\n",
       "    </tr>\n",
       "  </thead>\n",
       "  <tbody>\n",
       "    <tr>\n",
       "      <th>Action</th>\n",
       "      <td>0.84</td>\n",
       "    </tr>\n",
       "    <tr>\n",
       "      <th>Adventure</th>\n",
       "      <td>0.85</td>\n",
       "    </tr>\n",
       "    <tr>\n",
       "      <th>Animation</th>\n",
       "      <td>0.92</td>\n",
       "    </tr>\n",
       "    <tr>\n",
       "      <th>Comedy</th>\n",
       "      <td>0.67</td>\n",
       "    </tr>\n",
       "    <tr>\n",
       "      <th>Crime</th>\n",
       "      <td>0.88</td>\n",
       "    </tr>\n",
       "    <tr>\n",
       "      <th>Documentary</th>\n",
       "      <td>0.90</td>\n",
       "    </tr>\n",
       "    <tr>\n",
       "      <th>Drama</th>\n",
       "      <td>0.65</td>\n",
       "    </tr>\n",
       "    <tr>\n",
       "      <th>Family</th>\n",
       "      <td>0.90</td>\n",
       "    </tr>\n",
       "    <tr>\n",
       "      <th>Fantasy</th>\n",
       "      <td>0.91</td>\n",
       "    </tr>\n",
       "    <tr>\n",
       "      <th>History</th>\n",
       "      <td>0.91</td>\n",
       "    </tr>\n",
       "    <tr>\n",
       "      <th>Horror</th>\n",
       "      <td>0.88</td>\n",
       "    </tr>\n",
       "    <tr>\n",
       "      <th>Music</th>\n",
       "      <td>0.95</td>\n",
       "    </tr>\n",
       "    <tr>\n",
       "      <th>Musical</th>\n",
       "      <td>0.97</td>\n",
       "    </tr>\n",
       "    <tr>\n",
       "      <th>Mystery</th>\n",
       "      <td>0.90</td>\n",
       "    </tr>\n",
       "    <tr>\n",
       "      <th>Romance</th>\n",
       "      <td>0.81</td>\n",
       "    </tr>\n",
       "    <tr>\n",
       "      <th>Sci-Fi</th>\n",
       "      <td>0.93</td>\n",
       "    </tr>\n",
       "    <tr>\n",
       "      <th>Thriller</th>\n",
       "      <td>0.80</td>\n",
       "    </tr>\n",
       "    <tr>\n",
       "      <th>War</th>\n",
       "      <td>0.96</td>\n",
       "    </tr>\n",
       "    <tr>\n",
       "      <th>Western</th>\n",
       "      <td>0.95</td>\n",
       "    </tr>\n",
       "  </tbody>\n",
       "</table>\n",
       "</div>"
      ],
      "text/plain": [
       "             Accuracy\n",
       "Action           0.84\n",
       "Adventure        0.85\n",
       "Animation        0.92\n",
       "Comedy           0.67\n",
       "Crime            0.88\n",
       "Documentary      0.90\n",
       "Drama            0.65\n",
       "Family           0.90\n",
       "Fantasy          0.91\n",
       "History          0.91\n",
       "Horror           0.88\n",
       "Music            0.95\n",
       "Musical          0.97\n",
       "Mystery          0.90\n",
       "Romance          0.81\n",
       "Sci-Fi           0.93\n",
       "Thriller         0.80\n",
       "War              0.96\n",
       "Western          0.95"
      ]
     },
     "metadata": {},
     "output_type": "display_data"
    },
    {
     "name": "stdout",
     "output_type": "stream",
     "text": [
      "\n"
     ]
    },
    {
     "data": {
      "text/markdown": [
       "Percentage of movies having at least one positive prediction = 100.0%"
      ],
      "text/plain": [
       "<IPython.core.display.Markdown object>"
      ]
     },
     "metadata": {},
     "output_type": "display_data"
    },
    {
     "data": {
      "text/markdown": [
       "#### Number of positive predictions on Testing Data with QDA"
      ],
      "text/plain": [
       "<IPython.core.display.Markdown object>"
      ]
     },
     "metadata": {},
     "output_type": "display_data"
    },
    {
     "data": {
      "text/html": [
       "<div>\n",
       "<table border=\"1\" class=\"dataframe\">\n",
       "  <thead>\n",
       "    <tr style=\"text-align: right;\">\n",
       "      <th></th>\n",
       "      <th>Count</th>\n",
       "    </tr>\n",
       "  </thead>\n",
       "  <tbody>\n",
       "    <tr>\n",
       "      <th>Action</th>\n",
       "      <td>1188.0</td>\n",
       "    </tr>\n",
       "    <tr>\n",
       "      <th>Adventure</th>\n",
       "      <td>1051.0</td>\n",
       "    </tr>\n",
       "    <tr>\n",
       "      <th>Animation</th>\n",
       "      <td>491.0</td>\n",
       "    </tr>\n",
       "    <tr>\n",
       "      <th>Comedy</th>\n",
       "      <td>2968.0</td>\n",
       "    </tr>\n",
       "    <tr>\n",
       "      <th>Crime</th>\n",
       "      <td>906.0</td>\n",
       "    </tr>\n",
       "    <tr>\n",
       "      <th>Documentary</th>\n",
       "      <td>991.0</td>\n",
       "    </tr>\n",
       "    <tr>\n",
       "      <th>Drama</th>\n",
       "      <td>3406.0</td>\n",
       "    </tr>\n",
       "    <tr>\n",
       "      <th>Family</th>\n",
       "      <td>493.0</td>\n",
       "    </tr>\n",
       "    <tr>\n",
       "      <th>Fantasy</th>\n",
       "      <td>318.0</td>\n",
       "    </tr>\n",
       "    <tr>\n",
       "      <th>History</th>\n",
       "      <td>540.0</td>\n",
       "    </tr>\n",
       "    <tr>\n",
       "      <th>Horror</th>\n",
       "      <td>842.0</td>\n",
       "    </tr>\n",
       "    <tr>\n",
       "      <th>Music</th>\n",
       "      <td>270.0</td>\n",
       "    </tr>\n",
       "    <tr>\n",
       "      <th>Musical</th>\n",
       "      <td>11.0</td>\n",
       "    </tr>\n",
       "    <tr>\n",
       "      <th>Mystery</th>\n",
       "      <td>451.0</td>\n",
       "    </tr>\n",
       "    <tr>\n",
       "      <th>Romance</th>\n",
       "      <td>1149.0</td>\n",
       "    </tr>\n",
       "    <tr>\n",
       "      <th>Sci-Fi</th>\n",
       "      <td>552.0</td>\n",
       "    </tr>\n",
       "    <tr>\n",
       "      <th>Thriller</th>\n",
       "      <td>1200.0</td>\n",
       "    </tr>\n",
       "    <tr>\n",
       "      <th>War</th>\n",
       "      <td>405.0</td>\n",
       "    </tr>\n",
       "    <tr>\n",
       "      <th>Western</th>\n",
       "      <td>314.0</td>\n",
       "    </tr>\n",
       "  </tbody>\n",
       "</table>\n",
       "</div>"
      ],
      "text/plain": [
       "              Count\n",
       "Action       1188.0\n",
       "Adventure    1051.0\n",
       "Animation     491.0\n",
       "Comedy       2968.0\n",
       "Crime         906.0\n",
       "Documentary   991.0\n",
       "Drama        3406.0\n",
       "Family        493.0\n",
       "Fantasy       318.0\n",
       "History       540.0\n",
       "Horror        842.0\n",
       "Music         270.0\n",
       "Musical        11.0\n",
       "Mystery       451.0\n",
       "Romance      1149.0\n",
       "Sci-Fi        552.0\n",
       "Thriller     1200.0\n",
       "War           405.0\n",
       "Western       314.0"
      ]
     },
     "metadata": {},
     "output_type": "display_data"
    },
    {
     "data": {
      "text/markdown": [
       "#### Average Test Metrics with QDA"
      ],
      "text/plain": [
       "<IPython.core.display.Markdown object>"
      ]
     },
     "metadata": {},
     "output_type": "display_data"
    },
    {
     "data": {
      "text/html": [
       "<div>\n",
       "<table border=\"1\" class=\"dataframe\">\n",
       "  <thead>\n",
       "    <tr style=\"text-align: right;\">\n",
       "      <th></th>\n",
       "      <th>Metric</th>\n",
       "      <th>Value</th>\n",
       "    </tr>\n",
       "  </thead>\n",
       "  <tbody>\n",
       "    <tr>\n",
       "      <th>0</th>\n",
       "      <td>Accuracy</td>\n",
       "      <td>0.8726</td>\n",
       "    </tr>\n",
       "    <tr>\n",
       "      <th>1</th>\n",
       "      <td>Null Accuracy</td>\n",
       "      <td>0.8761</td>\n",
       "    </tr>\n",
       "    <tr>\n",
       "      <th>2</th>\n",
       "      <td>Precision</td>\n",
       "      <td>0.3978</td>\n",
       "    </tr>\n",
       "    <tr>\n",
       "      <th>3</th>\n",
       "      <td>Recall</td>\n",
       "      <td>0.4338</td>\n",
       "    </tr>\n",
       "    <tr>\n",
       "      <th>4</th>\n",
       "      <td>Hamming Loss</td>\n",
       "      <td>0.1284</td>\n",
       "    </tr>\n",
       "  </tbody>\n",
       "</table>\n",
       "</div>"
      ],
      "text/plain": [
       "          Metric   Value\n",
       "0       Accuracy  0.8726\n",
       "1  Null Accuracy  0.8761\n",
       "2      Precision  0.3978\n",
       "3         Recall  0.4338\n",
       "4   Hamming Loss  0.1284"
      ]
     },
     "metadata": {},
     "output_type": "display_data"
    }
   ],
   "source": [
    "test_accu_all_qda_df, y_predict_all_qda, models_qda, qda_metrics = \\\n",
    "    process_one_model(qda, num_pc_qda)"
   ]
  },
  {
   "cell_type": "markdown",
   "metadata": {},
   "source": [
    "### Logistic Regression"
   ]
  },
  {
   "cell_type": "code",
   "execution_count": 71,
   "metadata": {},
   "outputs": [
    {
     "data": {
      "text/markdown": [
       "#### Test Accuracy by Genre with Logistic Regression"
      ],
      "text/plain": [
       "<IPython.core.display.Markdown object>"
      ]
     },
     "metadata": {},
     "output_type": "display_data"
    },
    {
     "data": {
      "text/html": [
       "<div>\n",
       "<table border=\"1\" class=\"dataframe\">\n",
       "  <thead>\n",
       "    <tr style=\"text-align: right;\">\n",
       "      <th></th>\n",
       "      <th>Accuracy</th>\n",
       "    </tr>\n",
       "  </thead>\n",
       "  <tbody>\n",
       "    <tr>\n",
       "      <th>Action</th>\n",
       "      <td>0.81</td>\n",
       "    </tr>\n",
       "    <tr>\n",
       "      <th>Adventure</th>\n",
       "      <td>0.81</td>\n",
       "    </tr>\n",
       "    <tr>\n",
       "      <th>Animation</th>\n",
       "      <td>0.83</td>\n",
       "    </tr>\n",
       "    <tr>\n",
       "      <th>Comedy</th>\n",
       "      <td>0.72</td>\n",
       "    </tr>\n",
       "    <tr>\n",
       "      <th>Crime</th>\n",
       "      <td>0.84</td>\n",
       "    </tr>\n",
       "    <tr>\n",
       "      <th>Documentary</th>\n",
       "      <td>0.92</td>\n",
       "    </tr>\n",
       "    <tr>\n",
       "      <th>Drama</th>\n",
       "      <td>0.70</td>\n",
       "    </tr>\n",
       "    <tr>\n",
       "      <th>Family</th>\n",
       "      <td>0.82</td>\n",
       "    </tr>\n",
       "    <tr>\n",
       "      <th>Fantasy</th>\n",
       "      <td>0.82</td>\n",
       "    </tr>\n",
       "    <tr>\n",
       "      <th>History</th>\n",
       "      <td>0.81</td>\n",
       "    </tr>\n",
       "    <tr>\n",
       "      <th>Horror</th>\n",
       "      <td>0.86</td>\n",
       "    </tr>\n",
       "    <tr>\n",
       "      <th>Music</th>\n",
       "      <td>0.93</td>\n",
       "    </tr>\n",
       "    <tr>\n",
       "      <th>Musical</th>\n",
       "      <td>0.80</td>\n",
       "    </tr>\n",
       "    <tr>\n",
       "      <th>Mystery</th>\n",
       "      <td>0.82</td>\n",
       "    </tr>\n",
       "    <tr>\n",
       "      <th>Romance</th>\n",
       "      <td>0.77</td>\n",
       "    </tr>\n",
       "    <tr>\n",
       "      <th>Sci-Fi</th>\n",
       "      <td>0.89</td>\n",
       "    </tr>\n",
       "    <tr>\n",
       "      <th>Thriller</th>\n",
       "      <td>0.78</td>\n",
       "    </tr>\n",
       "    <tr>\n",
       "      <th>War</th>\n",
       "      <td>0.93</td>\n",
       "    </tr>\n",
       "    <tr>\n",
       "      <th>Western</th>\n",
       "      <td>0.93</td>\n",
       "    </tr>\n",
       "  </tbody>\n",
       "</table>\n",
       "</div>"
      ],
      "text/plain": [
       "             Accuracy\n",
       "Action           0.81\n",
       "Adventure        0.81\n",
       "Animation        0.83\n",
       "Comedy           0.72\n",
       "Crime            0.84\n",
       "Documentary      0.92\n",
       "Drama            0.70\n",
       "Family           0.82\n",
       "Fantasy          0.82\n",
       "History          0.81\n",
       "Horror           0.86\n",
       "Music            0.93\n",
       "Musical          0.80\n",
       "Mystery          0.82\n",
       "Romance          0.77\n",
       "Sci-Fi           0.89\n",
       "Thriller         0.78\n",
       "War              0.93\n",
       "Western          0.93"
      ]
     },
     "metadata": {},
     "output_type": "display_data"
    },
    {
     "name": "stdout",
     "output_type": "stream",
     "text": [
      "\n"
     ]
    },
    {
     "data": {
      "text/markdown": [
       "Percentage of movies having at least one positive prediction = 100.0%"
      ],
      "text/plain": [
       "<IPython.core.display.Markdown object>"
      ]
     },
     "metadata": {},
     "output_type": "display_data"
    },
    {
     "data": {
      "text/markdown": [
       "#### Number of positive predictions on Testing Data with Logistic Regression"
      ],
      "text/plain": [
       "<IPython.core.display.Markdown object>"
      ]
     },
     "metadata": {},
     "output_type": "display_data"
    },
    {
     "data": {
      "text/html": [
       "<div>\n",
       "<table border=\"1\" class=\"dataframe\">\n",
       "  <thead>\n",
       "    <tr style=\"text-align: right;\">\n",
       "      <th></th>\n",
       "      <th>Count</th>\n",
       "    </tr>\n",
       "  </thead>\n",
       "  <tbody>\n",
       "    <tr>\n",
       "      <th>Action</th>\n",
       "      <td>1954.0</td>\n",
       "    </tr>\n",
       "    <tr>\n",
       "      <th>Adventure</th>\n",
       "      <td>1779.0</td>\n",
       "    </tr>\n",
       "    <tr>\n",
       "      <th>Animation</th>\n",
       "      <td>1405.0</td>\n",
       "    </tr>\n",
       "    <tr>\n",
       "      <th>Comedy</th>\n",
       "      <td>2967.0</td>\n",
       "    </tr>\n",
       "    <tr>\n",
       "      <th>Crime</th>\n",
       "      <td>1675.0</td>\n",
       "    </tr>\n",
       "    <tr>\n",
       "      <th>Documentary</th>\n",
       "      <td>1050.0</td>\n",
       "    </tr>\n",
       "    <tr>\n",
       "      <th>Drama</th>\n",
       "      <td>3626.0</td>\n",
       "    </tr>\n",
       "    <tr>\n",
       "      <th>Family</th>\n",
       "      <td>1513.0</td>\n",
       "    </tr>\n",
       "    <tr>\n",
       "      <th>Fantasy</th>\n",
       "      <td>1526.0</td>\n",
       "    </tr>\n",
       "    <tr>\n",
       "      <th>History</th>\n",
       "      <td>1493.0</td>\n",
       "    </tr>\n",
       "    <tr>\n",
       "      <th>Horror</th>\n",
       "      <td>1470.0</td>\n",
       "    </tr>\n",
       "    <tr>\n",
       "      <th>Music</th>\n",
       "      <td>633.0</td>\n",
       "    </tr>\n",
       "    <tr>\n",
       "      <th>Musical</th>\n",
       "      <td>1516.0</td>\n",
       "    </tr>\n",
       "    <tr>\n",
       "      <th>Mystery</th>\n",
       "      <td>1509.0</td>\n",
       "    </tr>\n",
       "    <tr>\n",
       "      <th>Romance</th>\n",
       "      <td>2206.0</td>\n",
       "    </tr>\n",
       "    <tr>\n",
       "      <th>Sci-Fi</th>\n",
       "      <td>1136.0</td>\n",
       "    </tr>\n",
       "    <tr>\n",
       "      <th>Thriller</th>\n",
       "      <td>2306.0</td>\n",
       "    </tr>\n",
       "    <tr>\n",
       "      <th>War</th>\n",
       "      <td>734.0</td>\n",
       "    </tr>\n",
       "    <tr>\n",
       "      <th>Western</th>\n",
       "      <td>657.0</td>\n",
       "    </tr>\n",
       "  </tbody>\n",
       "</table>\n",
       "</div>"
      ],
      "text/plain": [
       "              Count\n",
       "Action       1954.0\n",
       "Adventure    1779.0\n",
       "Animation    1405.0\n",
       "Comedy       2967.0\n",
       "Crime        1675.0\n",
       "Documentary  1050.0\n",
       "Drama        3626.0\n",
       "Family       1513.0\n",
       "Fantasy      1526.0\n",
       "History      1493.0\n",
       "Horror       1470.0\n",
       "Music         633.0\n",
       "Musical      1516.0\n",
       "Mystery      1509.0\n",
       "Romance      2206.0\n",
       "Sci-Fi       1136.0\n",
       "Thriller     2306.0\n",
       "War           734.0\n",
       "Western       657.0"
      ]
     },
     "metadata": {},
     "output_type": "display_data"
    },
    {
     "data": {
      "text/markdown": [
       "#### Average Test Metrics with Logistic Regression"
      ],
      "text/plain": [
       "<IPython.core.display.Markdown object>"
      ]
     },
     "metadata": {},
     "output_type": "display_data"
    },
    {
     "data": {
      "text/html": [
       "<div>\n",
       "<table border=\"1\" class=\"dataframe\">\n",
       "  <thead>\n",
       "    <tr style=\"text-align: right;\">\n",
       "      <th></th>\n",
       "      <th>Metric</th>\n",
       "      <th>Value</th>\n",
       "    </tr>\n",
       "  </thead>\n",
       "  <tbody>\n",
       "    <tr>\n",
       "      <th>0</th>\n",
       "      <td>Accuracy</td>\n",
       "      <td>0.8311</td>\n",
       "    </tr>\n",
       "    <tr>\n",
       "      <th>1</th>\n",
       "      <td>Null Accuracy</td>\n",
       "      <td>0.8761</td>\n",
       "    </tr>\n",
       "    <tr>\n",
       "      <th>2</th>\n",
       "      <td>Precision</td>\n",
       "      <td>0.3617</td>\n",
       "    </tr>\n",
       "    <tr>\n",
       "      <th>3</th>\n",
       "      <td>Recall</td>\n",
       "      <td>0.7867</td>\n",
       "    </tr>\n",
       "    <tr>\n",
       "      <th>4</th>\n",
       "      <td>Hamming Loss</td>\n",
       "      <td>0.1695</td>\n",
       "    </tr>\n",
       "  </tbody>\n",
       "</table>\n",
       "</div>"
      ],
      "text/plain": [
       "          Metric   Value\n",
       "0       Accuracy  0.8311\n",
       "1  Null Accuracy  0.8761\n",
       "2      Precision  0.3617\n",
       "3         Recall  0.7867\n",
       "4   Hamming Loss  0.1695"
      ]
     },
     "metadata": {},
     "output_type": "display_data"
    }
   ],
   "source": [
    "test_accu_all_log_reg_df, y_predict_all_log_reg, models_log_reg, log_reg_metrics = \\\n",
    "    process_one_model(log_reg, num_pc)"
   ]
  },
  {
   "cell_type": "markdown",
   "metadata": {},
   "source": [
    "### LDA"
   ]
  },
  {
   "cell_type": "code",
   "execution_count": 72,
   "metadata": {},
   "outputs": [
    {
     "data": {
      "text/markdown": [
       "#### Test Accuracy by Genre with LDA"
      ],
      "text/plain": [
       "<IPython.core.display.Markdown object>"
      ]
     },
     "metadata": {},
     "output_type": "display_data"
    },
    {
     "data": {
      "text/html": [
       "<div>\n",
       "<table border=\"1\" class=\"dataframe\">\n",
       "  <thead>\n",
       "    <tr style=\"text-align: right;\">\n",
       "      <th></th>\n",
       "      <th>Accuracy</th>\n",
       "    </tr>\n",
       "  </thead>\n",
       "  <tbody>\n",
       "    <tr>\n",
       "      <th>Action</th>\n",
       "      <td>0.58</td>\n",
       "    </tr>\n",
       "    <tr>\n",
       "      <th>Adventure</th>\n",
       "      <td>0.44</td>\n",
       "    </tr>\n",
       "    <tr>\n",
       "      <th>Animation</th>\n",
       "      <td>0.21</td>\n",
       "    </tr>\n",
       "    <tr>\n",
       "      <th>Comedy</th>\n",
       "      <td>0.61</td>\n",
       "    </tr>\n",
       "    <tr>\n",
       "      <th>Crime</th>\n",
       "      <td>0.70</td>\n",
       "    </tr>\n",
       "    <tr>\n",
       "      <th>Documentary</th>\n",
       "      <td>0.90</td>\n",
       "    </tr>\n",
       "    <tr>\n",
       "      <th>Drama</th>\n",
       "      <td>0.70</td>\n",
       "    </tr>\n",
       "    <tr>\n",
       "      <th>Family</th>\n",
       "      <td>0.34</td>\n",
       "    </tr>\n",
       "    <tr>\n",
       "      <th>Fantasy</th>\n",
       "      <td>0.35</td>\n",
       "    </tr>\n",
       "    <tr>\n",
       "      <th>History</th>\n",
       "      <td>0.18</td>\n",
       "    </tr>\n",
       "    <tr>\n",
       "      <th>Horror</th>\n",
       "      <td>0.73</td>\n",
       "    </tr>\n",
       "    <tr>\n",
       "      <th>Music</th>\n",
       "      <td>0.94</td>\n",
       "    </tr>\n",
       "    <tr>\n",
       "      <th>Musical</th>\n",
       "      <td>0.09</td>\n",
       "    </tr>\n",
       "    <tr>\n",
       "      <th>Mystery</th>\n",
       "      <td>0.43</td>\n",
       "    </tr>\n",
       "    <tr>\n",
       "      <th>Romance</th>\n",
       "      <td>0.50</td>\n",
       "    </tr>\n",
       "    <tr>\n",
       "      <th>Sci-Fi</th>\n",
       "      <td>0.85</td>\n",
       "    </tr>\n",
       "    <tr>\n",
       "      <th>Thriller</th>\n",
       "      <td>0.58</td>\n",
       "    </tr>\n",
       "    <tr>\n",
       "      <th>War</th>\n",
       "      <td>0.93</td>\n",
       "    </tr>\n",
       "    <tr>\n",
       "      <th>Western</th>\n",
       "      <td>0.79</td>\n",
       "    </tr>\n",
       "  </tbody>\n",
       "</table>\n",
       "</div>"
      ],
      "text/plain": [
       "             Accuracy\n",
       "Action           0.58\n",
       "Adventure        0.44\n",
       "Animation        0.21\n",
       "Comedy           0.61\n",
       "Crime            0.70\n",
       "Documentary      0.90\n",
       "Drama            0.70\n",
       "Family           0.34\n",
       "Fantasy          0.35\n",
       "History          0.18\n",
       "Horror           0.73\n",
       "Music            0.94\n",
       "Musical          0.09\n",
       "Mystery          0.43\n",
       "Romance          0.50\n",
       "Sci-Fi           0.85\n",
       "Thriller         0.58\n",
       "War              0.93\n",
       "Western          0.79"
      ]
     },
     "metadata": {},
     "output_type": "display_data"
    },
    {
     "name": "stdout",
     "output_type": "stream",
     "text": [
      "\n"
     ]
    },
    {
     "data": {
      "text/markdown": [
       "Percentage of movies having at least one positive prediction = 100.0%"
      ],
      "text/plain": [
       "<IPython.core.display.Markdown object>"
      ]
     },
     "metadata": {},
     "output_type": "display_data"
    },
    {
     "data": {
      "text/markdown": [
       "#### Number of positive predictions on Testing Data with LDA"
      ],
      "text/plain": [
       "<IPython.core.display.Markdown object>"
      ]
     },
     "metadata": {},
     "output_type": "display_data"
    },
    {
     "data": {
      "text/html": [
       "<div>\n",
       "<table border=\"1\" class=\"dataframe\">\n",
       "  <thead>\n",
       "    <tr style=\"text-align: right;\">\n",
       "      <th></th>\n",
       "      <th>Count</th>\n",
       "    </tr>\n",
       "  </thead>\n",
       "  <tbody>\n",
       "    <tr>\n",
       "      <th>Action</th>\n",
       "      <td>3877.0</td>\n",
       "    </tr>\n",
       "    <tr>\n",
       "      <th>Adventure</th>\n",
       "      <td>4596.0</td>\n",
       "    </tr>\n",
       "    <tr>\n",
       "      <th>Animation</th>\n",
       "      <td>5872.0</td>\n",
       "    </tr>\n",
       "    <tr>\n",
       "      <th>Comedy</th>\n",
       "      <td>4586.0</td>\n",
       "    </tr>\n",
       "    <tr>\n",
       "      <th>Crime</th>\n",
       "      <td>2920.0</td>\n",
       "    </tr>\n",
       "    <tr>\n",
       "      <th>Documentary</th>\n",
       "      <td>1166.0</td>\n",
       "    </tr>\n",
       "    <tr>\n",
       "      <th>Drama</th>\n",
       "      <td>3486.0</td>\n",
       "    </tr>\n",
       "    <tr>\n",
       "      <th>Family</th>\n",
       "      <td>5077.0</td>\n",
       "    </tr>\n",
       "    <tr>\n",
       "      <th>Fantasy</th>\n",
       "      <td>5046.0</td>\n",
       "    </tr>\n",
       "    <tr>\n",
       "      <th>History</th>\n",
       "      <td>6046.0</td>\n",
       "    </tr>\n",
       "    <tr>\n",
       "      <th>Horror</th>\n",
       "      <td>2602.0</td>\n",
       "    </tr>\n",
       "    <tr>\n",
       "      <th>Music</th>\n",
       "      <td>559.0</td>\n",
       "    </tr>\n",
       "    <tr>\n",
       "      <th>Musical</th>\n",
       "      <td>6612.0</td>\n",
       "    </tr>\n",
       "    <tr>\n",
       "      <th>Mystery</th>\n",
       "      <td>4540.0</td>\n",
       "    </tr>\n",
       "    <tr>\n",
       "      <th>Romance</th>\n",
       "      <td>4780.0</td>\n",
       "    </tr>\n",
       "    <tr>\n",
       "      <th>Sci-Fi</th>\n",
       "      <td>1455.0</td>\n",
       "    </tr>\n",
       "    <tr>\n",
       "      <th>Thriller</th>\n",
       "      <td>4237.0</td>\n",
       "    </tr>\n",
       "    <tr>\n",
       "      <th>War</th>\n",
       "      <td>750.0</td>\n",
       "    </tr>\n",
       "    <tr>\n",
       "      <th>Western</th>\n",
       "      <td>1660.0</td>\n",
       "    </tr>\n",
       "  </tbody>\n",
       "</table>\n",
       "</div>"
      ],
      "text/plain": [
       "              Count\n",
       "Action       3877.0\n",
       "Adventure    4596.0\n",
       "Animation    5872.0\n",
       "Comedy       4586.0\n",
       "Crime        2920.0\n",
       "Documentary  1166.0\n",
       "Drama        3486.0\n",
       "Family       5077.0\n",
       "Fantasy      5046.0\n",
       "History      6046.0\n",
       "Horror       2602.0\n",
       "Music         559.0\n",
       "Musical      6612.0\n",
       "Mystery      4540.0\n",
       "Romance      4780.0\n",
       "Sci-Fi       1455.0\n",
       "Thriller     4237.0\n",
       "War           750.0\n",
       "Western      1660.0"
      ]
     },
     "metadata": {},
     "output_type": "display_data"
    },
    {
     "data": {
      "text/markdown": [
       "#### Average Test Metrics with LDA"
      ],
      "text/plain": [
       "<IPython.core.display.Markdown object>"
      ]
     },
     "metadata": {},
     "output_type": "display_data"
    },
    {
     "data": {
      "text/html": [
       "<div>\n",
       "<table border=\"1\" class=\"dataframe\">\n",
       "  <thead>\n",
       "    <tr style=\"text-align: right;\">\n",
       "      <th></th>\n",
       "      <th>Metric</th>\n",
       "      <th>Value</th>\n",
       "    </tr>\n",
       "  </thead>\n",
       "  <tbody>\n",
       "    <tr>\n",
       "      <th>0</th>\n",
       "      <td>Accuracy</td>\n",
       "      <td>0.5711</td>\n",
       "    </tr>\n",
       "    <tr>\n",
       "      <th>1</th>\n",
       "      <td>Null Accuracy</td>\n",
       "      <td>0.8761</td>\n",
       "    </tr>\n",
       "    <tr>\n",
       "      <th>2</th>\n",
       "      <td>Precision</td>\n",
       "      <td>0.2514</td>\n",
       "    </tr>\n",
       "    <tr>\n",
       "      <th>3</th>\n",
       "      <td>Recall</td>\n",
       "      <td>0.9194</td>\n",
       "    </tr>\n",
       "    <tr>\n",
       "      <th>4</th>\n",
       "      <td>Hamming Loss</td>\n",
       "      <td>0.4294</td>\n",
       "    </tr>\n",
       "  </tbody>\n",
       "</table>\n",
       "</div>"
      ],
      "text/plain": [
       "          Metric   Value\n",
       "0       Accuracy  0.5711\n",
       "1  Null Accuracy  0.8761\n",
       "2      Precision  0.2514\n",
       "3         Recall  0.9194\n",
       "4   Hamming Loss  0.4294"
      ]
     },
     "metadata": {},
     "output_type": "display_data"
    }
   ],
   "source": [
    "test_accu_all_lda_df, y_predict_all_lda, models_lda, lda_metrics = \\\n",
    "    process_one_model(lda, num_pc)"
   ]
  },
  {
   "cell_type": "markdown",
   "metadata": {},
   "source": [
    "### Gradient Boosting Classifier"
   ]
  },
  {
   "cell_type": "code",
   "execution_count": 73,
   "metadata": {},
   "outputs": [
    {
     "data": {
      "text/markdown": [
       "#### Test Accuracy by Genre with Boosting"
      ],
      "text/plain": [
       "<IPython.core.display.Markdown object>"
      ]
     },
     "metadata": {},
     "output_type": "display_data"
    },
    {
     "data": {
      "text/html": [
       "<div>\n",
       "<table border=\"1\" class=\"dataframe\">\n",
       "  <thead>\n",
       "    <tr style=\"text-align: right;\">\n",
       "      <th></th>\n",
       "      <th>Accuracy</th>\n",
       "    </tr>\n",
       "  </thead>\n",
       "  <tbody>\n",
       "    <tr>\n",
       "      <th>Action</th>\n",
       "      <td>0.88</td>\n",
       "    </tr>\n",
       "    <tr>\n",
       "      <th>Adventure</th>\n",
       "      <td>0.91</td>\n",
       "    </tr>\n",
       "    <tr>\n",
       "      <th>Animation</th>\n",
       "      <td>0.96</td>\n",
       "    </tr>\n",
       "    <tr>\n",
       "      <th>Comedy</th>\n",
       "      <td>0.74</td>\n",
       "    </tr>\n",
       "    <tr>\n",
       "      <th>Crime</th>\n",
       "      <td>0.89</td>\n",
       "    </tr>\n",
       "    <tr>\n",
       "      <th>Documentary</th>\n",
       "      <td>0.95</td>\n",
       "    </tr>\n",
       "    <tr>\n",
       "      <th>Drama</th>\n",
       "      <td>0.68</td>\n",
       "    </tr>\n",
       "    <tr>\n",
       "      <th>Family</th>\n",
       "      <td>0.94</td>\n",
       "    </tr>\n",
       "    <tr>\n",
       "      <th>Fantasy</th>\n",
       "      <td>0.93</td>\n",
       "    </tr>\n",
       "    <tr>\n",
       "      <th>History</th>\n",
       "      <td>0.96</td>\n",
       "    </tr>\n",
       "    <tr>\n",
       "      <th>Horror</th>\n",
       "      <td>0.92</td>\n",
       "    </tr>\n",
       "    <tr>\n",
       "      <th>Music</th>\n",
       "      <td>0.97</td>\n",
       "    </tr>\n",
       "    <tr>\n",
       "      <th>Musical</th>\n",
       "      <td>0.97</td>\n",
       "    </tr>\n",
       "    <tr>\n",
       "      <th>Mystery</th>\n",
       "      <td>0.92</td>\n",
       "    </tr>\n",
       "    <tr>\n",
       "      <th>Romance</th>\n",
       "      <td>0.83</td>\n",
       "    </tr>\n",
       "    <tr>\n",
       "      <th>Sci-Fi</th>\n",
       "      <td>0.94</td>\n",
       "    </tr>\n",
       "    <tr>\n",
       "      <th>Thriller</th>\n",
       "      <td>0.83</td>\n",
       "    </tr>\n",
       "    <tr>\n",
       "      <th>War</th>\n",
       "      <td>0.96</td>\n",
       "    </tr>\n",
       "    <tr>\n",
       "      <th>Western</th>\n",
       "      <td>0.98</td>\n",
       "    </tr>\n",
       "  </tbody>\n",
       "</table>\n",
       "</div>"
      ],
      "text/plain": [
       "             Accuracy\n",
       "Action           0.88\n",
       "Adventure        0.91\n",
       "Animation        0.96\n",
       "Comedy           0.74\n",
       "Crime            0.89\n",
       "Documentary      0.95\n",
       "Drama            0.68\n",
       "Family           0.94\n",
       "Fantasy          0.93\n",
       "History          0.96\n",
       "Horror           0.92\n",
       "Music            0.97\n",
       "Musical          0.97\n",
       "Mystery          0.92\n",
       "Romance          0.83\n",
       "Sci-Fi           0.94\n",
       "Thriller         0.83\n",
       "War              0.96\n",
       "Western          0.98"
      ]
     },
     "metadata": {},
     "output_type": "display_data"
    },
    {
     "name": "stdout",
     "output_type": "stream",
     "text": [
      "\n"
     ]
    },
    {
     "data": {
      "text/markdown": [
       "Percentage of movies having at least one positive prediction = 100.0%"
      ],
      "text/plain": [
       "<IPython.core.display.Markdown object>"
      ]
     },
     "metadata": {},
     "output_type": "display_data"
    },
    {
     "data": {
      "text/markdown": [
       "#### Number of positive predictions on Testing Data with Boosting"
      ],
      "text/plain": [
       "<IPython.core.display.Markdown object>"
      ]
     },
     "metadata": {},
     "output_type": "display_data"
    },
    {
     "data": {
      "text/html": [
       "<div>\n",
       "<table border=\"1\" class=\"dataframe\">\n",
       "  <thead>\n",
       "    <tr style=\"text-align: right;\">\n",
       "      <th></th>\n",
       "      <th>Count</th>\n",
       "    </tr>\n",
       "  </thead>\n",
       "  <tbody>\n",
       "    <tr>\n",
       "      <th>Action</th>\n",
       "      <td>512.0</td>\n",
       "    </tr>\n",
       "    <tr>\n",
       "      <th>Adventure</th>\n",
       "      <td>253.0</td>\n",
       "    </tr>\n",
       "    <tr>\n",
       "      <th>Animation</th>\n",
       "      <td>67.0</td>\n",
       "    </tr>\n",
       "    <tr>\n",
       "      <th>Comedy</th>\n",
       "      <td>1391.0</td>\n",
       "    </tr>\n",
       "    <tr>\n",
       "      <th>Crime</th>\n",
       "      <td>604.0</td>\n",
       "    </tr>\n",
       "    <tr>\n",
       "      <th>Documentary</th>\n",
       "      <td>443.0</td>\n",
       "    </tr>\n",
       "    <tr>\n",
       "      <th>Drama</th>\n",
       "      <td>4336.0</td>\n",
       "    </tr>\n",
       "    <tr>\n",
       "      <th>Family</th>\n",
       "      <td>127.0</td>\n",
       "    </tr>\n",
       "    <tr>\n",
       "      <th>Fantasy</th>\n",
       "      <td>156.0</td>\n",
       "    </tr>\n",
       "    <tr>\n",
       "      <th>History</th>\n",
       "      <td>31.0</td>\n",
       "    </tr>\n",
       "    <tr>\n",
       "      <th>Horror</th>\n",
       "      <td>479.0</td>\n",
       "    </tr>\n",
       "    <tr>\n",
       "      <th>Music</th>\n",
       "      <td>118.0</td>\n",
       "    </tr>\n",
       "    <tr>\n",
       "      <th>Musical</th>\n",
       "      <td>10.0</td>\n",
       "    </tr>\n",
       "    <tr>\n",
       "      <th>Mystery</th>\n",
       "      <td>159.0</td>\n",
       "    </tr>\n",
       "    <tr>\n",
       "      <th>Romance</th>\n",
       "      <td>739.0</td>\n",
       "    </tr>\n",
       "    <tr>\n",
       "      <th>Sci-Fi</th>\n",
       "      <td>314.0</td>\n",
       "    </tr>\n",
       "    <tr>\n",
       "      <th>Thriller</th>\n",
       "      <td>877.0</td>\n",
       "    </tr>\n",
       "    <tr>\n",
       "      <th>War</th>\n",
       "      <td>231.0</td>\n",
       "    </tr>\n",
       "    <tr>\n",
       "      <th>Western</th>\n",
       "      <td>87.0</td>\n",
       "    </tr>\n",
       "  </tbody>\n",
       "</table>\n",
       "</div>"
      ],
      "text/plain": [
       "              Count\n",
       "Action        512.0\n",
       "Adventure     253.0\n",
       "Animation      67.0\n",
       "Comedy       1391.0\n",
       "Crime         604.0\n",
       "Documentary   443.0\n",
       "Drama        4336.0\n",
       "Family        127.0\n",
       "Fantasy       156.0\n",
       "History        31.0\n",
       "Horror        479.0\n",
       "Music         118.0\n",
       "Musical        10.0\n",
       "Mystery       159.0\n",
       "Romance       739.0\n",
       "Sci-Fi        314.0\n",
       "Thriller      877.0\n",
       "War           231.0\n",
       "Western        87.0"
      ]
     },
     "metadata": {},
     "output_type": "display_data"
    },
    {
     "data": {
      "text/markdown": [
       "#### Average Test Metrics with Boosting"
      ],
      "text/plain": [
       "<IPython.core.display.Markdown object>"
      ]
     },
     "metadata": {},
     "output_type": "display_data"
    },
    {
     "data": {
      "text/html": [
       "<div>\n",
       "<table border=\"1\" class=\"dataframe\">\n",
       "  <thead>\n",
       "    <tr style=\"text-align: right;\">\n",
       "      <th></th>\n",
       "      <th>Metric</th>\n",
       "      <th>Value</th>\n",
       "    </tr>\n",
       "  </thead>\n",
       "  <tbody>\n",
       "    <tr>\n",
       "      <th>0</th>\n",
       "      <td>Accuracy</td>\n",
       "      <td>0.9032</td>\n",
       "    </tr>\n",
       "    <tr>\n",
       "      <th>1</th>\n",
       "      <td>Null Accuracy</td>\n",
       "      <td>0.8761</td>\n",
       "    </tr>\n",
       "    <tr>\n",
       "      <th>2</th>\n",
       "      <td>Precision</td>\n",
       "      <td>0.6661</td>\n",
       "    </tr>\n",
       "    <tr>\n",
       "      <th>3</th>\n",
       "      <td>Recall</td>\n",
       "      <td>0.3312</td>\n",
       "    </tr>\n",
       "    <tr>\n",
       "      <th>4</th>\n",
       "      <td>Hamming Loss</td>\n",
       "      <td>0.0964</td>\n",
       "    </tr>\n",
       "  </tbody>\n",
       "</table>\n",
       "</div>"
      ],
      "text/plain": [
       "          Metric   Value\n",
       "0       Accuracy  0.9032\n",
       "1  Null Accuracy  0.8761\n",
       "2      Precision  0.6661\n",
       "3         Recall  0.3312\n",
       "4   Hamming Loss  0.0964"
      ]
     },
     "metadata": {},
     "output_type": "display_data"
    }
   ],
   "source": [
    "test_accu_all_gbc_df, y_predict_all_gbc, models_gbc, gbc_metrics = \\\n",
    "    process_one_model(gbc, num_pc)"
   ]
  },
  {
   "cell_type": "markdown",
   "metadata": {},
   "source": [
    "### Decision Trees"
   ]
  },
  {
   "cell_type": "code",
   "execution_count": 74,
   "metadata": {},
   "outputs": [
    {
     "data": {
      "text/markdown": [
       "#### Test Accuracy by Genre with Decision Tree"
      ],
      "text/plain": [
       "<IPython.core.display.Markdown object>"
      ]
     },
     "metadata": {},
     "output_type": "display_data"
    },
    {
     "data": {
      "text/html": [
       "<div>\n",
       "<table border=\"1\" class=\"dataframe\">\n",
       "  <thead>\n",
       "    <tr style=\"text-align: right;\">\n",
       "      <th></th>\n",
       "      <th>Accuracy</th>\n",
       "    </tr>\n",
       "  </thead>\n",
       "  <tbody>\n",
       "    <tr>\n",
       "      <th>Action</th>\n",
       "      <td>0.78</td>\n",
       "    </tr>\n",
       "    <tr>\n",
       "      <th>Adventure</th>\n",
       "      <td>0.86</td>\n",
       "    </tr>\n",
       "    <tr>\n",
       "      <th>Animation</th>\n",
       "      <td>0.93</td>\n",
       "    </tr>\n",
       "    <tr>\n",
       "      <th>Comedy</th>\n",
       "      <td>0.64</td>\n",
       "    </tr>\n",
       "    <tr>\n",
       "      <th>Crime</th>\n",
       "      <td>0.83</td>\n",
       "    </tr>\n",
       "    <tr>\n",
       "      <th>Documentary</th>\n",
       "      <td>0.92</td>\n",
       "    </tr>\n",
       "    <tr>\n",
       "      <th>Drama</th>\n",
       "      <td>0.59</td>\n",
       "    </tr>\n",
       "    <tr>\n",
       "      <th>Family</th>\n",
       "      <td>0.90</td>\n",
       "    </tr>\n",
       "    <tr>\n",
       "      <th>Fantasy</th>\n",
       "      <td>0.89</td>\n",
       "    </tr>\n",
       "    <tr>\n",
       "      <th>History</th>\n",
       "      <td>0.93</td>\n",
       "    </tr>\n",
       "    <tr>\n",
       "      <th>Horror</th>\n",
       "      <td>0.87</td>\n",
       "    </tr>\n",
       "    <tr>\n",
       "      <th>Music</th>\n",
       "      <td>0.95</td>\n",
       "    </tr>\n",
       "    <tr>\n",
       "      <th>Musical</th>\n",
       "      <td>0.94</td>\n",
       "    </tr>\n",
       "    <tr>\n",
       "      <th>Mystery</th>\n",
       "      <td>0.88</td>\n",
       "    </tr>\n",
       "    <tr>\n",
       "      <th>Romance</th>\n",
       "      <td>0.75</td>\n",
       "    </tr>\n",
       "    <tr>\n",
       "      <th>Sci-Fi</th>\n",
       "      <td>0.90</td>\n",
       "    </tr>\n",
       "    <tr>\n",
       "      <th>Thriller</th>\n",
       "      <td>0.76</td>\n",
       "    </tr>\n",
       "    <tr>\n",
       "      <th>War</th>\n",
       "      <td>0.95</td>\n",
       "    </tr>\n",
       "    <tr>\n",
       "      <th>Western</th>\n",
       "      <td>0.96</td>\n",
       "    </tr>\n",
       "  </tbody>\n",
       "</table>\n",
       "</div>"
      ],
      "text/plain": [
       "             Accuracy\n",
       "Action           0.78\n",
       "Adventure        0.86\n",
       "Animation        0.93\n",
       "Comedy           0.64\n",
       "Crime            0.83\n",
       "Documentary      0.92\n",
       "Drama            0.59\n",
       "Family           0.90\n",
       "Fantasy          0.89\n",
       "History          0.93\n",
       "Horror           0.87\n",
       "Music            0.95\n",
       "Musical          0.94\n",
       "Mystery          0.88\n",
       "Romance          0.75\n",
       "Sci-Fi           0.90\n",
       "Thriller         0.76\n",
       "War              0.95\n",
       "Western          0.96"
      ]
     },
     "metadata": {},
     "output_type": "display_data"
    },
    {
     "name": "stdout",
     "output_type": "stream",
     "text": [
      "\n"
     ]
    },
    {
     "data": {
      "text/markdown": [
       "Percentage of movies having at least one positive prediction = 100.0%"
      ],
      "text/plain": [
       "<IPython.core.display.Markdown object>"
      ]
     },
     "metadata": {},
     "output_type": "display_data"
    },
    {
     "data": {
      "text/markdown": [
       "#### Number of positive predictions on Testing Data with Decision Tree"
      ],
      "text/plain": [
       "<IPython.core.display.Markdown object>"
      ]
     },
     "metadata": {},
     "output_type": "display_data"
    },
    {
     "data": {
      "text/html": [
       "<div>\n",
       "<table border=\"1\" class=\"dataframe\">\n",
       "  <thead>\n",
       "    <tr style=\"text-align: right;\">\n",
       "      <th></th>\n",
       "      <th>Count</th>\n",
       "    </tr>\n",
       "  </thead>\n",
       "  <tbody>\n",
       "    <tr>\n",
       "      <th>Action</th>\n",
       "      <td>1422.0</td>\n",
       "    </tr>\n",
       "    <tr>\n",
       "      <th>Adventure</th>\n",
       "      <td>735.0</td>\n",
       "    </tr>\n",
       "    <tr>\n",
       "      <th>Animation</th>\n",
       "      <td>303.0</td>\n",
       "    </tr>\n",
       "    <tr>\n",
       "      <th>Comedy</th>\n",
       "      <td>2280.0</td>\n",
       "    </tr>\n",
       "    <tr>\n",
       "      <th>Crime</th>\n",
       "      <td>987.0</td>\n",
       "    </tr>\n",
       "    <tr>\n",
       "      <th>Documentary</th>\n",
       "      <td>592.0</td>\n",
       "    </tr>\n",
       "    <tr>\n",
       "      <th>Drama</th>\n",
       "      <td>3638.0</td>\n",
       "    </tr>\n",
       "    <tr>\n",
       "      <th>Family</th>\n",
       "      <td>481.0</td>\n",
       "    </tr>\n",
       "    <tr>\n",
       "      <th>Fantasy</th>\n",
       "      <td>521.0</td>\n",
       "    </tr>\n",
       "    <tr>\n",
       "      <th>History</th>\n",
       "      <td>283.0</td>\n",
       "    </tr>\n",
       "    <tr>\n",
       "      <th>Horror</th>\n",
       "      <td>769.0</td>\n",
       "    </tr>\n",
       "    <tr>\n",
       "      <th>Music</th>\n",
       "      <td>271.0</td>\n",
       "    </tr>\n",
       "    <tr>\n",
       "      <th>Musical</th>\n",
       "      <td>235.0</td>\n",
       "    </tr>\n",
       "    <tr>\n",
       "      <th>Mystery</th>\n",
       "      <td>560.0</td>\n",
       "    </tr>\n",
       "    <tr>\n",
       "      <th>Romance</th>\n",
       "      <td>1428.0</td>\n",
       "    </tr>\n",
       "    <tr>\n",
       "      <th>Sci-Fi</th>\n",
       "      <td>538.0</td>\n",
       "    </tr>\n",
       "    <tr>\n",
       "      <th>Thriller</th>\n",
       "      <td>1437.0</td>\n",
       "    </tr>\n",
       "    <tr>\n",
       "      <th>War</th>\n",
       "      <td>317.0</td>\n",
       "    </tr>\n",
       "    <tr>\n",
       "      <th>Western</th>\n",
       "      <td>178.0</td>\n",
       "    </tr>\n",
       "  </tbody>\n",
       "</table>\n",
       "</div>"
      ],
      "text/plain": [
       "              Count\n",
       "Action       1422.0\n",
       "Adventure     735.0\n",
       "Animation     303.0\n",
       "Comedy       2280.0\n",
       "Crime         987.0\n",
       "Documentary   592.0\n",
       "Drama        3638.0\n",
       "Family        481.0\n",
       "Fantasy       521.0\n",
       "History       283.0\n",
       "Horror        769.0\n",
       "Music         271.0\n",
       "Musical       235.0\n",
       "Mystery       560.0\n",
       "Romance      1428.0\n",
       "Sci-Fi        538.0\n",
       "Thriller     1437.0\n",
       "War           317.0\n",
       "Western       178.0"
      ]
     },
     "metadata": {},
     "output_type": "display_data"
    },
    {
     "data": {
      "text/markdown": [
       "#### Average Test Metrics with Decision Tree"
      ],
      "text/plain": [
       "<IPython.core.display.Markdown object>"
      ]
     },
     "metadata": {},
     "output_type": "display_data"
    },
    {
     "data": {
      "text/html": [
       "<div>\n",
       "<table border=\"1\" class=\"dataframe\">\n",
       "  <thead>\n",
       "    <tr style=\"text-align: right;\">\n",
       "      <th></th>\n",
       "      <th>Metric</th>\n",
       "      <th>Value</th>\n",
       "    </tr>\n",
       "  </thead>\n",
       "  <tbody>\n",
       "    <tr>\n",
       "      <th>0</th>\n",
       "      <td>Accuracy</td>\n",
       "      <td>0.8542</td>\n",
       "    </tr>\n",
       "    <tr>\n",
       "      <th>1</th>\n",
       "      <td>Null Accuracy</td>\n",
       "      <td>0.8761</td>\n",
       "    </tr>\n",
       "    <tr>\n",
       "      <th>2</th>\n",
       "      <td>Precision</td>\n",
       "      <td>0.3495</td>\n",
       "    </tr>\n",
       "    <tr>\n",
       "      <th>3</th>\n",
       "      <td>Recall</td>\n",
       "      <td>0.3557</td>\n",
       "    </tr>\n",
       "    <tr>\n",
       "      <th>4</th>\n",
       "      <td>Hamming Loss</td>\n",
       "      <td>0.1448</td>\n",
       "    </tr>\n",
       "  </tbody>\n",
       "</table>\n",
       "</div>"
      ],
      "text/plain": [
       "          Metric   Value\n",
       "0       Accuracy  0.8542\n",
       "1  Null Accuracy  0.8761\n",
       "2      Precision  0.3495\n",
       "3         Recall  0.3557\n",
       "4   Hamming Loss  0.1448"
      ]
     },
     "metadata": {},
     "output_type": "display_data"
    }
   ],
   "source": [
    "test_accu_all_dtc_df, y_predict_all_dtc, models_dtc, dtc_metrics = \\\n",
    "    process_one_model(dtc, num_pc)"
   ]
  },
  {
   "cell_type": "markdown",
   "metadata": {},
   "source": [
    "### Naive Bayes"
   ]
  },
  {
   "cell_type": "code",
   "execution_count": 75,
   "metadata": {},
   "outputs": [
    {
     "data": {
      "text/markdown": [
       "#### Test Accuracy by Genre with Naive Bayes"
      ],
      "text/plain": [
       "<IPython.core.display.Markdown object>"
      ]
     },
     "metadata": {},
     "output_type": "display_data"
    },
    {
     "data": {
      "text/html": [
       "<div>\n",
       "<table border=\"1\" class=\"dataframe\">\n",
       "  <thead>\n",
       "    <tr style=\"text-align: right;\">\n",
       "      <th></th>\n",
       "      <th>Accuracy</th>\n",
       "    </tr>\n",
       "  </thead>\n",
       "  <tbody>\n",
       "    <tr>\n",
       "      <th>Action</th>\n",
       "      <td>0.84</td>\n",
       "    </tr>\n",
       "    <tr>\n",
       "      <th>Adventure</th>\n",
       "      <td>0.75</td>\n",
       "    </tr>\n",
       "    <tr>\n",
       "      <th>Animation</th>\n",
       "      <td>0.71</td>\n",
       "    </tr>\n",
       "    <tr>\n",
       "      <th>Comedy</th>\n",
       "      <td>0.68</td>\n",
       "    </tr>\n",
       "    <tr>\n",
       "      <th>Crime</th>\n",
       "      <td>0.83</td>\n",
       "    </tr>\n",
       "    <tr>\n",
       "      <th>Documentary</th>\n",
       "      <td>0.76</td>\n",
       "    </tr>\n",
       "    <tr>\n",
       "      <th>Drama</th>\n",
       "      <td>0.65</td>\n",
       "    </tr>\n",
       "    <tr>\n",
       "      <th>Family</th>\n",
       "      <td>0.92</td>\n",
       "    </tr>\n",
       "    <tr>\n",
       "      <th>Fantasy</th>\n",
       "      <td>0.90</td>\n",
       "    </tr>\n",
       "    <tr>\n",
       "      <th>History</th>\n",
       "      <td>0.68</td>\n",
       "    </tr>\n",
       "    <tr>\n",
       "      <th>Horror</th>\n",
       "      <td>0.83</td>\n",
       "    </tr>\n",
       "    <tr>\n",
       "      <th>Music</th>\n",
       "      <td>0.96</td>\n",
       "    </tr>\n",
       "    <tr>\n",
       "      <th>Musical</th>\n",
       "      <td>0.77</td>\n",
       "    </tr>\n",
       "    <tr>\n",
       "      <th>Mystery</th>\n",
       "      <td>0.86</td>\n",
       "    </tr>\n",
       "    <tr>\n",
       "      <th>Romance</th>\n",
       "      <td>0.77</td>\n",
       "    </tr>\n",
       "    <tr>\n",
       "      <th>Sci-Fi</th>\n",
       "      <td>0.92</td>\n",
       "    </tr>\n",
       "    <tr>\n",
       "      <th>Thriller</th>\n",
       "      <td>0.73</td>\n",
       "    </tr>\n",
       "    <tr>\n",
       "      <th>War</th>\n",
       "      <td>0.96</td>\n",
       "    </tr>\n",
       "    <tr>\n",
       "      <th>Western</th>\n",
       "      <td>0.95</td>\n",
       "    </tr>\n",
       "  </tbody>\n",
       "</table>\n",
       "</div>"
      ],
      "text/plain": [
       "             Accuracy\n",
       "Action           0.84\n",
       "Adventure        0.75\n",
       "Animation        0.71\n",
       "Comedy           0.68\n",
       "Crime            0.83\n",
       "Documentary      0.76\n",
       "Drama            0.65\n",
       "Family           0.92\n",
       "Fantasy          0.90\n",
       "History          0.68\n",
       "Horror           0.83\n",
       "Music            0.96\n",
       "Musical          0.77\n",
       "Mystery          0.86\n",
       "Romance          0.77\n",
       "Sci-Fi           0.92\n",
       "Thriller         0.73\n",
       "War              0.96\n",
       "Western          0.95"
      ]
     },
     "metadata": {},
     "output_type": "display_data"
    },
    {
     "name": "stdout",
     "output_type": "stream",
     "text": [
      "\n"
     ]
    },
    {
     "data": {
      "text/markdown": [
       "Percentage of movies having at least one positive prediction = 100.0%"
      ],
      "text/plain": [
       "<IPython.core.display.Markdown object>"
      ]
     },
     "metadata": {},
     "output_type": "display_data"
    },
    {
     "data": {
      "text/markdown": [
       "#### Number of positive predictions on Testing Data with Naive Bayes"
      ],
      "text/plain": [
       "<IPython.core.display.Markdown object>"
      ]
     },
     "metadata": {},
     "output_type": "display_data"
    },
    {
     "data": {
      "text/html": [
       "<div>\n",
       "<table border=\"1\" class=\"dataframe\">\n",
       "  <thead>\n",
       "    <tr style=\"text-align: right;\">\n",
       "      <th></th>\n",
       "      <th>Count</th>\n",
       "    </tr>\n",
       "  </thead>\n",
       "  <tbody>\n",
       "    <tr>\n",
       "      <th>Action</th>\n",
       "      <td>1025.0</td>\n",
       "    </tr>\n",
       "    <tr>\n",
       "      <th>Adventure</th>\n",
       "      <td>1895.0</td>\n",
       "    </tr>\n",
       "    <tr>\n",
       "      <th>Animation</th>\n",
       "      <td>2084.0</td>\n",
       "    </tr>\n",
       "    <tr>\n",
       "      <th>Comedy</th>\n",
       "      <td>2847.0</td>\n",
       "    </tr>\n",
       "    <tr>\n",
       "      <th>Crime</th>\n",
       "      <td>1023.0</td>\n",
       "    </tr>\n",
       "    <tr>\n",
       "      <th>Documentary</th>\n",
       "      <td>2002.0</td>\n",
       "    </tr>\n",
       "    <tr>\n",
       "      <th>Drama</th>\n",
       "      <td>3214.0</td>\n",
       "    </tr>\n",
       "    <tr>\n",
       "      <th>Family</th>\n",
       "      <td>482.0</td>\n",
       "    </tr>\n",
       "    <tr>\n",
       "      <th>Fantasy</th>\n",
       "      <td>659.0</td>\n",
       "    </tr>\n",
       "    <tr>\n",
       "      <th>History</th>\n",
       "      <td>2330.0</td>\n",
       "    </tr>\n",
       "    <tr>\n",
       "      <th>Horror</th>\n",
       "      <td>1097.0</td>\n",
       "    </tr>\n",
       "    <tr>\n",
       "      <th>Music</th>\n",
       "      <td>283.0</td>\n",
       "    </tr>\n",
       "    <tr>\n",
       "      <th>Musical</th>\n",
       "      <td>1671.0</td>\n",
       "    </tr>\n",
       "    <tr>\n",
       "      <th>Mystery</th>\n",
       "      <td>780.0</td>\n",
       "    </tr>\n",
       "    <tr>\n",
       "      <th>Romance</th>\n",
       "      <td>1802.0</td>\n",
       "    </tr>\n",
       "    <tr>\n",
       "      <th>Sci-Fi</th>\n",
       "      <td>616.0</td>\n",
       "    </tr>\n",
       "    <tr>\n",
       "      <th>Thriller</th>\n",
       "      <td>1614.0</td>\n",
       "    </tr>\n",
       "    <tr>\n",
       "      <th>War</th>\n",
       "      <td>402.0</td>\n",
       "    </tr>\n",
       "    <tr>\n",
       "      <th>Western</th>\n",
       "      <td>423.0</td>\n",
       "    </tr>\n",
       "  </tbody>\n",
       "</table>\n",
       "</div>"
      ],
      "text/plain": [
       "              Count\n",
       "Action       1025.0\n",
       "Adventure    1895.0\n",
       "Animation    2084.0\n",
       "Comedy       2847.0\n",
       "Crime        1023.0\n",
       "Documentary  2002.0\n",
       "Drama        3214.0\n",
       "Family        482.0\n",
       "Fantasy       659.0\n",
       "History      2330.0\n",
       "Horror       1097.0\n",
       "Music         283.0\n",
       "Musical      1671.0\n",
       "Mystery       780.0\n",
       "Romance      1802.0\n",
       "Sci-Fi        616.0\n",
       "Thriller     1614.0\n",
       "War           402.0\n",
       "Western       423.0"
      ]
     },
     "metadata": {},
     "output_type": "display_data"
    },
    {
     "data": {
      "text/markdown": [
       "#### Average Test Metrics with Naive Bayes"
      ],
      "text/plain": [
       "<IPython.core.display.Markdown object>"
      ]
     },
     "metadata": {},
     "output_type": "display_data"
    },
    {
     "data": {
      "text/html": [
       "<div>\n",
       "<table border=\"1\" class=\"dataframe\">\n",
       "  <thead>\n",
       "    <tr style=\"text-align: right;\">\n",
       "      <th></th>\n",
       "      <th>Metric</th>\n",
       "      <th>Value</th>\n",
       "    </tr>\n",
       "  </thead>\n",
       "  <tbody>\n",
       "    <tr>\n",
       "      <th>0</th>\n",
       "      <td>Accuracy</td>\n",
       "      <td>0.8142</td>\n",
       "    </tr>\n",
       "    <tr>\n",
       "      <th>1</th>\n",
       "      <td>Null Accuracy</td>\n",
       "      <td>0.8761</td>\n",
       "    </tr>\n",
       "    <tr>\n",
       "      <th>2</th>\n",
       "      <td>Precision</td>\n",
       "      <td>0.3530</td>\n",
       "    </tr>\n",
       "    <tr>\n",
       "      <th>3</th>\n",
       "      <td>Recall</td>\n",
       "      <td>0.5521</td>\n",
       "    </tr>\n",
       "    <tr>\n",
       "      <th>4</th>\n",
       "      <td>Hamming Loss</td>\n",
       "      <td>0.1849</td>\n",
       "    </tr>\n",
       "  </tbody>\n",
       "</table>\n",
       "</div>"
      ],
      "text/plain": [
       "          Metric   Value\n",
       "0       Accuracy  0.8142\n",
       "1  Null Accuracy  0.8761\n",
       "2      Precision  0.3530\n",
       "3         Recall  0.5521\n",
       "4   Hamming Loss  0.1849"
      ]
     },
     "metadata": {},
     "output_type": "display_data"
    }
   ],
   "source": [
    "test_accu_all_nb_df, y_predict_all_nb, models_nb, nb_metrics = \\\n",
    "    process_one_model(nb, num_pc)"
   ]
  },
  {
   "cell_type": "markdown",
   "metadata": {},
   "source": [
    "#### Comparing Test Accuracy with Random Forest, QDA, and Boosting"
   ]
  },
  {
   "cell_type": "code",
   "execution_count": 76,
   "metadata": {},
   "outputs": [
    {
     "name": "stdout",
     "output_type": "stream",
     "text": [
      "\n"
     ]
    },
    {
     "data": {
      "image/png": "[encoded data removed]",
      "text/plain": [
       "<matplotlib.figure.Figure at 0x12f78f390>"
      ]
     },
     "metadata": {},
     "output_type": "display_data"
    }
   ],
   "source": [
    "### plot genre accuracy for RF vs. QDA\n",
    "test_accu_all_rf_df = test_accu_all_rf_df.sort_values(by = 'Accuracy', \n",
    "                                                      ascending = False)\n",
    "test_accu_all_qda_df = test_accu_all_qda_df.sort_values(by = 'Accuracy', \n",
    "                                                        ascending = False)\n",
    "test_accu_all_gbc_df = test_accu_all_gbc_df.sort_values(by = 'Accuracy', \n",
    "                                                        ascending = False)\n",
    "\n",
    "width = 0.25\n",
    "\n",
    "print\n",
    "fig = plt.figure(figsize = (12, 6))\n",
    "\n",
    "ax = fig.add_subplot(1, 1, 1)\n",
    "rects_1 = ax.bar(range(num_genres), \n",
    "       test_accu_all_rf_df.Accuracy, width = width, color = 'royalblue', \n",
    "       edgecolor = 'white')\n",
    "rects_2 = ax.bar(np.repeat(0.25, num_genres) + range(num_genres), \n",
    "       test_accu_all_qda_df.Accuracy, width = width, color = 'seagreen', \n",
    "       edgecolor = 'white')\n",
    "rects_3 = ax.bar(np.repeat(0.5, num_genres) + range(num_genres), \n",
    "       test_accu_all_gbc_df.Accuracy, width = width, color = 'chocolate', \n",
    "       edgecolor = 'white')\n",
    "ax.set_xticks(range(num_genres))\n",
    "ax.set_xticklabels(test_accu_all_rf_df.index.values, rotation = 90)\n",
    "ax.set_xlabel(\"Genre\")\n",
    "ax.set_ylabel(\"Accuracy\")\n",
    "ax.set_title(\"Language Model: Test Accuracy by Genre with RF, QDA, and GBC Models\")\n",
    "ax.legend((rects_1[0], rects_2[0], rects_3[0]), ('RF', 'QDA', 'GBC'))\n",
    "\n",
    "plt.tight_layout()\n",
    "plt.show()"
   ]
  },
  {
   "cell_type": "markdown",
   "metadata": {},
   "source": [
    "#### Comparing Metrics with Random Forest, QDA, and Boosting"
   ]
  },
  {
   "cell_type": "code",
   "execution_count": 77,
   "metadata": {
    "collapsed": true
   },
   "outputs": [],
   "source": [
    "all_metrics = pd.concat([rf_metrics, qda_metrics, gbc_metrics], axis = 0)\n",
    "accuracy_metrics = all_metrics[all_metrics.Metric == 'Accuracy']\n",
    "precision_metrics = all_metrics[all_metrics.Metric == 'Precision']\n",
    "recall_metrics = all_metrics[all_metrics.Metric == 'Recall']\n",
    "hamming_metrics = all_metrics[all_metrics.Metric == 'Hamming Loss']"
   ]
  },
  {
   "cell_type": "code",
   "execution_count": 78,
   "metadata": {},
   "outputs": [
    {
     "name": "stdout",
     "output_type": "stream",
     "text": [
      "\n"
     ]
    },
    {
     "data": {
      "image/png": "[encoded data removed]",
      "text/plain": [
       "<matplotlib.figure.Figure at 0x117e79350>"
      ]
     },
     "metadata": {},
     "output_type": "display_data"
    }
   ],
   "source": [
    "width = 0.33\n",
    "num_models = accuracy_metrics.shape[0]\n",
    "\n",
    "print\n",
    "fig = plt.figure(figsize = (14, 5))\n",
    "\n",
    "ax1 = fig.add_subplot(1, 4, 1)\n",
    "ax1.bar(range(num_models), accuracy_metrics.Value, width = width, color = 'darkblue', \n",
    "       edgecolor = 'white')\n",
    "ax1.set_xticks(range(num_models))\n",
    "ax1.set_xticklabels(accuracy_metrics.Method, rotation = 90)\n",
    "ax1.set_xlabel(\"Method\")\n",
    "ax1.set_ylabel(\"Accuracy\")\n",
    "ax1.set_title(\"Accuracy by Method\")\n",
    "\n",
    "ax2 = fig.add_subplot(1, 4, 2)\n",
    "ax2.bar(range(num_models), precision_metrics.Value, width = width, color = 'darkgreen', \n",
    "       edgecolor = 'white')\n",
    "ax2.set_xticks(range(num_models))\n",
    "ax2.set_xticklabels(precision_metrics.Method, rotation = 90)\n",
    "ax2.set_xlabel(\"Method\")\n",
    "ax2.set_ylabel(\"Precision\")\n",
    "ax2.set_title(\"Precision by Method\")\n",
    "              \n",
    "ax3 = fig.add_subplot(1, 4, 3)\n",
    "ax3.bar(range(num_models), recall_metrics.Value, width = width, color = 'darkred', \n",
    "       edgecolor = 'white')\n",
    "ax3.set_xticks(range(num_models))\n",
    "ax3.set_xticklabels(recall_metrics.Method, rotation = 90)\n",
    "ax3.set_xlabel(\"Method\")\n",
    "ax3.set_ylabel(\"Recall\")\n",
    "ax3.set_title(\"Recall by Method\")\n",
    "              \n",
    "ax4 = fig.add_subplot(1, 4, 4)\n",
    "ax4.bar(range(num_models), hamming_metrics.Value, width = width, color = 'darkgoldenrod', \n",
    "       edgecolor = 'white')\n",
    "ax4.set_xticks(range(num_models))\n",
    "ax4.set_xticklabels(hamming_metrics.Method, rotation = 90)\n",
    "ax4.set_xlabel(\"Method\")\n",
    "ax4.set_ylabel(\"Hamming Loss\")\n",
    "ax4.set_title(\"Hamming Loss by Method\")\n",
    "      \n",
    "plt.tight_layout()\n",
    "plt.show()"
   ]
  },
  {
   "cell_type": "markdown",
   "metadata": {},
   "source": [
    "### Ensemble Models"
   ]
  },
  {
   "cell_type": "markdown",
   "metadata": {},
   "source": [
    "#### Function to Fit and Score a Stacked Model"
   ]
  },
  {
   "cell_type": "code",
   "execution_count": 79,
   "metadata": {
    "collapsed": true
   },
   "outputs": [],
   "source": [
    "# function to fit and score a stacking model\n",
    "def fit_score_stacking(models, combiner, x_train, y_train, x_test, y_test):\n",
    "    \n",
    "    #----- fit model\n",
    "    \n",
    "    num_models = len(models)\n",
    "    n_train = x_train.shape[0]\n",
    "    n_test = x_test.shape[0]\n",
    "    \n",
    "    # create variables to hold predictions\n",
    "    y_train_stack = np.zeros((n_train, num_models))\n",
    "    y_test_stack = np.zeros((n_test, num_models))\n",
    "    y_predict = np.zeros(n_test)\n",
    "    \n",
    "    # predict with each model on training and testing data\n",
    "    for index in range(num_models):\n",
    "        model = models[index]\n",
    "        \n",
    "        long_name = str(type(model))\n",
    "        short_name = re.sub('.*\\.', '', long_name)\n",
    "        short_name = re.sub('\\'>', '', short_name)\n",
    "        \n",
    "        this_num_pc = num_pc_qda if short_name == \"QuadraticDiscriminantAnalysis\" else num_pc\n",
    "        y_train_stack[:, index] = model.predict_proba(x_train[:, :this_num_pc])[:, 1]\n",
    "        y_test_stack[:, index] = model.predict_proba(x_test[:, :this_num_pc])[:, 1]\n",
    "    \n",
    "    # predict with combined models\n",
    "    combiner.fit(y_train_stack, y_train)\n",
    "    y_test_predict = combiner.predict(y_test_stack)\n",
    "    \n",
    "    #----- score model\n",
    "    \n",
    "    test_accu = (y_test_predict == y_test).sum() / float(n_test)\n",
    "    \n",
    "    y_test_null_predict = np.zeros([y_test.shape[0]])\n",
    "    test_null_accu = (y_test.values == y_test_null_predict).sum() / float(y_test.shape[0])\n",
    "    \n",
    "    test_positives = y_test_predict.sum()\n",
    "    \n",
    "    test_precision = precision_score(y_test, y_test_predict, average = 'binary')\n",
    "    \n",
    "    test_recall = recall_score(y_test, y_test_predict, average = 'binary')\n",
    "    \n",
    "    test_hamming = hamming_loss(y_test, y_test_predict)\n",
    "    \n",
    "    return test_accu, test_null_accu, test_precision, test_recall, \\\n",
    "        test_hamming, test_positives"
   ]
  },
  {
   "cell_type": "markdown",
   "metadata": {},
   "source": [
    "#### Different Genre Types - Stacked Models"
   ]
  },
  {
   "cell_type": "code",
   "execution_count": 80,
   "metadata": {
    "collapsed": true
   },
   "outputs": [],
   "source": [
    "y_predict_all_stack = np.zeros([x_test.shape[0], num_genres])\n",
    "test_accu_all_stack = np.zeros(num_genres)\n",
    "test_null_accu_all_stack = np.zeros(num_genres)\n",
    "test_precision_all_stack = np.zeros(num_genres)\n",
    "test_recall_all_stack = np.zeros(num_genres)\n",
    "test_hamming_all_stack = np.zeros(num_genres)\n",
    "test_positives_all_stack = np.zeros(num_genres)\n",
    "\n",
    "# fit and score model on each genre\n",
    "combiner = RFC()\n",
    "for i in range(num_genres):\n",
    "    models = [models_rf[i], models_qda[i], models_log_reg[i], models_lda[i],\n",
    "             models_gbc[i], models_nb[i]]\n",
    "    \n",
    "    test_accu_all_stack[i], test_null_accu_all_stack[i], test_precision_all_stack[i], \\\n",
    "    test_recall_all_stack[i], test_hamming_all_stack[i], test_positives_all_stack[i] = \\\n",
    "        fit_score_stacking(models, combiner,\n",
    "                           x_train_pca, y_train.iloc[:, i], \n",
    "                           x_test_pca, y_test.iloc[:, i])"
   ]
  },
  {
   "cell_type": "markdown",
   "metadata": {},
   "source": [
    "#### Average Test Metrics with Stacking"
   ]
  },
  {
   "cell_type": "code",
   "execution_count": 81,
   "metadata": {},
   "outputs": [
    {
     "data": {
      "text/html": [
       "<div>\n",
       "<table border=\"1\" class=\"dataframe\">\n",
       "  <thead>\n",
       "    <tr style=\"text-align: right;\">\n",
       "      <th></th>\n",
       "      <th>Metric</th>\n",
       "      <th>Value</th>\n",
       "    </tr>\n",
       "  </thead>\n",
       "  <tbody>\n",
       "    <tr>\n",
       "      <th>0</th>\n",
       "      <td>Accuracy</td>\n",
       "      <td>0.8973</td>\n",
       "    </tr>\n",
       "    <tr>\n",
       "      <th>1</th>\n",
       "      <td>Null Accuracy</td>\n",
       "      <td>0.8761</td>\n",
       "    </tr>\n",
       "    <tr>\n",
       "      <th>2</th>\n",
       "      <td>Precision</td>\n",
       "      <td>0.6858</td>\n",
       "    </tr>\n",
       "    <tr>\n",
       "      <th>3</th>\n",
       "      <td>Recall</td>\n",
       "      <td>0.2535</td>\n",
       "    </tr>\n",
       "    <tr>\n",
       "      <th>4</th>\n",
       "      <td>Hamming Loss</td>\n",
       "      <td>0.1027</td>\n",
       "    </tr>\n",
       "  </tbody>\n",
       "</table>\n",
       "</div>"
      ],
      "text/plain": [
       "          Metric   Value\n",
       "0       Accuracy  0.8973\n",
       "1  Null Accuracy  0.8761\n",
       "2      Precision  0.6858\n",
       "3         Recall  0.2535\n",
       "4   Hamming Loss  0.1027"
      ]
     },
     "metadata": {},
     "output_type": "display_data"
    }
   ],
   "source": [
    "stack_metrics = display_metrics(test_accu_all_stack, test_null_accu_all_stack, \n",
    "                                test_precision_all_stack, test_recall_all_stack, \n",
    "                                test_hamming_all_stack)"
   ]
  },
  {
   "cell_type": "code",
   "execution_count": null,
   "metadata": {
    "collapsed": true
   },
   "outputs": [],
   "source": []
  }
 ],
 "metadata": {
  "anaconda-cloud": {},
  "kernelspec": {
   "display_name": "Python [conda root]",
   "language": "python",
   "name": "conda-root-py"
  },
  "language_info": {
   "codemirror_mode": {
    "name": "ipython",
    "version": 2
   },
   "file_extension": ".py",
   "mimetype": "text/x-python",
   "name": "python",
   "nbconvert_exporter": "python",
   "pygments_lexer": "ipython2",
   "version": "2.7.13"
  }
 },
 "nbformat": 4,
 "nbformat_minor": 1
}

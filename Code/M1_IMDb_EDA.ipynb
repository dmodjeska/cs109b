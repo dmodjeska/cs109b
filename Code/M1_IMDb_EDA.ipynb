{
 "cells": [
  {
   "cell_type": "markdown",
   "metadata": {},
   "source": [
    "## Data Extraction and Manipulation from IMDB text files\n",
    "\n",
    "<h2>Links</h2>\n",
    "\n",
    "<ul>\n",
    "  <li>\n",
    "  <a href=\"https://docs.python.org/2/library/sqlite3.html\">https://docs.python.org/2/library/sqlite3.html</a>\n",
    "  </li>\n",
    "  <li>\n",
    "  <a href=\"http://www.sqlite.org/quickstart.html\">http://www.sqlite.org/quickstart.html</a>\n",
    "  </li>\n",
    "  <li>\n",
    "  <a href=\"http://imdbpy.sourceforge.net\">http://imdbpy.sourceforge.net </a>\n",
    "  </li>\n",
    "</ul>"
   ]
  },
  {
   "cell_type": "code",
   "execution_count": 1,
   "metadata": {
    "collapsed": false
   },
   "outputs": [],
   "source": [
    "import pandas as pd\n",
    "import sqlite3 #pip install sqlite3\n",
    "import subprocess\n",
    "#import urllib\n",
    "import omdb\n",
    "from xml.etree import ElementTree as ET\n",
    "import datetime "
   ]
  },
  {
   "cell_type": "markdown",
   "metadata": {},
   "source": [
    "Create & connect to local SQlite db "
   ]
  },
  {
   "cell_type": "code",
   "execution_count": 2,
   "metadata": {
    "collapsed": false
   },
   "outputs": [],
   "source": [
    "#connect to db\n",
    "#note: creates empty sql db if it does not exist. \n",
    "con = sqlite3.connect('imdbpy/imdb.db')\n",
    "c = con.cursor()"
   ]
  },
  {
   "cell_type": "markdown",
   "metadata": {},
   "source": [
    "Populate database from imdb text file downloads (shell script)"
   ]
  },
  {
   "cell_type": "code",
   "execution_count": null,
   "metadata": {
    "collapsed": true
   },
   "outputs": [],
   "source": [
    "#warning will take a long tome to run (P.S I actualy ran this from the terminal)\n",
    "#result = subprocess.run(\n",
    "#    ['imdbpy2sql.py -d ~/Downloads -u sqlite:imdb.db --sqlite-transactions', '-l']\n",
    "#    , stdout=subprocess.PIPE)\n",
    "#result.stdout"
   ]
  },
  {
   "cell_type": "markdown",
   "metadata": {},
   "source": [
    "DB Admin Tasks"
   ]
  },
  {
   "cell_type": "code",
   "execution_count": 3,
   "metadata": {
    "collapsed": false
   },
   "outputs": [
    {
     "data": {
      "text/plain": [
       "<sqlite3.Cursor at 0x113d280a0>"
      ]
     },
     "execution_count": 3,
     "metadata": {},
     "output_type": "execute_result"
    }
   ],
   "source": [
    "#create index on movie type (kind_type) ie movie, tv ect\n",
    "c.execute(\"CREATE INDEX IF NOT EXISTS title_idx_kind on title (kind_id)\")\n",
    "\n",
    "#rebuilds the database file, repacking it into a minimal amount of disk space\n",
    "c.execute(\"VACUUM\")"
   ]
  },
  {
   "cell_type": "code",
   "execution_count": 4,
   "metadata": {
    "collapsed": false
   },
   "outputs": [
    {
     "data": {
      "text/html": [
       "<div>\n",
       "<table border=\"1\" class=\"dataframe\">\n",
       "  <thead>\n",
       "    <tr style=\"text-align: right;\">\n",
       "      <th></th>\n",
       "      <th>tables</th>\n",
       "    </tr>\n",
       "  </thead>\n",
       "  <tbody>\n",
       "    <tr>\n",
       "      <th>0</th>\n",
       "      <td>name</td>\n",
       "    </tr>\n",
       "    <tr>\n",
       "      <th>1</th>\n",
       "      <td>sqlite_sequence</td>\n",
       "    </tr>\n",
       "    <tr>\n",
       "      <th>2</th>\n",
       "      <td>char_name</td>\n",
       "    </tr>\n",
       "    <tr>\n",
       "      <th>3</th>\n",
       "      <td>company_name</td>\n",
       "    </tr>\n",
       "    <tr>\n",
       "      <th>4</th>\n",
       "      <td>kind_type</td>\n",
       "    </tr>\n",
       "    <tr>\n",
       "      <th>5</th>\n",
       "      <td>title</td>\n",
       "    </tr>\n",
       "    <tr>\n",
       "      <th>6</th>\n",
       "      <td>company_type</td>\n",
       "    </tr>\n",
       "    <tr>\n",
       "      <th>7</th>\n",
       "      <td>aka_name</td>\n",
       "    </tr>\n",
       "    <tr>\n",
       "      <th>8</th>\n",
       "      <td>aka_title</td>\n",
       "    </tr>\n",
       "    <tr>\n",
       "      <th>9</th>\n",
       "      <td>role_type</td>\n",
       "    </tr>\n",
       "    <tr>\n",
       "      <th>10</th>\n",
       "      <td>cast_info</td>\n",
       "    </tr>\n",
       "    <tr>\n",
       "      <th>11</th>\n",
       "      <td>comp_cast_type</td>\n",
       "    </tr>\n",
       "    <tr>\n",
       "      <th>12</th>\n",
       "      <td>complete_cast</td>\n",
       "    </tr>\n",
       "    <tr>\n",
       "      <th>13</th>\n",
       "      <td>info_type</td>\n",
       "    </tr>\n",
       "    <tr>\n",
       "      <th>14</th>\n",
       "      <td>link_type</td>\n",
       "    </tr>\n",
       "    <tr>\n",
       "      <th>15</th>\n",
       "      <td>keyword</td>\n",
       "    </tr>\n",
       "    <tr>\n",
       "      <th>16</th>\n",
       "      <td>movie_keyword</td>\n",
       "    </tr>\n",
       "    <tr>\n",
       "      <th>17</th>\n",
       "      <td>movie_link</td>\n",
       "    </tr>\n",
       "    <tr>\n",
       "      <th>18</th>\n",
       "      <td>movie_info</td>\n",
       "    </tr>\n",
       "    <tr>\n",
       "      <th>19</th>\n",
       "      <td>movie_info_idx</td>\n",
       "    </tr>\n",
       "    <tr>\n",
       "      <th>20</th>\n",
       "      <td>movie_companies</td>\n",
       "    </tr>\n",
       "    <tr>\n",
       "      <th>21</th>\n",
       "      <td>person_info</td>\n",
       "    </tr>\n",
       "    <tr>\n",
       "      <th>22</th>\n",
       "      <td>movie_genre</td>\n",
       "    </tr>\n",
       "  </tbody>\n",
       "</table>\n",
       "</div>"
      ],
      "text/plain": [
       "             tables\n",
       "0              name\n",
       "1   sqlite_sequence\n",
       "2         char_name\n",
       "3      company_name\n",
       "4         kind_type\n",
       "5             title\n",
       "6      company_type\n",
       "7          aka_name\n",
       "8         aka_title\n",
       "9         role_type\n",
       "10        cast_info\n",
       "11   comp_cast_type\n",
       "12    complete_cast\n",
       "13        info_type\n",
       "14        link_type\n",
       "15          keyword\n",
       "16    movie_keyword\n",
       "17       movie_link\n",
       "18       movie_info\n",
       "19   movie_info_idx\n",
       "20  movie_companies\n",
       "21      person_info\n",
       "22      movie_genre"
      ]
     },
     "execution_count": 4,
     "metadata": {},
     "output_type": "execute_result"
    }
   ],
   "source": [
    "#list the tables\n",
    "str_sql = \"SELECT name as tables FROM sqlite_master WHERE type='table';\"\n",
    "tables = pd.read_sql_query(str_sql, con)\n",
    "tables"
   ]
  },
  {
   "cell_type": "markdown",
   "metadata": {},
   "source": [
    "Roll up multiple genres per movie into a piped string"
   ]
  },
  {
   "cell_type": "code",
   "execution_count": 15,
   "metadata": {
    "collapsed": false
   },
   "outputs": [
    {
     "data": {
      "text/html": [
       "<div>\n",
       "<table border=\"1\" class=\"dataframe\">\n",
       "  <thead>\n",
       "    <tr style=\"text-align: right;\">\n",
       "      <th></th>\n",
       "      <th>movie_id</th>\n",
       "      <th>genre</th>\n",
       "      <th>genre_count</th>\n",
       "    </tr>\n",
       "  </thead>\n",
       "  <tbody>\n",
       "    <tr>\n",
       "      <th>0</th>\n",
       "      <td>2891047</td>\n",
       "      <td>Comedy</td>\n",
       "      <td>1</td>\n",
       "    </tr>\n",
       "    <tr>\n",
       "      <th>1</th>\n",
       "      <td>2891048</td>\n",
       "      <td>Comedy</td>\n",
       "      <td>1</td>\n",
       "    </tr>\n",
       "    <tr>\n",
       "      <th>2</th>\n",
       "      <td>2891050</td>\n",
       "      <td>Drama</td>\n",
       "      <td>1</td>\n",
       "    </tr>\n",
       "    <tr>\n",
       "      <th>3</th>\n",
       "      <td>2891051</td>\n",
       "      <td>Animation</td>\n",
       "      <td>1</td>\n",
       "    </tr>\n",
       "    <tr>\n",
       "      <th>4</th>\n",
       "      <td>2891052</td>\n",
       "      <td>Comedy</td>\n",
       "      <td>1</td>\n",
       "    </tr>\n",
       "  </tbody>\n",
       "</table>\n",
       "</div>"
      ],
      "text/plain": [
       "   movie_id      genre  genre_count\n",
       "0   2891047     Comedy            1\n",
       "1   2891048     Comedy            1\n",
       "2   2891050      Drama            1\n",
       "3   2891051  Animation            1\n",
       "4   2891052     Comedy            1"
      ]
     },
     "execution_count": 15,
     "metadata": {},
     "output_type": "execute_result"
    }
   ],
   "source": [
    "#Drop table first incase the script is run a second time\n",
    "c.execute('DROP TABLE IF EXISTS movie_genre;')\n",
    "\n",
    "#create table  \n",
    "# movie_id    : Primary Key, unique identifer for movie\n",
    "# genre       : Pipe seperated list of genres for the movie ie Romantic | Comedy\n",
    "# genre_count : The number of genres ie 2 for Romantic | Comedy\n",
    "\n",
    "#genres (info_type_id = 3)\n",
    "#movie  (kind_id = 1)\n",
    "str_sql = 'CREATE TABLE movie_genre as                      ' + \\\n",
    "          'SELECT                                           ' + \\\n",
    "          '   i.movie_id                   as movie_id      ' + \\\n",
    "          ' , group_concat(i.info,\" | \")   as genre         ' + \\\n",
    "          ' , count(i.info)                as genre_count   ' + \\\n",
    "          'FROM title t                                     ' + \\\n",
    "          '  INNER JOIN movie_info i on (t.id = i.movie_id) ' + \\\n",
    "          'WHERE t.kind_id = 1                              ' + \\\n",
    "          '  AND i.info_type_id = 3                         ' + \\\n",
    "          '  AND i.info != \"Short\"                          ' + \\\n",
    "          'GROUP BY i.movie_id                              '       \n",
    "        \n",
    "c.execute(str_sql)\n",
    "\n",
    "#create index on movie type (kind_type) ie movie, tv ect\n",
    "c.execute(\"CREATE UNIQUE INDEX IF NOT EXISTS pk_movie_genre_movie_id on movie_genre (movie_id)\")\n",
    "\n",
    "#show example table data\n",
    "query_result = pd.read_sql_query(\"select * from movie_genre LIMIT 5\", con)\n",
    "query_result"
   ]
  },
  {
   "cell_type": "markdown",
   "metadata": {},
   "source": [
    "Denormalise the movies language(s)"
   ]
  },
  {
   "cell_type": "code",
   "execution_count": 58,
   "metadata": {
    "collapsed": false
   },
   "outputs": [
    {
     "data": {
      "text/html": [
       "<div>\n",
       "<table border=\"1\" class=\"dataframe\">\n",
       "  <thead>\n",
       "    <tr style=\"text-align: right;\">\n",
       "      <th></th>\n",
       "      <th>movie_id</th>\n",
       "      <th>language</th>\n",
       "      <th>language_count</th>\n",
       "    </tr>\n",
       "  </thead>\n",
       "  <tbody>\n",
       "    <tr>\n",
       "      <th>0</th>\n",
       "      <td>2891047</td>\n",
       "      <td>English</td>\n",
       "      <td>1</td>\n",
       "    </tr>\n",
       "    <tr>\n",
       "      <th>1</th>\n",
       "      <td>2891048</td>\n",
       "      <td>English</td>\n",
       "      <td>1</td>\n",
       "    </tr>\n",
       "    <tr>\n",
       "      <th>2</th>\n",
       "      <td>2891050</td>\n",
       "      <td>English</td>\n",
       "      <td>1</td>\n",
       "    </tr>\n",
       "    <tr>\n",
       "      <th>3</th>\n",
       "      <td>2891051</td>\n",
       "      <td>French</td>\n",
       "      <td>1</td>\n",
       "    </tr>\n",
       "    <tr>\n",
       "      <th>4</th>\n",
       "      <td>2891052</td>\n",
       "      <td>English</td>\n",
       "      <td>1</td>\n",
       "    </tr>\n",
       "  </tbody>\n",
       "</table>\n",
       "</div>"
      ],
      "text/plain": [
       "   movie_id language  language_count\n",
       "0   2891047  English               1\n",
       "1   2891048  English               1\n",
       "2   2891050  English               1\n",
       "3   2891051   French               1\n",
       "4   2891052  English               1"
      ]
     },
     "execution_count": 58,
     "metadata": {},
     "output_type": "execute_result"
    }
   ],
   "source": [
    "c.execute('DROP TABLE IF EXISTS movie_language;')\n",
    "\n",
    "str_sql = 'CREATE TABLE movie_language as                    ' + \\\n",
    "          'SELECT                                            ' + \\\n",
    "          '   i.movie_id                   as movie_id       ' + \\\n",
    "          ' , group_concat(i.info,\" | \")   as language       ' + \\\n",
    "          ' , count(i.info)                as language_count ' + \\\n",
    "          'FROM title t                                      ' + \\\n",
    "          '  INNER JOIN movie_info i on (t.id = i.movie_id)  ' + \\\n",
    "          'WHERE t.kind_id = 1                               ' + \\\n",
    "          '  AND i.info_type_id = 4                          ' + \\\n",
    "          'GROUP BY i.movie_id                               '\n",
    "c.execute(str_sql)\n",
    "\n",
    "#create index on movie type (kind_type) ie movie, tv ect\n",
    "c.execute(\"CREATE UNIQUE INDEX IF NOT EXISTS pk_movie_language_movie_id on movie_language (movie_id)\")\n",
    "\n",
    "#show example table data\n",
    "query_result = pd.read_sql_query(\"select * from movie_language LIMIT 5\", con)\n",
    "query_result"
   ]
  },
  {
   "cell_type": "markdown",
   "metadata": {},
   "source": [
    "- Extract a list of movie names\n",
    "- The IMDB text files do not contain the unique imdb_id code for the movies. \n",
    "- The db comes form the files. So ... the db does not have the imdb_id\n",
    "\n",
    "We will need to extract the imdb by querying using omdb API. But first we need a list of movie titles and production years"
   ]
  },
  {
   "cell_type": "code",
   "execution_count": 43,
   "metadata": {
    "collapsed": false
   },
   "outputs": [
    {
     "data": {
      "text/html": [
       "<div>\n",
       "<table border=\"1\" class=\"dataframe\">\n",
       "  <thead>\n",
       "    <tr style=\"text-align: right;\">\n",
       "      <th></th>\n",
       "      <th>id</th>\n",
       "      <th>title</th>\n",
       "      <th>year</th>\n",
       "    </tr>\n",
       "  </thead>\n",
       "  <tbody>\n",
       "    <tr>\n",
       "      <th>0</th>\n",
       "      <td>2891058</td>\n",
       "      <td>1 Dad</td>\n",
       "      <td>2016</td>\n",
       "    </tr>\n",
       "    <tr>\n",
       "      <th>1</th>\n",
       "      <td>2891102</td>\n",
       "      <td>Alleman</td>\n",
       "      <td>2013</td>\n",
       "    </tr>\n",
       "    <tr>\n",
       "      <th>2</th>\n",
       "      <td>2891103</td>\n",
       "      <td>allthatissolidmeltsintoair</td>\n",
       "      <td>2016</td>\n",
       "    </tr>\n",
       "    <tr>\n",
       "      <th>3</th>\n",
       "      <td>2891104</td>\n",
       "      <td>am/pm</td>\n",
       "      <td>2018</td>\n",
       "    </tr>\n",
       "    <tr>\n",
       "      <th>4</th>\n",
       "      <td>2891111</td>\n",
       "      <td>armoire</td>\n",
       "      <td>2016</td>\n",
       "    </tr>\n",
       "  </tbody>\n",
       "</table>\n",
       "</div>"
      ],
      "text/plain": [
       "        id                       title  year\n",
       "0  2891058                       1 Dad  2016\n",
       "1  2891102                     Alleman  2013\n",
       "2  2891103  allthatissolidmeltsintoair  2016\n",
       "3  2891104                       am/pm  2018\n",
       "4  2891111                     armoire  2016"
      ]
     },
     "execution_count": 43,
     "metadata": {},
     "output_type": "execute_result"
    }
   ],
   "source": [
    "#Extract id, title & year from the local db\n",
    "#id is the unique id for the movie in the local db. it is not the imdb_id\n",
    "#note kind_id = 1 = movies\n",
    "\n",
    "str_sql = 'SELECT id                            ' + \\\n",
    "            ', trim(substr(title,2)) as title   ' + \\\n",
    "            ', ltrim(production_year,4) as year ' + \\\n",
    "          'FROM title                           ' + \\\n",
    "          'WHERE kind_id = 1                    ' + \\\n",
    "          ' AND ifnull(production_year,0) <> 0  ' + \\\n",
    "          ' AND title <> \"#\"                    ' + \\\n",
    "          ' AND imdb_id IS NULL;                '\n",
    "            \n",
    "movie_list = pd.read_sql_query(str_sql, con)\n",
    "movie_list.head(6)"
   ]
  },
  {
   "cell_type": "markdown",
   "metadata": {},
   "source": [
    "Query omdb to gain imdb_id code"
   ]
  },
  {
   "cell_type": "code",
   "execution_count": 44,
   "metadata": {
    "collapsed": false
   },
   "outputs": [
    {
     "name": "stdout",
     "output_type": "stream",
     "text": [
      "0 0 1 17:20:28.614747\n"
     ]
    }
   ],
   "source": [
    "success = 0\n",
    "failure = 0\n",
    "for index, row in movie_list.iterrows():\n",
    "    id    = row['id']\n",
    "    year  = row['year']\n",
    "    title = row['title'].strip()\n",
    "    \n",
    "    #query omdb\n",
    "    try:\n",
    "        res = omdb.request(t=title, y=year, r='xml', type='movie')\n",
    "        xml_content = res.content\n",
    "        \n",
    "        #Check to see if the movie was matched\n",
    "        root = ET.fromstring(xml_content)\n",
    "        if(root.get('response') == 'True'):\n",
    "            \n",
    "            #extract the imdb_id from the top match\n",
    "            imdbID = root.findall('movie')[0].get('imdbID')\n",
    "\n",
    "            #write imdb_id back to database\n",
    "            str_sql = \"UPDATE title SET imdb_id = '\" + imdbID + \"' WHERE id = \" + str(id) \n",
    "            c.execute(str_sql)\n",
    "            success = success + 1\n",
    "        else:\n",
    "            failure = failure + 1\n",
    "        \n",
    "    except:\n",
    "        failure = failure + 1\n",
    "\n",
    "    #every thousand records: print status update \n",
    "    if index % 1000 == 0: \n",
    "        #commit changes to the DB\n",
    "        con.commit()\n",
    "        \n",
    "        #Print status update \n",
    "        print index, success, failure, datetime.datetime.now().time()\n",
    "    con.commit()        "
   ]
  },
  {
   "cell_type": "code",
   "execution_count": 4,
   "metadata": {
    "collapsed": true
   },
   "outputs": [],
   "source": [
    "#Outputs SQL query to csv / utf-8 encoding\n",
    "def sql_to_file(str_sql, file_name):\n",
    "    df = pd.read_sql_query(str_sql, con)\n",
    "    df.to_csv(file_name, encoding='utf-8')\n",
    "    return df"
   ]
  },
  {
   "cell_type": "markdown",
   "metadata": {},
   "source": [
    "Export map between local db keys and imdb_id (include pipe seperated genre data)"
   ]
  },
  {
   "cell_type": "code",
   "execution_count": 62,
   "metadata": {
    "collapsed": false
   },
   "outputs": [
    {
     "name": "stdout",
     "output_type": "stream",
     "text": [
      "exported  44821  records\n"
     ]
    },
    {
     "data": {
      "text/html": [
       "<div>\n",
       "<table border=\"1\" class=\"dataframe\">\n",
       "  <thead>\n",
       "    <tr style=\"text-align: right;\">\n",
       "      <th></th>\n",
       "      <th>id</th>\n",
       "      <th>imdb_id</th>\n",
       "      <th>title</th>\n",
       "      <th>year</th>\n",
       "      <th>genre</th>\n",
       "      <th>genre_count</th>\n",
       "      <th>language</th>\n",
       "      <th>language_count</th>\n",
       "    </tr>\n",
       "  </thead>\n",
       "  <tbody>\n",
       "    <tr>\n",
       "      <th>0</th>\n",
       "      <td>2891050</td>\n",
       "      <td>tt0491587</td>\n",
       "      <td>1</td>\n",
       "      <td>2005</td>\n",
       "      <td>Drama | Short</td>\n",
       "      <td>2.0</td>\n",
       "      <td>English</td>\n",
       "      <td>1.0</td>\n",
       "    </tr>\n",
       "    <tr>\n",
       "      <th>1</th>\n",
       "      <td>2891051</td>\n",
       "      <td>tt0408060</td>\n",
       "      <td>1</td>\n",
       "      <td>2009</td>\n",
       "      <td>Animation | Short</td>\n",
       "      <td>2.0</td>\n",
       "      <td>French</td>\n",
       "      <td>1.0</td>\n",
       "    </tr>\n",
       "    <tr>\n",
       "      <th>2</th>\n",
       "      <td>2891052</td>\n",
       "      <td>tt0926084</td>\n",
       "      <td>1</td>\n",
       "      <td>2010</td>\n",
       "      <td>Comedy | Short</td>\n",
       "      <td>2.0</td>\n",
       "      <td>English</td>\n",
       "      <td>1.0</td>\n",
       "    </tr>\n",
       "    <tr>\n",
       "      <th>3</th>\n",
       "      <td>2891055</td>\n",
       "      <td>tt4856314</td>\n",
       "      <td>1 at the Apocalypse Box Office</td>\n",
       "      <td>2015</td>\n",
       "      <td>Comedy | Short</td>\n",
       "      <td>2.0</td>\n",
       "      <td>English</td>\n",
       "      <td>1.0</td>\n",
       "    </tr>\n",
       "    <tr>\n",
       "      <th>4</th>\n",
       "      <td>2891056</td>\n",
       "      <td>tt3597346</td>\n",
       "      <td>1 Beauty Nail Salon</td>\n",
       "      <td>2014</td>\n",
       "      <td>Drama | History | Short | War</td>\n",
       "      <td>4.0</td>\n",
       "      <td>English</td>\n",
       "      <td>1.0</td>\n",
       "    </tr>\n",
       "  </tbody>\n",
       "</table>\n",
       "</div>"
      ],
      "text/plain": [
       "        id    imdb_id                           title  year  \\\n",
       "0  2891050  tt0491587                               1  2005   \n",
       "1  2891051  tt0408060                               1  2009   \n",
       "2  2891052  tt0926084                               1  2010   \n",
       "3  2891055  tt4856314  1 at the Apocalypse Box Office  2015   \n",
       "4  2891056  tt3597346             1 Beauty Nail Salon  2014   \n",
       "\n",
       "                           genre  genre_count language  language_count  \n",
       "0                  Drama | Short          2.0  English             1.0  \n",
       "1              Animation | Short          2.0   French             1.0  \n",
       "2                 Comedy | Short          2.0  English             1.0  \n",
       "3                 Comedy | Short          2.0  English             1.0  \n",
       "4  Drama | History | Short | War          4.0  English             1.0  "
      ]
     },
     "execution_count": 62,
     "metadata": {},
     "output_type": "execute_result"
    }
   ],
   "source": [
    "str_sql = 'SELECT id                                             ' + \\\n",
    "            ', t.imdb_id                                         ' + \\\n",
    "            ', trim(substr(t.title,2)) as title                  ' + \\\n",
    "            ', ltrim(t.production_year,4) as year                ' + \\\n",
    "            ', g.genre                                           ' + \\\n",
    "            ', g.genre_count                                     ' + \\\n",
    "            ', l.language                                        ' + \\\n",
    "            ', l.language_count                                  ' + \\\n",
    "          'FROM title t                                          ' + \\\n",
    "          ' LEFT OUTER JOIN movie_genre g                        ' + \\\n",
    "          '   on (t.id = g.movie_id)                             ' + \\\n",
    "          ' LEFT OUTER JOIN movie_language l                     ' + \\\n",
    "          '   on (t.id = l.movie_id)                             ' + \\\n",
    "          'WHERE t.kind_id = 1                                   ' + \\\n",
    "          ' AND t.imdb_id IS NOT NULL ;                          '\n",
    "\n",
    "df = sql_to_file(str_sql, 'imdb_id.csv')\n",
    "print 'exported ', len(df), ' records'\n",
    "df.head(5)"
   ]
  },
  {
   "cell_type": "markdown",
   "metadata": {},
   "source": [
    "Export Genre Combination Summary"
   ]
  },
  {
   "cell_type": "code",
   "execution_count": 37,
   "metadata": {
    "collapsed": false
   },
   "outputs": [
    {
     "name": "stdout",
     "output_type": "stream",
     "text": [
      "exported  58291  records\n"
     ]
    },
    {
     "data": {
      "text/html": [
       "<div>\n",
       "<table border=\"1\" class=\"dataframe\">\n",
       "  <thead>\n",
       "    <tr style=\"text-align: right;\">\n",
       "      <th></th>\n",
       "      <th>year</th>\n",
       "      <th>genre_pair</th>\n",
       "      <th>pair_len</th>\n",
       "      <th>movie_count</th>\n",
       "    </tr>\n",
       "  </thead>\n",
       "  <tbody>\n",
       "    <tr>\n",
       "      <th>0</th>\n",
       "      <td>None</td>\n",
       "      <td>Action</td>\n",
       "      <td>1.0</td>\n",
       "      <td>1523</td>\n",
       "    </tr>\n",
       "    <tr>\n",
       "      <th>1</th>\n",
       "      <td>None</td>\n",
       "      <td>Action | Adventure</td>\n",
       "      <td>2.0</td>\n",
       "      <td>107</td>\n",
       "    </tr>\n",
       "    <tr>\n",
       "      <th>2</th>\n",
       "      <td>None</td>\n",
       "      <td>Action | Adventure | Animation</td>\n",
       "      <td>3.0</td>\n",
       "      <td>5</td>\n",
       "    </tr>\n",
       "    <tr>\n",
       "      <th>3</th>\n",
       "      <td>None</td>\n",
       "      <td>Action | Adventure | Animation | Biography | C...</td>\n",
       "      <td>7.0</td>\n",
       "      <td>1</td>\n",
       "    </tr>\n",
       "    <tr>\n",
       "      <th>4</th>\n",
       "      <td>None</td>\n",
       "      <td>Action | Adventure | Animation | Comedy</td>\n",
       "      <td>4.0</td>\n",
       "      <td>3</td>\n",
       "    </tr>\n",
       "  </tbody>\n",
       "</table>\n",
       "</div>"
      ],
      "text/plain": [
       "   year                                         genre_pair  pair_len  \\\n",
       "0  None                                             Action       1.0   \n",
       "1  None                                 Action | Adventure       2.0   \n",
       "2  None                     Action | Adventure | Animation       3.0   \n",
       "3  None  Action | Adventure | Animation | Biography | C...       7.0   \n",
       "4  None            Action | Adventure | Animation | Comedy       4.0   \n",
       "\n",
       "   movie_count  \n",
       "0         1523  \n",
       "1          107  \n",
       "2            5  \n",
       "3            1  \n",
       "4            3  "
      ]
     },
     "execution_count": 37,
     "metadata": {},
     "output_type": "execute_result"
    }
   ],
   "source": [
    "str_sql = 'SELECT                                           ' + \\\n",
    "            '  ltrim(t.production_year,4) as year           ' + \\\n",
    "            ', g.genre                    as genre_pair     ' + \\\n",
    "            ', avg(g.genre_count)         as pair_len       ' + \\\n",
    "            ', COUNT(t.id)                as movie_count    ' + \\\n",
    "          'FROM movie_genre as g                            ' + \\\n",
    "          '  INNER JOIN title t on (g.movie_id = t.id)      ' + \\\n",
    "          'GROUP BY ltrim(t.production_year,4)              ' + \\\n",
    "          '        , g.genre                                '\n",
    "            \n",
    "df = sql_to_file(str_sql, 'GenreCombinationSummary.csv')\n",
    "print 'exported ', len(df), ' records'\n",
    "df.head(5)"
   ]
  },
  {
   "cell_type": "markdown",
   "metadata": {},
   "source": [
    "Export genre count (not unique a movie may be counted in two genres)"
   ]
  },
  {
   "cell_type": "code",
   "execution_count": 42,
   "metadata": {
    "collapsed": false
   },
   "outputs": [
    {
     "name": "stdout",
     "output_type": "stream",
     "text": [
      "exported  3088  records\n"
     ]
    },
    {
     "data": {
      "text/html": [
       "<div>\n",
       "<table border=\"1\" class=\"dataframe\">\n",
       "  <thead>\n",
       "    <tr style=\"text-align: right;\">\n",
       "      <th></th>\n",
       "      <th>year</th>\n",
       "      <th>genre</th>\n",
       "      <th>movie_count</th>\n",
       "    </tr>\n",
       "  </thead>\n",
       "  <tbody>\n",
       "    <tr>\n",
       "      <th>0</th>\n",
       "      <td>None</td>\n",
       "      <td>Action</td>\n",
       "      <td>4103</td>\n",
       "    </tr>\n",
       "    <tr>\n",
       "      <th>1</th>\n",
       "      <td>None</td>\n",
       "      <td>Adult</td>\n",
       "      <td>121</td>\n",
       "    </tr>\n",
       "    <tr>\n",
       "      <th>2</th>\n",
       "      <td>None</td>\n",
       "      <td>Adventure</td>\n",
       "      <td>1720</td>\n",
       "    </tr>\n",
       "    <tr>\n",
       "      <th>3</th>\n",
       "      <td>None</td>\n",
       "      <td>Animation</td>\n",
       "      <td>660</td>\n",
       "    </tr>\n",
       "    <tr>\n",
       "      <th>4</th>\n",
       "      <td>None</td>\n",
       "      <td>Biography</td>\n",
       "      <td>805</td>\n",
       "    </tr>\n",
       "  </tbody>\n",
       "</table>\n",
       "</div>"
      ],
      "text/plain": [
       "   year      genre  movie_count\n",
       "0  None     Action         4103\n",
       "1  None      Adult          121\n",
       "2  None  Adventure         1720\n",
       "3  None  Animation          660\n",
       "4  None  Biography          805"
      ]
     },
     "execution_count": 42,
     "metadata": {},
     "output_type": "execute_result"
    }
   ],
   "source": [
    "str_sql = 'SELECT                                           ' + \\\n",
    "          '  LTRIM(t.production_year,4)   as year           ' + \\\n",
    "          ', i.info                       as genre          ' + \\\n",
    "          ', count(i.info)                as movie_count    ' + \\\n",
    "          'FROM title t                                     ' + \\\n",
    "          '  INNER JOIN movie_info i on (t.id = i.movie_id) ' + \\\n",
    "          'WHERE t.kind_id = 1                              ' + \\\n",
    "          '  AND i.info_type_id = 3                         ' + \\\n",
    "          'GROUP BY LTRIM(t.production_year,4)              ' + \\\n",
    "          '       , i.info                                  '\n",
    "df = sql_to_file(str_sql, 'GenreSummary.csv')\n",
    "print 'exported ', len(df), ' records'\n",
    "df.head(5)"
   ]
  },
  {
   "cell_type": "code",
   "execution_count": 16,
   "metadata": {
    "collapsed": false
   },
   "outputs": [
    {
     "name": "stdout",
     "output_type": "stream",
     "text": [
      "exported  6506  records\n"
     ]
    },
    {
     "data": {
      "text/html": [
       "<div>\n",
       "<table border=\"1\" class=\"dataframe\">\n",
       "  <thead>\n",
       "    <tr style=\"text-align: right;\">\n",
       "      <th></th>\n",
       "      <th>genre</th>\n",
       "      <th>movie_count</th>\n",
       "      <th>genre_count</th>\n",
       "    </tr>\n",
       "  </thead>\n",
       "  <tbody>\n",
       "    <tr>\n",
       "      <th>0</th>\n",
       "      <td>Drama</td>\n",
       "      <td>168075</td>\n",
       "      <td>1.0</td>\n",
       "    </tr>\n",
       "    <tr>\n",
       "      <th>1</th>\n",
       "      <td>Documentary</td>\n",
       "      <td>121552</td>\n",
       "      <td>1.0</td>\n",
       "    </tr>\n",
       "    <tr>\n",
       "      <th>2</th>\n",
       "      <td>Comedy</td>\n",
       "      <td>111909</td>\n",
       "      <td>1.0</td>\n",
       "    </tr>\n",
       "    <tr>\n",
       "      <th>3</th>\n",
       "      <td>Animation</td>\n",
       "      <td>21270</td>\n",
       "      <td>1.0</td>\n",
       "    </tr>\n",
       "    <tr>\n",
       "      <th>4</th>\n",
       "      <td>Horror</td>\n",
       "      <td>19858</td>\n",
       "      <td>1.0</td>\n",
       "    </tr>\n",
       "  </tbody>\n",
       "</table>\n",
       "</div>"
      ],
      "text/plain": [
       "         genre  movie_count  genre_count\n",
       "0        Drama       168075          1.0\n",
       "1  Documentary       121552          1.0\n",
       "2       Comedy       111909          1.0\n",
       "3    Animation        21270          1.0\n",
       "4       Horror        19858          1.0"
      ]
     },
     "execution_count": 16,
     "metadata": {},
     "output_type": "execute_result"
    }
   ],
   "source": [
    "\n",
    "\n",
    "\n",
    "str_sql = 'SELECT                                          ' + \\\n",
    "          '  genre                       as genre          ' + \\\n",
    "          ', count(*)                    as movie_count    ' + \\\n",
    "          ', avg(genre_count)            as genre_count    ' +\\\n",
    "          'FROM movie_genre                                ' + \\\n",
    "          'GROUP BY genre                                  ' + \\\n",
    "          'ORDER BY 2 DESC'  \n",
    "            \n",
    "df = sql_to_file(str_sql, 'GenreSummaryNoYear.csv')\n",
    "print 'exported ', len(df), ' records'\n",
    "df.head(5)"
   ]
  },
  {
   "cell_type": "code",
   "execution_count": 28,
   "metadata": {
    "collapsed": false
   },
   "outputs": [
    {
     "data": {
      "text/html": [
       "<div>\n",
       "<table border=\"1\" class=\"dataframe\">\n",
       "  <thead>\n",
       "    <tr style=\"text-align: right;\">\n",
       "      <th></th>\n",
       "      <th>count(*)</th>\n",
       "    </tr>\n",
       "  </thead>\n",
       "  <tbody>\n",
       "    <tr>\n",
       "      <th>0</th>\n",
       "      <td>262</td>\n",
       "    </tr>\n",
       "  </tbody>\n",
       "</table>\n",
       "</div>"
      ],
      "text/plain": [
       "   count(*)\n",
       "0       262"
      ]
     },
     "execution_count": 28,
     "metadata": {},
     "output_type": "execute_result"
    }
   ],
   "source": [
    "str_sql = 'select sum(movie_count) from batshit where movie_count < 150'  \n",
    "\n",
    "str_sql = 'select count(*) from batshit where movie_count >150'  \n",
    "\n",
    "\n",
    "\n",
    "df = pd.read_sql_query(str_sql, con)\n",
    "df.head(6)"
   ]
  }
 ],
 "metadata": {
  "anaconda-cloud": {},
  "kernelspec": {
   "display_name": "Python [Root]",
   "language": "python",
   "name": "Python [Root]"
  },
  "language_info": {
   "codemirror_mode": {
    "name": "ipython",
    "version": 2
   },
   "file_extension": ".py",
   "mimetype": "text/x-python",
   "name": "python",
   "nbconvert_exporter": "python",
   "pygments_lexer": "ipython2",
   "version": "2.7.12"
  }
 },
 "nbformat": 4,
 "nbformat_minor": 0
}

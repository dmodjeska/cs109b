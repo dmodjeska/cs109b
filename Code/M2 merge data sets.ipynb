{
 "cells": [
  {
   "cell_type": "code",
   "execution_count": 343,
   "metadata": {
    "collapsed": true
   },
   "outputs": [],
   "source": [
    "import pandas as pd\n",
    "from imdb import IMDb\n",
    "import datetime \n",
    "import time\n",
    "import re\n",
    "import numpy as np\n",
    "import sklearn.svm"
   ]
  },
  {
   "cell_type": "markdown",
   "metadata": {},
   "source": [
    "Import Move Data  \n",
    "make sure we are using the same movies across all three data sets"
   ]
  },
  {
   "cell_type": "code",
   "execution_count": 344,
   "metadata": {
    "collapsed": false
   },
   "outputs": [
    {
     "name": "stdout",
     "output_type": "stream",
     "text": [
      "36129\n",
      "37720\n",
      "37967\n",
      "2023923\n"
     ]
    }
   ],
   "source": [
    "#TMDB\n",
    "df_tm        = pd.read_csv('./datasets/input/tmdb_data_trim.csv'\n",
    "                           , encoding='utf-8'\n",
    "                           , usecols = ['id']\n",
    "                          ) \n",
    "df_tm = df_tm.dropna(axis=0, how='any') \n",
    "df_tm.drop_duplicates(inplace=True)\n",
    "\n",
    "#Movie Lense (#dont need 'ml_id' just tmdb_id and imdb_id)\n",
    "df_ml        = pd.read_csv(  './datasets/input/ml_data.csv'                           \n",
    "                           , encoding='utf-8'                           \n",
    "                           , usecols = ['tmdbId','mlId','imdbId'])\n",
    "df_ml = df_ml.dropna(axis=0, how='any')\n",
    "df_ml.drop_duplicates(inplace=True)\n",
    "#drop all non uniqie maps\n",
    "df_ml = df_ml[df_ml.duplicated(subset=['imdbId'],keep=False)==False]\n",
    "\n",
    "#IMDB\n",
    "df_im = pd.read_csv('./datasets/input/imdb_movies.csv',encoding='utf-8',usecols=range(2,15))\n",
    "df_im = df_im.dropna(axis=0, how='all')\n",
    "df_im.drop_duplicates()\n",
    "#Dedup by imdb_id\n",
    "df_im = df_im[df_im.duplicated(subset=['imdb_id'],keep='first')==False]\n",
    "\n",
    "df_im_people = pd.read_csv('./datasets/input/imdb_people.csv',encoding='utf-8') \n",
    "df_im_people.drop_duplicates(inplace=True)\n",
    "\n",
    "print (len(df_tm.index))\n",
    "print (len(df_ml.index))\n",
    "print (len(df_im.index))\n",
    "print (len(df_im_people.index))"
   ]
  },
  {
   "cell_type": "markdown",
   "metadata": {},
   "source": [
    "Filter IMDb to match ids in TMDb"
   ]
  },
  {
   "cell_type": "code",
   "execution_count": 345,
   "metadata": {
    "collapsed": false
   },
   "outputs": [
    {
     "name": "stdout",
     "output_type": "stream",
     "text": [
      "('TMDb  : ', '36129')\n",
      "('M Lens: ', '37720')\n",
      "('IMDb  : ', '36007')\n"
     ]
    }
   ],
   "source": [
    "#get 'imdb_id' for movies in both movile lens and TMDb\n",
    "df_ml_ids = df_tm.merge(df_ml , left_on='id', right_on='tmdbId')\n",
    "df_ml_ids = df_ml_ids[['imdbId','tmdbId','mlId']]  \n",
    "df_ml_ids.drop_duplicates(inplace=True)\n",
    "\n",
    "#limit IMDb to moves that are in both movie lens and TMDb\n",
    "df_im = df_ml_ids.merge(df_im , left_on='imdbId', right_on='imdb_id')\n",
    "#drop duplicate IMDB_id column\n",
    "df_im = df_im.ix[:,1:]\n",
    "\n",
    "print ('TMDb  : ',str(len(df_tm.index)))\n",
    "print ('M Lens: ',str(len(df_ml.index)))\n",
    "print ('IMDb  : ',str(len(df_im.index)))"
   ]
  },
  {
   "cell_type": "markdown",
   "metadata": {},
   "source": [
    "Filter the people"
   ]
  },
  {
   "cell_type": "code",
   "execution_count": 346,
   "metadata": {
    "collapsed": false
   },
   "outputs": [],
   "source": [
    "#limit people to reduced movie list\n",
    "df_imdb_id = pd.DataFrame({'movieid' : df_im['imdb_id']})\n",
    "\n",
    "#df_im_people_trim = df_imdb_id.merge(df_im_people, left_on='movieid', right_on='imdb_id') \n",
    "df_im_people = pd.merge(left = df_imdb_id, right = df_im_people, left_on='movieid', right_on='imbd_id') \n",
    "\n",
    "#drop excess columns and rename\n",
    "df_im_people = df_im_people[['imbd_id', 'name', 'person_id','role_id']]\n",
    "df_im_people.columns = ['imdb_id', 'name', 'person_id','role_id']\n",
    "\n",
    "df_im_people.to_csv('./datasets/output/imdb_people_trim.csv', encoding='utf-8', index=False)"
   ]
  },
  {
   "cell_type": "markdown",
   "metadata": {},
   "source": [
    "clean imdb movie file"
   ]
  },
  {
   "cell_type": "code",
   "execution_count": 347,
   "metadata": {
    "collapsed": false
   },
   "outputs": [
    {
     "data": {
      "text/html": [
       "<div>\n",
       "<table border=\"1\" class=\"dataframe\">\n",
       "  <thead>\n",
       "    <tr style=\"text-align: right;\">\n",
       "      <th></th>\n",
       "      <th>tmdbId</th>\n",
       "      <th>mlId</th>\n",
       "      <th>country_codes</th>\n",
       "      <th>cover_url</th>\n",
       "      <th>cover_url_full</th>\n",
       "      <th>genres</th>\n",
       "      <th>imdb_id</th>\n",
       "      <th>kind</th>\n",
       "      <th>language_codes</th>\n",
       "      <th>plot</th>\n",
       "      <th>plot_outline</th>\n",
       "      <th>rating</th>\n",
       "      <th>runtime</th>\n",
       "      <th>title</th>\n",
       "      <th>votes</th>\n",
       "      <th>is_short</th>\n",
       "    </tr>\n",
       "  </thead>\n",
       "  <tbody>\n",
       "    <tr>\n",
       "      <th>0</th>\n",
       "      <td>862.0</td>\n",
       "      <td>1</td>\n",
       "      <td>us</td>\n",
       "      <td>https://images-na.ssl-images-amazon.com/images...</td>\n",
       "      <td>https://images-na.ssl-images-amazon.com/images...</td>\n",
       "      <td>Animation|Adventure|Comedy|Family|Fantasy</td>\n",
       "      <td>114709</td>\n",
       "      <td>movie</td>\n",
       "      <td>en</td>\n",
       "      <td>A little boy named Andy loves to be in his roo...</td>\n",
       "      <td>A cowboy doll is profoundly threatened and jea...</td>\n",
       "      <td>8.3</td>\n",
       "      <td>81.0</td>\n",
       "      <td>Toy Story</td>\n",
       "      <td>667412.0</td>\n",
       "      <td>False</td>\n",
       "    </tr>\n",
       "  </tbody>\n",
       "</table>\n",
       "</div>"
      ],
      "text/plain": [
       "   tmdbId  mlId country_codes  \\\n",
       "0   862.0     1            us   \n",
       "\n",
       "                                           cover_url  \\\n",
       "0  https://images-na.ssl-images-amazon.com/images...   \n",
       "\n",
       "                                      cover_url_full  \\\n",
       "0  https://images-na.ssl-images-amazon.com/images...   \n",
       "\n",
       "                                      genres  imdb_id   kind language_codes  \\\n",
       "0  Animation|Adventure|Comedy|Family|Fantasy   114709  movie             en   \n",
       "\n",
       "                                                plot  \\\n",
       "0  A little boy named Andy loves to be in his roo...   \n",
       "\n",
       "                                        plot_outline  rating  runtime  \\\n",
       "0  A cowboy doll is profoundly threatened and jea...     8.3     81.0   \n",
       "\n",
       "       title     votes is_short  \n",
       "0  Toy Story  667412.0    False  "
      ]
     },
     "execution_count": 347,
     "metadata": {},
     "output_type": "execute_result"
    }
   ],
   "source": [
    "#strip country code from run time leaving just minutes\n",
    "df_im.runtime = pd.to_numeric(df_im.runtime.str.extract('([0-9]*)', expand=False))\n",
    "#Flag Shorts as feature not a genre\n",
    "df_im[\"is_short\"] = df_im.genres.str.contains('Short').tolist()\n",
    "df_im.head(1)"
   ]
  },
  {
   "cell_type": "markdown",
   "metadata": {},
   "source": [
    "Create Multi label response"
   ]
  },
  {
   "cell_type": "code",
   "execution_count": 348,
   "metadata": {
    "collapsed": false
   },
   "outputs": [],
   "source": [
    "#start response table with just the id key for linkage\n",
    "y = df_im[['imdb_id','genres']]\n",
    "\n",
    "#Split multi value genres column into seperate columns \n",
    "#\"Romantic|Comedy\" -> 0:Romantic , 1: Comedy \n",
    "genres_df = df_im['genres'].str.split(pat=\"[|]\", n=-1, expand=True)\n",
    "\n",
    "#The genres in each column are now singular but all mixed up\n",
    "#1 hot encode each column and populate the y table\n",
    "for column in genres_df.columns:\n",
    "    #1 hot encode\n",
    "    encoding = pd.get_dummies(genres_df[column]) \n",
    "    \n",
    "    for i in xrange(len(encoding.columns)):\n",
    "        if encoding.columns[i] in y.columns:\n",
    "            #the matching encoded genre is already inthe y table\n",
    "            #add the column value to the y table\n",
    "            y[encoding.columns[i]] = y[encoding.columns[i]] + encoding.ix[:,i]            \n",
    "        else:\n",
    "            #genre not in the y table yet\n",
    "            #append the column to the y table\n",
    "            y = pd.concat([y, encoding.ix[:,i]], axis=1)"
   ]
  },
  {
   "cell_type": "code",
   "execution_count": 349,
   "metadata": {
    "collapsed": false
   },
   "outputs": [],
   "source": [
    "df_im = pd.concat([y.ix[:,2:len(y.columns)], df_im], axis=1)"
   ]
  },
  {
   "cell_type": "code",
   "execution_count": 350,
   "metadata": {
    "collapsed": false
   },
   "outputs": [],
   "source": [
    "df_im =  df_im[[   'Action','Adult','Adventure',\n",
    "                'Animation','Biography','Comedy',\n",
    "                'Crime','Documentary','Drama',\n",
    "                'Family','Fantasy','Film-Noir',\n",
    "                'History','Horror','Music',\n",
    "                'Musical','Mystery','Romance',\n",
    "                'Sci-Fi','Short','Sport',\n",
    "                'Talk-Show','Thriller','War',\n",
    "                'Western','Game-Show','News',\n",
    "                'Reality-TV',\n",
    "                'tmdbId','mlId', 'imdb_id','title',\n",
    "                'genres','kind',\n",
    "                'country_codes','language_codes',\n",
    "                'rating','votes','runtime',\n",
    "                'is_short', 'plot','plot_outline'\n",
    "            ]]\n",
    "\n",
    "df_im.to_csv('./datasets/output/imdb_movies_trim.csv', encoding='utf-8', index=False)"
   ]
  }
 ],
 "metadata": {
  "anaconda-cloud": {},
  "kernelspec": {
   "display_name": "Python [Root]",
   "language": "python",
   "name": "Python [Root]"
  },
  "language_info": {
   "codemirror_mode": {
    "name": "ipython",
    "version": 2
   },
   "file_extension": ".py",
   "mimetype": "text/x-python",
   "name": "python",
   "nbconvert_exporter": "python",
   "pygments_lexer": "ipython2",
   "version": "2.7.12"
  }
 },
 "nbformat": 4,
 "nbformat_minor": 0
}

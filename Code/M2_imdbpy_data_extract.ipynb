{
 "cells": [
  {
   "cell_type": "markdown",
   "metadata": {},
   "source": [
    "## Data Extraction and Manipulation from IMDB text files\n",
    "\n",
    "Links\n",
    "\n",
    "<ul>\n",
    "  <li>\n",
    "  <a href=\"http://imdbpy.sourceforge.net\">http://imdbpy.sourceforge.net </a>\n",
    "  </li>\n",
    "</ul>"
   ]
  },
  {
   "cell_type": "code",
   "execution_count": 2,
   "metadata": {
    "collapsed": false
   },
   "outputs": [],
   "source": [
    "import pandas as pd\n",
    "from imdb import IMDb\n",
    "import datetime \n",
    "import time\n",
    "import re\n",
    "import numpy as np"
   ]
  },
  {
   "cell_type": "markdown",
   "metadata": {},
   "source": [
    "Read in movie (imbd_ids) to be downloaded \n",
    "The list of ids comes from the movie lense data set"
   ]
  },
  {
   "cell_type": "code",
   "execution_count": null,
   "metadata": {
    "collapsed": true
   },
   "outputs": [],
   "source": [
    "movie_list = pd.read_csv('./datasets/ml_data.csv', usecols = [\"imdbId\"]) \n",
    "\n",
    "#for re-nrun on failures from first pass\n",
    "#movie_list = pd.read_csv('./datasets/pass2/imdb_fail.csv', usecols=[\"imbd_id\"]) \n",
    "\n",
    "#size of data frame\n",
    "print 'number of movies:', movie_list.shape[0]\n",
    "\n",
    "movie_list.head(10)"
   ]
  },
  {
   "cell_type": "markdown",
   "metadata": {},
   "source": [
    "Role master table (people labels in imdb XML)"
   ]
  },
  {
   "cell_type": "code",
   "execution_count": 21,
   "metadata": {
    "collapsed": true
   },
   "outputs": [],
   "source": [
    "roles    = [\"director\", \"writer\",\"cast\", \"production-manager\"\n",
    "            ,\"original music\",\"casting director\",\"visual effects\"]\n",
    "role_ids = [1,2,3,4,5,6,7] \n",
    "df_roles = pd.DataFrame({'role_id' : role_ids, 'role' : roles })\n",
    "\n",
    "#Roles available but excluded\n",
    "#-music-department\n",
    "#-art direction\n",
    "#-sound-crew\n",
    "#-art-department"
   ]
  },
  {
   "cell_type": "markdown",
   "metadata": {},
   "source": [
    "<h2>imdb helper functions</h2>  \n",
    "  \n",
    "gets all people for a given role & movie"
   ]
  },
  {
   "cell_type": "code",
   "execution_count": 22,
   "metadata": {
    "collapsed": false
   },
   "outputs": [],
   "source": [
    "#returns a dataframe (imbd_id,role_id,person_id,name)\n",
    "def people_in_role(movie, imdb_id, role = \"cast\", role_id = 1):\n",
    "    names=[]\n",
    "    person_ids=[]\n",
    "    n = 0\n",
    "\n",
    "    try: \n",
    "        people_count = len(movie[role])\n",
    "    \n",
    "        for person in movie[role]:\n",
    "            name = str(person)\n",
    "\n",
    "            #Extract the Person ID\n",
    "            person_xml = person.asXML()     \n",
    "            try:\n",
    "                # returns <person id=\"#\">\n",
    "                found = re.search('(<person id=\"([^\"]|\"\")*\")'\n",
    "                                  , person_xml).group(1) \n",
    "                # returns \"#\"\n",
    "                found = re.search('(\"([^\"]|\"\")*\")', found).group(1) \n",
    "\n",
    "                # returns #\n",
    "                person_id = int(found[1:-1])                                 \n",
    "            except AttributeError:\n",
    "                found = '0' \n",
    "\n",
    "            names.append(name)\n",
    "            person_ids.append(person_id) \n",
    "            n = n + 1\n",
    "    except:\n",
    "            #no people in this movie have this role\n",
    "            n = 0\n",
    "            \n",
    "    return pd.DataFrame({   'imbd_id'   : [imdb_id] * n,\n",
    "                             'role_id'   : [role_id] * n,\n",
    "                             'person_id' : person_ids,\n",
    "                             'name'      : names\n",
    "                           })"
   ]
  },
  {
   "cell_type": "markdown",
   "metadata": {},
   "source": [
    "gets all people in all roles for a given movie"
   ]
  },
  {
   "cell_type": "code",
   "execution_count": 23,
   "metadata": {
    "collapsed": true
   },
   "outputs": [],
   "source": [
    "#returns a dataframe (imbd_id,role_id,person_id,name)\n",
    "def people_in_movie(movie, imdb_id):\n",
    "\n",
    "    ls_movie_people = []\n",
    "\n",
    "    df_movie_people = pd.DataFrame({   'imbd_id'   : [0]  * 0,\n",
    "                                       'role_id'   : [0]  * 0,\n",
    "                                       'person_id' : [0]  * 0,\n",
    "                                       'name'      : [''] * 0\n",
    "                                  })\n",
    "\n",
    "    #gather people for each role\n",
    "    for i in xrange((len(df_roles.index))):\n",
    "        role_id = df_roles.role_id[i] #df_roles.loc[i,0].value\n",
    "        role    = df_roles.role[i]\n",
    "\n",
    "        p = people_in_role(movie = movie, imdb_id = imdb_id, role_id = role_id, role = role)\n",
    "        ls_movie_people.append(p)\n",
    "\n",
    "    #gather roles into single dataframe    \n",
    "    df_movie_people = pd.concat(ls_movie_people)\n",
    "\n",
    "    return df_movie_people"
   ]
  },
  {
   "cell_type": "markdown",
   "metadata": {},
   "source": [
    "Gets an XML tag for a movie with a default value if the tag is missing"
   ]
  },
  {
   "cell_type": "code",
   "execution_count": 24,
   "metadata": {
    "collapsed": true
   },
   "outputs": [],
   "source": [
    "#wrapper for imdbpy funciton movie\n",
    "#adds error handeling incase xml tag is missing \n",
    "def movie_isnull(movie, tag_name, default_value=\"\"):\n",
    "  try: \n",
    "    return_val = movie[tag_name]\n",
    "  except:\n",
    "    return_val = default_value\n",
    "  return return_val  "
   ]
  },
  {
   "cell_type": "markdown",
   "metadata": {},
   "source": [
    "<h2>IMDb extract main funciton</h2>  \n",
    "Extract matching imdb movies that are in the movie lense list"
   ]
  },
  {
   "cell_type": "code",
   "execution_count": null,
   "metadata": {
    "collapsed": true
   },
   "outputs": [],
   "source": [
    "#connect to imdb web service\n",
    "ia = IMDb()\n",
    "\n",
    "ls_movie = []\n",
    "ls_people = []\n",
    "ls_fail = []\n",
    "\n",
    "for i in xrange(len(movie_list.index)):\n",
    "    \n",
    "    #Slow the script to avoid overloading the imdb server\n",
    "    time.sleep(.2)\n",
    "    \n",
    "    #retrieve movie object form imdb\n",
    "    imdb_id = movie_list.iloc[i,0]\n",
    "    \n",
    "    try:\n",
    "        #get movie object (contains movie XML data and helper functions)\n",
    "        movie = ia.get_movie(str(imdb_id).zfill(7))\n",
    "\n",
    "        #get 1:1 flat file fields and simple 1:[1D array] fields for movie\n",
    "        d_movie = { 'imdb_id'        : imdb_id,\n",
    "                    'title'          : movie_isnull(movie, \"title\", \"\"),\n",
    "                    'rating'         : movie_isnull(movie, \"rating\", np.nan),\n",
    "                    'votes'          : movie_isnull(movie, \"votes\", np.nan),\n",
    "                    'runtime'        : movie_isnull(movie, \"runtimes\", [np.nan])[0],\n",
    "                    'year'           : movie_isnull(movie, \"year\", np.nan),\n",
    "                    'cover_url'      : movie_isnull(movie, \"cover url\", \"\"),\n",
    "                    'cover_url_full' : movie_isnull(movie, \"cover_url_full\", \"\"),\n",
    "                    'plot_outline'   : movie_isnull(movie, \"plot outline\", \"\"), \n",
    "                    'kind'           : movie_isnull(movie, \"kind\", \"None\"),\n",
    "                    'genres'         : '|'.join(movie_isnull(movie, \"genres\", \"\")),\n",
    "                    'language_codes' : '|'.join(movie_isnull(movie, \"language codes\", \"EN\")),\n",
    "                    'country_codes'  : '|'.join(movie_isnull(movie, \"country codes\", \"\")),\n",
    "                    'plot'           : '\\n'.join(movie_isnull(movie, \"plot\", \"\"))     \n",
    "                  }\n",
    "\n",
    "        #add movie record to list of successful downloads\n",
    "        ls_movie.append(pd.DataFrame.from_records([d_movie]))\n",
    "\n",
    "        #get people (actors, directors, writers ect)\n",
    "        ls_people.append(people_in_movie(movie, imdb_id=imdb_id))\n",
    "    \n",
    "    except:\n",
    "        #record failures for diagnostics and re-run\n",
    "        ls_fail.append(imdb_id)\n",
    "\n",
    "    #every thousand records: print status update \n",
    "    if i % 100 == 0:    \n",
    "        Print status update \n",
    "        print i, len(ls_fail), datetime.datetime.now().time()\n",
    "        \n",
    "df_movies = pd.concat(ls_movie)\n",
    "df_people = pd.concat(ls_people)"
   ]
  },
  {
   "cell_type": "code",
   "execution_count": 30,
   "metadata": {
    "collapsed": false
   },
   "outputs": [],
   "source": [
    "#write results to file\n",
    "df_movies.to_csv('imdb_movies.csv', encoding='utf-8')\n",
    "df_people.to_csv('imdb_people.csv', encoding='utf-8')\n",
    "df_roles.to_csv('imdb_roles.csv', encoding='utf-8')"
   ]
  },
  {
   "cell_type": "code",
   "execution_count": 31,
   "metadata": {
    "collapsed": false
   },
   "outputs": [
    {
     "name": "stdout",
     "output_type": "stream",
     "text": [
      "number of failures: 0\n"
     ]
    }
   ],
   "source": [
    "#write failures to csv\n",
    "df_fail = pd.DataFrame({'imbd_id'  : ls_fail})\n",
    "df_fail.to_csv('imdb_fail.csv', encoding='utf-8')\n",
    "print 'number of failures:', df_fail.shape[0]"
   ]
  },
  {
   "cell_type": "code",
   "execution_count": null,
   "metadata": {
    "collapsed": true
   },
   "outputs": [],
   "source": [
    "#Combine Pass 1 and pass 2\n",
    "df_movies1 = pd.read_csv('./datasets/pass1/imdb_movies.csv') \n",
    "df_movies2 = pd.read_csv('./datasets/pass2/imdb_movies.csv') \n",
    "df_movies = pd.concat([df_movies1,df_movies2])\n",
    "df_movies.to_csv('imdb_movies.csv', encoding='utf-8')\n",
    "print len(df_movies.index)\n",
    "\n",
    "df_people1 = pd.read_csv('./datasets/pass1/imdb_people.csv',encoding='utf-8') \n",
    "df_people2 = pd.read_csv('./datasets/pass2/imdb_people.csv',encoding='utf-8')\n",
    "df_people = pd.concat([df_people1,df_people2])\n",
    "df_people.to_csv('imdb_people.csv', encoding='utf-8')"
   ]
  }
 ],
 "metadata": {
  "anaconda-cloud": {},
  "kernelspec": {
   "display_name": "Python [Root]",
   "language": "python",
   "name": "Python [Root]"
  },
  "language_info": {
   "codemirror_mode": {
    "name": "ipython",
    "version": 2
   },
   "file_extension": ".py",
   "mimetype": "text/x-python",
   "name": "python",
   "nbconvert_exporter": "python",
   "pygments_lexer": "ipython2",
   "version": "2.7.12"
  }
 },
 "nbformat": 4,
 "nbformat_minor": 0
}
